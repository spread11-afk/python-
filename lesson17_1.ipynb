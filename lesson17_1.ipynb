{
 "cells": [
  {
   "cell_type": "code",
   "execution_count": 6,
   "metadata": {},
   "outputs": [
    {
     "name": "stdout",
     "output_type": "stream",
     "text": [
      "姓名:徐國堂\n",
      "age:18\n",
      "體重:70\n",
      "身高:170\n"
     ]
    }
   ],
   "source": [
    "class Person():\n",
    "    def __init__(self,name,age=18,weight=70,height=170):\n",
    "        self.name = name\n",
    "        self.age = age\n",
    "        self.weight=weight\n",
    "        self.height=height\n",
    "\n",
    "    def description(self):\n",
    "        print(f\"姓名:{self.name}\")\n",
    "        print(f\"age:{self.age}\")\n",
    "        print(f\"體重:{self.weight}\")\n",
    "        print(f\"身高:{self.height}\")\n",
    "\n",
    "p1 = Person(name=\"徐國堂\")\n",
    "p1.description()\n"
   ]
  },
  {
   "cell_type": "code",
   "execution_count": 13,
   "metadata": {},
   "outputs": [
    {
     "name": "stdout",
     "output_type": "stream",
     "text": [
      "{'age': 35}\n",
      "姓名:徐國堂\n",
      "age:35\n",
      "體重:70\n",
      "身高:170\n",
      "id:12345\n"
     ]
    }
   ],
   "source": [
    "class Student(Person):\n",
    "    def __init__(self,name,id,**kwargs):\n",
    "        #kwargs = {'age':25,'weight':78,'height':170}\n",
    "        print(kwargs)\n",
    "        super().__init__(name,**kwargs)        \n",
    "        self.id = id\n",
    "\n",
    "    def description(self):        \n",
    "        super().description()\n",
    "        print(f\"id:{self.id}\")\n",
    "\n",
    "\n",
    "stu1 = Student(name=\"徐國堂\",id=\"12345\",age=35)\n",
    "stu1.description()"
   ]
  }
 ],
 "metadata": {
  "kernelspec": {
   "display_name": "venv",
   "language": "python",
   "name": "python3"
  },
  "language_info": {
   "codemirror_mode": {
    "name": "ipython",
    "version": 3
   },
   "file_extension": ".py",
   "mimetype": "text/x-python",
   "name": "python",
   "nbconvert_exporter": "python",
   "pygments_lexer": "ipython3",
   "version": "3.10.8"
  }
 },
 "nbformat": 4,
 "nbformat_minor": 2
}
