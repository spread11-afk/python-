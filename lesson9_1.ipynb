{
 "cells": [
  {
   "cell_type": "code",
   "execution_count": 11,
   "metadata": {},
   "outputs": [
    {
     "name": "stdout",
     "output_type": "stream",
     "text": [
      "請輸入第1個月份的存款:'abc' is not an integer.\n",
      "請輸入第1個月份的存款:'efg' is not an integer.\n",
      "請輸入第1個月份的存款:'thy' is not an integer.\n",
      "請輸入第1個月份的存款:Blank values are not allowed.\n",
      "請輸入第1個月份的存款:Blank values are not allowed.\n",
      "請輸入第1個月份的存款:Blank values are not allowed.\n",
      "請輸入第1個月份的存款:Blank values are not allowed.\n",
      "請輸入第1個月份的存款:123\n",
      "目前距離目標還差:39677\n",
      "=============\n",
      "請輸入第2個月份的存款:49000\n",
      "=============\n",
      "恭喜!已經存夠了,總共存了2月份總存款為:49123\n"
     ]
    }
   ],
   "source": [
    "#小明想要存錢買一輛機車,機車每輛39800元，他將每月存的錢輸入，當存款足夠買機車時，就顯示提示訊息告知。\n",
    "import pyinputplus as pyip\n",
    "\n",
    "month = 0\n",
    "deposit = 0\n",
    "while(deposit < 39800):\n",
    "    month += 1\n",
    "    input_value = pyip.inputInt(f\"請輸入第{month}個月份的存款:\")\n",
    "    print(input_value)\n",
    "    deposit += input_value\n",
    "    if deposit < 39800:\n",
    "        print(f\"目前距離目標還差:{39800-deposit}\")\n",
    "    print(\"=============\")\n",
    "\n",
    "print(f\"恭喜!已經存夠了,總共存了{month}月份總存款為:{deposit}\")\n",
    "                      \n"
   ]
  },
  {
   "cell_type": "code",
   "execution_count": 5,
   "metadata": {},
   "outputs": [
    {
     "name": "stdout",
     "output_type": "stream",
     "text": [
      "a\n",
      "b\n",
      "c\n"
     ]
    }
   ],
   "source": [
    "while(True):\n",
    "    stuff = input(\"請輸入小寫英文字[按q會離開]:\")\n",
    "    if stuff == 'q':\n",
    "        break\n",
    "    print(stuff)"
   ]
  },
  {
   "cell_type": "code",
   "execution_count": 10,
   "metadata": {},
   "outputs": [
    {
     "name": "stdout",
     "output_type": "stream",
     "text": [
      "不作動作,請重新輸入\n",
      "3的平方是9\n",
      "5的平方是25\n",
      "豬頭\n"
     ]
    }
   ],
   "source": [
    "#奇數輸出平方\n",
    "#偶數不做任何動作\n",
    "while(True):\n",
    "    keyin = input(\"請輸入整數,輸入[q]會離開]:\")\n",
    "    if keyin == 'q':\n",
    "        break\n",
    "    try:\n",
    "        value = int(keyin)\n",
    "    except:\n",
    "        print(\"豬頭\")\n",
    "        continue\n",
    "    else:    \n",
    "        if value % 2 == 0:\n",
    "            print(\"不作動作,請重新輸入\")\n",
    "            continue\n",
    "        else:\n",
    "            print(f\"{value}的平方是{value ** 2}\")"
   ]
  },
  {
   "cell_type": "code",
   "execution_count": 15,
   "metadata": {},
   "outputs": [
    {
     "name": "stdout",
     "output_type": "stream",
     "text": [
      "a格式錯誤,請重新輸入\n",
      "b格式錯誤,請重新輸入\n",
      "數值必需在10~20之間\n",
      "15\n"
     ]
    }
   ],
   "source": [
    "\n",
    "while True:\n",
    "    try:\n",
    "        key_in = input(\"請輸入整數:\")\n",
    "        value = int(key_in)\n",
    "    except:\n",
    "        print(f\"{key_in}格式錯誤,請重新輸入\")\n",
    "        continue\n",
    "    else:\n",
    "        if value<=20 and value>=10:\n",
    "            break\n",
    "        else:\n",
    "            print(\"數值必需在10~20之間\")\n",
    "            continue\n",
    "print(value)"
   ]
  },
  {
   "cell_type": "code",
   "execution_count": 4,
   "metadata": {},
   "outputs": [],
   "source": [
    "def input_int(prompt:str,max:int | None = None,min:int | None = None) -> int:\n",
    "    while True:\n",
    "        try:\n",
    "            key_in = input(prompt)\n",
    "            value = int(key_in)\n",
    "        except:\n",
    "            print(f\"{key_in}格式錯誤,請重新輸入\")\n",
    "            continue\n",
    "        else:\n",
    "            if max is not None and min is not None:\n",
    "                if value<=max and value>=min:\n",
    "                    return value\n",
    "                else:\n",
    "                    print(f\"數值必需在{min}~{max}之間\")    \n",
    "                    continue\n",
    "            else:\n",
    "                return value\n",
    "    "
   ]
  },
  {
   "cell_type": "code",
   "execution_count": 2,
   "metadata": {},
   "outputs": [
    {
     "name": "stdout",
     "output_type": "stream",
     "text": [
      "a格式錯誤,請重新輸入\n",
      "100\n"
     ]
    }
   ],
   "source": [
    "value = input_int(prompt=\"請輸入整數:\")\n",
    "print(value)"
   ]
  },
  {
   "cell_type": "code",
   "execution_count": 5,
   "metadata": {},
   "outputs": [
    {
     "name": "stdout",
     "output_type": "stream",
     "text": [
      "a格式錯誤,請重新輸入\n",
      "數值必需在10~30之間\n",
      "15\n"
     ]
    }
   ],
   "source": [
    "value = input_int(prompt=\"請輸入整數:\",max=30,min=10)\n",
    "print(value)"
   ]
  }
 ],
 "metadata": {
  "kernelspec": {
   "display_name": "venv",
   "language": "python",
   "name": "python3"
  },
  "language_info": {
   "codemirror_mode": {
    "name": "ipython",
    "version": 3
   },
   "file_extension": ".py",
   "mimetype": "text/x-python",
   "name": "python",
   "nbconvert_exporter": "python",
   "pygments_lexer": "ipython3",
   "version": "3.10.8"
  },
  "orig_nbformat": 4
 },
 "nbformat": 4,
 "nbformat_minor": 2
}
