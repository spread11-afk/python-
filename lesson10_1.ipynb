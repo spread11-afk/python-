{
 "cells": [
  {
   "cell_type": "code",
   "execution_count": 2,
   "metadata": {},
   "outputs": [
    {
     "name": "stdout",
     "output_type": "stream",
     "text": [
      "===============猜數字遊戲=================:\n",
      "\n",
      "再大一點\n",
      "您已經猜了1次\n",
      "再小一點\n",
      "您已經猜了2次\n",
      "再小一點\n",
      "您已經猜了3次\n",
      "再小一點\n",
      "您已經猜了4次\n",
      "再大一點\n",
      "您已經猜了5次\n",
      "再小一點\n",
      "您已經猜了6次\n",
      "再小一點\n",
      "您已經猜了7次\n",
      "賓果!猜對了, 答案是:55\n",
      "總共猜了8次\n",
      "遊戲結束!\n"
     ]
    }
   ],
   "source": [
    "import random\n",
    "min = 1\n",
    "max = 100\n",
    "count = 0\n",
    "target = random.randint(min, max)\n",
    "print(\"===============猜數字遊戲=================:\\n\")\n",
    "while(True):\n",
    "    count += 1\n",
    "    keyin = int(input(f\"猜數字範圍{min}~{max}\"))\n",
    "    if (1 <= keyin <= max):\n",
    "        if(keyin == target):\n",
    "            print(f\"賓果!猜對了, 答案是:{target}\")\n",
    "            print(f\"總共猜了{count}次\")\n",
    "            break\n",
    "        elif (keyin > target):\n",
    "            print(\"再小一點\")\n",
    "            max = keyin - 1\n",
    "            \n",
    "        elif (keyin < target):\n",
    "            print(\"再大一點\")\n",
    "            min = keyin + 1\n",
    "            \n",
    "        print(f\"您已經猜了{count}次\")\n",
    "    else:\n",
    "        print(\"請輸入提示範圍內的數字\")\n",
    "\n",
    "print(\"遊戲結束!\")\n"
   ]
  },
  {
   "cell_type": "code",
   "execution_count": 4,
   "metadata": {},
   "outputs": [
    {
     "name": "stdout",
     "output_type": "stream",
     "text": [
      "1\n",
      "===============猜數字遊戲=================:\n",
      "\n",
      "賓果!猜對了, 答案是:1\n",
      "總共猜了1次\n",
      "還要繼續嗎?(y,n)遊戲結束\n"
     ]
    }
   ],
   "source": [
    "import random\n",
    "import pyinputplus as pyip\n",
    "\n",
    "while True:\n",
    "    min = 1\n",
    "    max = 100\n",
    "    count = 0\n",
    "    target = random.randint(min, max)\n",
    "    print(target)\n",
    "    print(\"===============猜數字遊戲=================:\\n\")\n",
    "    while(True):\n",
    "        count += 1\n",
    "        keyin = int(input(f\"猜數字範圍{min}~{max}\"))\n",
    "        if (1 <= keyin <= max):\n",
    "            if(keyin == target):\n",
    "                print(f\"賓果!猜對了, 答案是:{target}\")\n",
    "                print(f\"總共猜了{count}次\")\n",
    "                break\n",
    "            elif (keyin > target):\n",
    "                print(\"再小一點\")\n",
    "                max = keyin - 1\n",
    "                \n",
    "            elif (keyin < target):\n",
    "                print(\"再大一點\")\n",
    "                min = keyin + 1\n",
    "                \n",
    "            print(f\"您已經猜了{count}次\")\n",
    "        else:\n",
    "            print(\"請輸入提示範圍內的數字\")\n",
    "    answer = pyip.inputYesNo(prompt=\"還要繼續嗎?(y,n)\",yesVal='y',noVal='n')\n",
    "    if not (answer == 'y'):\n",
    "        break\n",
    "print(\"遊戲結束\")\n",
    "    "
   ]
  },
  {
   "cell_type": "code",
   "execution_count": null,
   "metadata": {},
   "outputs": [],
   "source": []
  }
 ],
 "metadata": {
  "kernelspec": {
   "display_name": "venv",
   "language": "python",
   "name": "python3"
  },
  "language_info": {
   "codemirror_mode": {
    "name": "ipython",
    "version": 3
   },
   "file_extension": ".py",
   "mimetype": "text/x-python",
   "name": "python",
   "nbconvert_exporter": "python",
   "pygments_lexer": "ipython3",
   "version": "3.10.8"
  },
  "orig_nbformat": 4
 },
 "nbformat": 4,
 "nbformat_minor": 2
}
