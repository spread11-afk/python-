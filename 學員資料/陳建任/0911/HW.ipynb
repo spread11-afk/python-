{
 "cells": [
  {
   "cell_type": "code",
   "execution_count": 1,
   "metadata": {},
   "outputs": [],
   "source": [
    "#純質運算"
   ]
  },
  {
   "cell_type": "code",
   "execution_count": 1,
   "metadata": {},
   "outputs": [
    {
     "data": {
      "text/plain": [
       "True"
      ]
     },
     "execution_count": 1,
     "metadata": {},
     "output_type": "execute_result"
    }
   ],
   "source": [
    "#python 純值\n",
    "'Hello! Python!'\n",
    "30\n",
    "30.0\n",
    "True"
   ]
  },
  {
   "cell_type": "code",
   "execution_count": 3,
   "metadata": {},
   "outputs": [
    {
     "name": "stdout",
     "output_type": "stream",
     "text": [
      "Hello! Python!\n",
      "30\n",
      "30.0\n",
      "True\n"
     ]
    }
   ],
   "source": [
    "#print()\n",
    "print('Hello! Python!')\n",
    "print(30)\n",
    "print(30.0)\n",
    "print(True)"
   ]
  },
  {
   "cell_type": "code",
   "execution_count": 4,
   "metadata": {},
   "outputs": [
    {
     "name": "stdout",
     "output_type": "stream",
     "text": [
      "13\n",
      "80\n",
      "28\n",
      "3.0\n",
      "3\n",
      "980188864829534682605802224588165892518744500843860189980001\n"
     ]
    }
   ],
   "source": [
    "#整數運算\n",
    "print(5 + 8)\n",
    "print(90 - 10)\n",
    "print(4 * 7)\n",
    "print(6 / 2)\n",
    "print(7 // 2)\n",
    "print(999 ** 20)"
   ]
  },
  {
   "cell_type": "code",
   "execution_count": 5,
   "metadata": {},
   "outputs": [
    {
     "name": "stdout",
     "output_type": "stream",
     "text": [
      "13.0\n",
      "23.0\n",
      "21.0\n",
      "10\n"
     ]
    }
   ],
   "source": [
    "#浮點數和整數運算\n",
    "print(5.0 + 8)\n",
    "print(5.0 + 8 + 10)\n",
    "print(5.0 + 8 * 2)\n",
    "print(2 * (1 + 2) ** 2 - 2 ** 2 * 2)"
   ]
  },
  {
   "cell_type": "code",
   "execution_count": 6,
   "metadata": {},
   "outputs": [
    {
     "name": "stdout",
     "output_type": "stream",
     "text": [
      "abc efg\n",
      "abc 13\n",
      "38\n",
      "35.2\n"
     ]
    }
   ],
   "source": [
    "#字串和加法的運算\n",
    "print(\"abc\" + \" efg\")\n",
    "\n",
    "#字串+數值 -> 出錯\n",
    "#\"abc\" + 13\n",
    "\n",
    "#str() -> 轉為字串\n",
    "print(\"abc \" + str(13))\n",
    "\n",
    "#int() -> 轉為整數\n",
    "print(int(\"13\") + int(\"25\"))\n",
    "\n",
    "#float() -> 轉為浮點數\n",
    "print(float(\"13.5\") + float(\"21.7\"))"
   ]
  },
  {
   "cell_type": "code",
   "execution_count": null,
   "metadata": {},
   "outputs": [],
   "source": [
    "#資料輸入"
   ]
  },
  {
   "cell_type": "code",
   "execution_count": 14,
   "metadata": {},
   "outputs": [
    {
     "name": "stdout",
     "output_type": "stream",
     "text": [
      "11\n",
      "2\n"
     ]
    }
   ],
   "source": [
    "#input01.py\n",
    "a=input(\"輸入整數1a:\")\n",
    "b=input(\"輸入整數1b:\")\n",
    "c=int(input(\"int輸入c:\"))\n",
    "d=int(input(\"int輸入d:\"))\n",
    "f=a+b\n",
    "g=c+d\n",
    "print(f)\n",
    "print(g)"
   ]
  },
  {
   "cell_type": "code",
   "execution_count": 15,
   "metadata": {},
   "outputs": [
    {
     "name": "stdout",
     "output_type": "stream",
     "text": [
      "2\n",
      "2.0\n"
     ]
    }
   ],
   "source": [
    "#input02.py\n",
    "c=int(input(\"int輸入c:\"))\n",
    "d=int(input(\"int輸入d:\"))\n",
    "g=c+d\n",
    "print(g)\n",
    "h=float(input(\"float輸入h:\"))\n",
    "i=float(input(\"float輸入i:\"))\n",
    "j=h+d\n",
    "print(j)"
   ]
  },
  {
   "cell_type": "code",
   "execution_count": 16,
   "metadata": {},
   "outputs": [
    {
     "name": "stdout",
     "output_type": "stream",
     "text": [
      "1 <class 'str'>\n",
      "1 <class 'str'>\n",
      "1.0 <class 'float'>\n",
      "1 <class 'int'>\n",
      "1 <class 'int'>\n"
     ]
    }
   ],
   "source": [
    "#input03.py\n",
    "a=input(\"輸入字串:\")\n",
    "print(a,a.__class__)\n",
    "a=input(\"輸入整數:\")\n",
    "print(a,a.__class__)\n",
    "a = float(input(\"float輸入浮點數: \"))\n",
    "print(a,a.__class__ )\n",
    "a = int(input(\"int輸入整數:\"))\n",
    "print(a,a.__class__ )\n",
    "a = int(input(\"int輸入字串:\"))\n",
    "print(a,a.__class__ )"
   ]
  },
  {
   "cell_type": "code",
   "execution_count": 7,
   "metadata": {},
   "outputs": [
    {
     "name": "stdout",
     "output_type": "stream",
     "text": [
      "2016\n"
     ]
    }
   ],
   "source": [
    "a,b,c=\"pcschool\",2016,3.41\n",
    "print(b)"
   ]
  },
  {
   "cell_type": "code",
   "execution_count": 8,
   "metadata": {},
   "outputs": [
    {
     "name": "stdout",
     "output_type": "stream",
     "text": [
      "abc!abc!\n"
     ]
    }
   ],
   "source": [
    "test=(\"abc\"+\"!\")*2\n",
    "print(test)"
   ]
  },
  {
   "cell_type": "code",
   "execution_count": 9,
   "metadata": {},
   "outputs": [
    {
     "name": "stdout",
     "output_type": "stream",
     "text": [
      "13\n"
     ]
    }
   ],
   "source": [
    "x=5\n",
    "y=7\n",
    "z=x+y+1\n",
    "print(z)"
   ]
  },
  {
   "cell_type": "code",
   "execution_count": 10,
   "metadata": {},
   "outputs": [
    {
     "name": "stdout",
     "output_type": "stream",
     "text": [
      "8\n",
      "16\n",
      "1\n",
      "8.75\n",
      "2\n",
      "2.0\n"
     ]
    }
   ],
   "source": [
    "#num.py\n",
    "a,b,c=4,2,5\n",
    "d,f=3.25,5.5\n",
    "print(a*b)\n",
    "print(a**b)\n",
    "print(a % 3)\n",
    "print(d + f)\n",
    "print(c//b)\n",
    "print(a/b)"
   ]
  },
  {
   "cell_type": "code",
   "execution_count": 11,
   "metadata": {},
   "outputs": [
    {
     "name": "stdout",
     "output_type": "stream",
     "text": [
      "3.0\n"
     ]
    }
   ],
   "source": [
    "g,h=9,3\n",
    "print(g/h)"
   ]
  },
  {
   "cell_type": "code",
   "execution_count": 20,
   "metadata": {},
   "outputs": [
    {
     "name": "stdout",
     "output_type": "stream",
     "text": [
      "商 11 餘數: 1\n"
     ]
    }
   ],
   "source": [
    "n=int(input('請輸入被除數(整數):'))\n",
    "m=int(input('請輸入除數(整數,不可以為0):'))\n",
    "print('商',n//m,'餘數:',n%m)"
   ]
  },
  {
   "cell_type": "code",
   "execution_count": 23,
   "metadata": {},
   "outputs": [
    {
     "name": "stdout",
     "output_type": "stream",
     "text": [
      "兩個數的和是: 113.14\n"
     ]
    }
   ],
   "source": [
    "n=float(input('請輸入第一個數值:'))\n",
    "m=float(input('請輸入第二個數值:'))\n",
    "print('兩個數的和是:',n+m)"
   ]
  },
  {
   "cell_type": "code",
   "execution_count": 25,
   "metadata": {},
   "outputs": [
    {
     "name": "stdout",
     "output_type": "stream",
     "text": [
      "剩餘款為: 49000\n"
     ]
    }
   ],
   "source": [
    "#money.py\n",
    "money=50000\n",
    "cell=int(input(\"請輸入手機金額:\"))\n",
    "money-=cell\n",
    "print(\"剩餘款為:\",str(money))"
   ]
  },
  {
   "cell_type": "code",
   "execution_count": 28,
   "metadata": {},
   "outputs": [
    {
     "name": "stdout",
     "output_type": "stream",
     "text": [
      "此數的平方是: 9.0\n",
      "此數的立方是: 27.0\n"
     ]
    }
   ],
   "source": [
    "num=float(input(\"請輸入任意數:\"))\n",
    "result=num**2\n",
    "print(\"此數的平方是:\",result)\n",
    "result=num**3\n",
    "print(\"此數的立方是:\",result)"
   ]
  },
  {
   "cell_type": "code",
   "execution_count": 29,
   "metadata": {},
   "outputs": [
    {
     "name": "stdout",
     "output_type": "stream",
     "text": [
      "三個數的總和為: 220.4\n"
     ]
    }
   ],
   "source": [
    "a=float(input(\"請輸入第一個數:\"))\n",
    "b=float(input(\"請輸入第二個數:\"))\n",
    "c=float(input(\"請輸入第三個數:\"))\n",
    "result=a+b+c\n",
    "print(\"三個數的總和為:\",result)"
   ]
  },
  {
   "cell_type": "code",
   "execution_count": 2,
   "metadata": {},
   "outputs": [
    {
     "name": "stdout",
     "output_type": "stream",
     "text": [
      "梯形的面積: 15.0 平方公分\n"
     ]
    }
   ],
   "source": [
    "#請輸入梯形的上底(公分):5\n",
    "#請輸入梯形的下底(公分):10\n",
    "#請輸入梯形的高(公分):2\n",
    "#梯形的面積:15平方公分\n",
    "\n",
    "top=float(input(\"請輸入梯形的上底:\"))\n",
    "bottom=float(input(\"請輸入梯形的下底:\"))\n",
    "height=float(input(\"請輸入梯形的高:\"))\n",
    "area=(top+bottom)*height/2\n",
    "print(\"梯形的面積:\",area,\"平方公分\")"
   ]
  },
  {
   "cell_type": "code",
   "execution_count": 31,
   "metadata": {},
   "outputs": [
    {
     "name": "stdout",
     "output_type": "stream",
     "text": [
      "圓柱體的體積: 1570.795 立方公分\n"
     ]
    }
   ],
   "source": [
    "PI=3.14159\n",
    "radius=float(input(\"請輸入圓柱體的半徑(公分):\"))\n",
    "height=float(input(\"請輸入圓柱體的高(公分):\"))\n",
    "area=radius**2*PI*height\n",
    "print(\"圓柱體的體積:\",area,\"立方公分\")"
   ]
  },
  {
   "cell_type": "code",
   "execution_count": 38,
   "metadata": {},
   "outputs": [
    {
     "name": "stdout",
     "output_type": "stream",
     "text": [
      "直角三角形的角度為: 30 degree\n"
     ]
    }
   ],
   "source": [
    "#degree.py\n",
    "#請輸入對邊:2.5\n",
    "#請輸入斜邊:5\n",
    "#直角三角形的角度為:30degree\n",
    "\n",
    "import math\n",
    "a=float(input(\"請輸入直角三角形的對邊:\"))\n",
    "b=float(input(\"請輸入直角三角形的斜邊:\"))\n",
    "result=round(math.degrees(math.asin(a/b)))\n",
    "print(\"直角三角形的角度為:\",result,\"degree\")\n"
   ]
  }
 ],
 "metadata": {
  "kernelspec": {
   "display_name": ".venv",
   "language": "python",
   "name": "python3"
  },
  "language_info": {
   "codemirror_mode": {
    "name": "ipython",
    "version": 3
   },
   "file_extension": ".py",
   "mimetype": "text/x-python",
   "name": "python",
   "nbconvert_exporter": "python",
   "pygments_lexer": "ipython3",
   "version": "3.10.8"
  },
  "orig_nbformat": 4
 },
 "nbformat": 4,
 "nbformat_minor": 2
}
