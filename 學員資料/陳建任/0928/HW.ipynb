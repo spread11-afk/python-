{
 "cells": [
  {
   "cell_type": "code",
   "execution_count": null,
   "metadata": {},
   "outputs": [],
   "source": [
    "import random\n",
    "\n",
    "class Player:\n",
    "    def __init__(self):\n",
    "        pass\n",
    "\n",
    "    def __play() -> int:\n",
    "        pass\n",
    "\n",
    "    @property\n",
    "    def value(self) -> int:\n",
    "        #呼叫self.__play()\n",
    "        pass\n",
    "\n",
    "    def __repr__(self) -> str:\n",
    "        descript = \"\"\n",
    "        descript += \"徐國堂\\n\"\n",
    "        descript += \"骰子1=5\\n\"\n",
    "        descript += \"骰子2=3\\n\"\n",
    "        descript += \"骰子3=5\\n\"\n",
    "        descript += \"骰子4=5\\n\"\n",
    "        dsecript += \"得分=15分\"\n",
    "        return descript\n",
    "    \n",
    "if __name__ == \"__main__\":\n",
    "    p1 = Player(\"robert\")\n",
    "    print(p1.value)\n",
    "    print(p1)\n",
    "\n",
    "    p2 = Player(\"robert\")\n",
    "    print(p2.value)\n",
    "    print(p2)"
   ]
  }
 ],
 "metadata": {
  "kernelspec": {
   "display_name": ".venv",
   "language": "python",
   "name": "python3"
  },
  "language_info": {
   "codemirror_mode": {
    "name": "ipython",
    "version": 3
   },
   "file_extension": ".py",
   "mimetype": "text/x-python",
   "name": "python",
   "nbconvert_exporter": "python",
   "pygments_lexer": "ipython3",
   "version": "3.10.8"
  },
  "orig_nbformat": 4
 },
 "nbformat": 4,
 "nbformat_minor": 2
}
