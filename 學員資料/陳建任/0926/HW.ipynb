{
 "cells": [
  {
   "cell_type": "code",
   "execution_count": 77,
   "metadata": {},
   "outputs": [
    {
     "name": "stdout",
     "output_type": "stream",
     "text": [
      "[1, 1, 2, 3]\n",
      "您骰到的結果是:5\n"
     ]
    }
   ],
   "source": [
    "import random\n",
    "dice = sorted(random.choices(range(1,7),k=4)) \n",
    "print(dice)\n",
    "if (dice[0] == dice[1] == dice[2] == dice[3]):\n",
    "    score = (str(dice[0])*4,'豹子')\n",
    "elif (dice[0] != dice[1] != dice[2] != dice[3]):\n",
    "    score = '再骰一次'\n",
    "elif (dice[0] == dice[1] == dice[2]) or (dice[1] == dice[2] == dice[3]):\n",
    "    score = '再骰一次'\n",
    "else:\n",
    "    if dice[0] == dice[1]:\n",
    "        score = dice[2] + dice[3]\n",
    "    elif dice[1] == dice[2]:\n",
    "        score = dice[0] + dice[3]\n",
    "    elif dice[2] == dice[3]:\n",
    "        score = dice[0] + dice[1]\n",
    "print(f'您骰到的結果是:{score}')"
   ]
  },
  {
   "cell_type": "code",
   "execution_count": 83,
   "metadata": {},
   "outputs": [
    {
     "name": "stdout",
     "output_type": "stream",
     "text": [
      "您骰出的數字為:[2, 3, 4, 6]\n",
      "可惜!再一次!\n"
     ]
    }
   ],
   "source": [
    "#測試\n",
    "import random\n",
    "dice1 = random.randint(1,6)\n",
    "dice2 = random.randint(1,6)\n",
    "dice3 = random.randint(1,6)\n",
    "dice4 = random.randint(1,6)\n",
    "dice=(dice1,dice2,dice3,dice4)\n",
    "x = sorted(dice)\n",
    "print(f\"您骰到的點數是:{x}\")\n",
    "if x[0] == x[1] == x[2] == x[3]:\n",
    "    print(f\"恭喜您骰到豹子{x[0]}\")\n",
    "elif x[0] != x[1] != x[2] != x[3]:\n",
    "    print(f'可惜!再一次!')\n",
    "elif (x[0] == x[1] == x[2]) or (x[1] == x[2] == x[3]) :\n",
    "    print(f'可惜!再一次!')\n",
    "elif x[0] == x[1]:\n",
    "    ans = x[2] + x[3]\n",
    "    print(f'您的分數是:{ans}')\n",
    "elif x[0] == x[2]:\n",
    "    ans = x[1] + x[3]\n",
    "    print(f'您的分數是:{ans}')\n",
    "elif x[0] == x[3]:\n",
    "    ans = x[1] + x[2]\n",
    "    print(f'您的分數是:{ans}')\n",
    "elif x[1] == x[2]:\n",
    "    ans = x[0] + x[3]\n",
    "    print(f'您的分數是:{ans}')\n",
    "elif x[1] == x[3]:\n",
    "    ans = x[0] + x[2]\n",
    "    print(f'您的分數是:{ans}')\n",
    "elif x[2] == x[3]:\n",
    "    ans = x[0] + x[1]\n",
    "    print(f'您的分數是:{ans}')\n",
    "else:\n",
    "    print(f'可惜!再一次!')"
   ]
  }
 ],
 "metadata": {
  "kernelspec": {
   "display_name": ".venv",
   "language": "python",
   "name": "python3"
  },
  "language_info": {
   "codemirror_mode": {
    "name": "ipython",
    "version": 3
   },
   "file_extension": ".py",
   "mimetype": "text/x-python",
   "name": "python",
   "nbconvert_exporter": "python",
   "pygments_lexer": "ipython3",
   "version": "3.10.8"
  },
  "orig_nbformat": 4
 },
 "nbformat": 4,
 "nbformat_minor": 2
}
