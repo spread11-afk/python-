{
 "cells": [
  {
   "cell_type": "code",
   "execution_count": null,
   "metadata": {},
   "outputs": [],
   "source": [
    "import csv\n",
    "import psycopg2\n",
    "import password as pw\n",
    "\n",
    "# 連線到 PostgreSQL\n",
    "conn = psycopg2.connect(database=pw.DATABASE,\n",
    "                        user=pw.USER, \n",
    "                        password=pw.PASSWORD,\n",
    "                        host=pw.HOST, \n",
    "                        port=\"5432\"\n",
    ")\n",
    "cur = conn.cursor()\n",
    "# 開啟 CSV 檔\n",
    "with open(\"youbike.csv\", \"r\",encoding=\"UTF-8\") as csvfile:\n",
    "\n",
    "    # 將 CSV 檔的資料轉換為可迭代物件\n",
    "    reader = csv.reader(csvfile, delimiter=\",\")\n",
    "\n",
    "    # 使用 FOR 迴圈迭代 CSV 檔的資料\n",
    "    for row in reader:\n",
    "            cur.execute(\"INSERT INTO 台北市youbike1 (站點名稱,行政區,更新時間,地址,總車輛數,可借,可還) VALUES (%s, %s, %s, %s, %s, %s, %s)\",row)\n",
    "\n",
    "# 提交資料\n",
    "conn.commit()\n",
    "\n",
    "# 關閉連線\n",
    "conn.close()"
   ]
  },
  {
   "cell_type": "code",
   "execution_count": null,
   "metadata": {},
   "outputs": [],
   "source": [
    "import psycopg2\n",
    "import csv\n",
    "import password as pw\n",
    "\n",
    "conn = psycopg2.connect(database=pw.DATABASE,\n",
    "                        user=pw.USER, \n",
    "                        password=pw.PASSWORD,\n",
    "                        host=pw.HOST, \n",
    "                        port=\"5432\")\n",
    "\n",
    "cur = conn.cursor()\n",
    "tablename = \"台北市youbike(站點名稱,更新時間,行政區,地址,總車輛數,可借,可還)\"\n",
    "csv_file = \"./youbike.csv\"\n",
    "with open(csv_file, 'r',encoding=\"UTF-8\") as f:\n",
    "    reader = csv.reader(f)\n",
    "    next(reader) # Skip the header row\n",
    "    for row in reader:\n",
    "        placeholders = \",\".join(['%s']*len(row))\n",
    "        insert_query = f\"Insert Into {tablename} Values ({placeholders})\"\n",
    "        cur.execute(insert_query,row)\n",
    "    \n",
    "conn.commit()\n",
    "# cur.close()\n",
    "# [conn.close()]"
   ]
  },
  {
   "cell_type": "code",
   "execution_count": null,
   "metadata": {},
   "outputs": [],
   "source": []
  }
 ],
 "metadata": {
  "kernelspec": {
   "display_name": ".venv",
   "language": "python",
   "name": "python3"
  },
  "language_info": {
   "codemirror_mode": {
    "name": "ipython",
    "version": 3
   },
   "file_extension": ".py",
   "mimetype": "text/x-python",
   "name": "python",
   "nbconvert_exporter": "python",
   "pygments_lexer": "ipython3",
   "version": "3.10.8"
  }
 },
 "nbformat": 4,
 "nbformat_minor": 2
}
