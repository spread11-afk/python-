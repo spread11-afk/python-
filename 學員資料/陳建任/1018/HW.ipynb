{
 "cells": [
  {
   "cell_type": "code",
   "execution_count": 1,
   "metadata": {},
   "outputs": [],
   "source": [
    "import json \n",
    "import csv \n",
    "\n",
    "def csv_to_json(csvFilePath, jsonFilePath):\n",
    "    jsonArray = []\n",
    "    with open(csvFilePath, encoding='utf-8') as csvf:\n",
    "        csvReader = csv.reader(csvf)\n",
    "        for row in csvReader:\n",
    "            jsonArray.append(row)\n",
    "    with open(jsonFilePath, 'w', encoding='utf-8') as jsonf: \n",
    "        jsonString = json.dumps(jsonArray, indent=4)\n",
    "        jsonf.write(jsonString)\n",
    "          \n",
    "csvFilePath = r'台積電.csv'\n",
    "jsonFilePath = r'台積電.json'\n",
    "csv_to_json(csvFilePath, jsonFilePath)"
   ]
  },
  {
   "cell_type": "code",
   "execution_count": 2,
   "metadata": {},
   "outputs": [],
   "source": [
    "import sqlite3\n",
    "con = sqlite3.connect(\"台積電.db\") \n",
    "cursor = con.cursor()\n",
    "cursor.execute(\n",
    "\t'''\n",
    "\tCREATE TABLE  IF NOT EXISTS 台積電(\n",
    "\t\t\"日期\"\tINTEGER,\n",
    "\t\t\"開盤價\"\tINTEGER NOT NULL,\n",
    "\t\t\"盤中最高價\"\tINTEGER NOT NULL,\n",
    "\t\t\"盤中最低價\"\tINTEGER NOT NULL,\n",
    "\t\t\"收盤價\"\tINTEGER NOT NULL,\n",
    "\t\t\"調整後收盤價\"\tINTEGER NOT NULL,\n",
    "\t\t\"成交量\"\tINTEGER,            \n",
    "\t\tPRIMARY KEY(\"日期\" AUTOINCREMENT)\n",
    "\t);\n",
    "\t'''\n",
    ")\n",
    "con.commit()"
   ]
  },
  {
   "cell_type": "code",
   "execution_count": 5,
   "metadata": {},
   "outputs": [],
   "source": [
    "import sqlite3\n",
    "\n",
    "def create_table(conn):    \n",
    "    cursor = conn.cursor()\n",
    "    cursor.execute(\n",
    "        '''\n",
    "        CREATE TABLE  IF NOT EXISTS 台積電(\n",
    "            \"日期\"\tINTEGER,\n",
    "            \"開盤價\"\tINTEGER NOT NULL,\n",
    "            \"盤中最高價\"\tINTEGER NOT NULL,\n",
    "            \"盤中最低價\"\tINTEGER NOT NULL,\n",
    "            \"收盤價\"\tINTEGER NOT NULL,\n",
    "            \"調整後收盤價\"\tINTEGER NOT NULL,\n",
    "            \"成交量\"\tINTEGER,            \n",
    "            PRIMARY KEY(\"日期\" AUTOINCREMENT)\n",
    "        );\n",
    "        '''\n",
    "    )\n",
    "    conn.commit()\n",
    "\n",
    "def insert_data(conn,values):\n",
    "    cursor = conn.cursor()\n",
    "    sql = '''\n",
    "    INSERT INTO 台積電(開盤價,盤中最高價,盤中最低價,收盤價,調整後收盤價,成交量)\n",
    "        VALUES(?,?,?,?,?,?)\n",
    "    '''\n",
    "    cursor.execute(sql,values)\n",
    "    conn.commit()\n",
    "\n",
    "conn = sqlite3.connect(\"台積電.db\")\n",
    "create_table(conn)"
   ]
  },
  {
   "cell_type": "code",
   "execution_count": 12,
   "metadata": {},
   "outputs": [
    {
     "ename": "ProgrammingError",
     "evalue": "Incorrect number of bindings supplied. The current statement uses 6, and there are 7 supplied.",
     "output_type": "error",
     "traceback": [
      "\u001b[1;31m---------------------------------------------------------------------------\u001b[0m",
      "\u001b[1;31mProgrammingError\u001b[0m                          Traceback (most recent call last)",
      "\u001b[1;32mc:\\GitHub\\PythonSchool_HW\\2023_10_18_作業\\HW.ipynb 儲存格 4\u001b[0m line \u001b[0;36m5\n\u001b[0;32m      <a href='vscode-notebook-cell:/c%3A/GitHub/PythonSchool_HW/2023_10_18_%E4%BD%9C%E6%A5%AD/HW.ipynb#W5sZmlsZQ%3D%3D?line=1'>2</a>\u001b[0m reader\u001b[39m=\u001b[39mjson\u001b[39m.\u001b[39mload(file)\n\u001b[0;32m      <a href='vscode-notebook-cell:/c%3A/GitHub/PythonSchool_HW/2023_10_18_%E4%BD%9C%E6%A5%AD/HW.ipynb#W5sZmlsZQ%3D%3D?line=2'>3</a>\u001b[0m \u001b[39mfor\u001b[39;00m item \u001b[39min\u001b[39;00m reader:\n\u001b[0;32m      <a href='vscode-notebook-cell:/c%3A/GitHub/PythonSchool_HW/2023_10_18_%E4%BD%9C%E6%A5%AD/HW.ipynb#W5sZmlsZQ%3D%3D?line=3'>4</a>\u001b[0m     \u001b[39m#print(type(item)) #驗證item型別\u001b[39;00m\n\u001b[1;32m----> <a href='vscode-notebook-cell:/c%3A/GitHub/PythonSchool_HW/2023_10_18_%E4%BD%9C%E6%A5%AD/HW.ipynb#W5sZmlsZQ%3D%3D?line=4'>5</a>\u001b[0m     insert_data(conn,[item[\u001b[39m0\u001b[39;49m],item[\u001b[39m1\u001b[39;49m],item[\u001b[39m2\u001b[39;49m],item[\u001b[39m3\u001b[39;49m],item[\u001b[39m4\u001b[39;49m],item[\u001b[39m5\u001b[39;49m],item[\u001b[39m6\u001b[39;49m]])\n",
      "\u001b[1;32mc:\\GitHub\\PythonSchool_HW\\2023_10_18_作業\\HW.ipynb 儲存格 4\u001b[0m line \u001b[0;36m2\n\u001b[0;32m     <a href='vscode-notebook-cell:/c%3A/GitHub/PythonSchool_HW/2023_10_18_%E4%BD%9C%E6%A5%AD/HW.ipynb#W5sZmlsZQ%3D%3D?line=21'>22</a>\u001b[0m cursor \u001b[39m=\u001b[39m conn\u001b[39m.\u001b[39mcursor()\n\u001b[0;32m     <a href='vscode-notebook-cell:/c%3A/GitHub/PythonSchool_HW/2023_10_18_%E4%BD%9C%E6%A5%AD/HW.ipynb#W5sZmlsZQ%3D%3D?line=22'>23</a>\u001b[0m sql \u001b[39m=\u001b[39m \u001b[39m'''\u001b[39m\n\u001b[0;32m     <a href='vscode-notebook-cell:/c%3A/GitHub/PythonSchool_HW/2023_10_18_%E4%BD%9C%E6%A5%AD/HW.ipynb#W5sZmlsZQ%3D%3D?line=23'>24</a>\u001b[0m \u001b[39mINSERT INTO 台積電(開盤價,盤中最高價,盤中最低價,收盤價,調整後收盤價,成交量)\u001b[39m\n\u001b[0;32m     <a href='vscode-notebook-cell:/c%3A/GitHub/PythonSchool_HW/2023_10_18_%E4%BD%9C%E6%A5%AD/HW.ipynb#W5sZmlsZQ%3D%3D?line=24'>25</a>\u001b[0m \u001b[39m    VALUES(?,?,?,?,?,?)\u001b[39m\n\u001b[0;32m     <a href='vscode-notebook-cell:/c%3A/GitHub/PythonSchool_HW/2023_10_18_%E4%BD%9C%E6%A5%AD/HW.ipynb#W5sZmlsZQ%3D%3D?line=25'>26</a>\u001b[0m \u001b[39m\u001b[39m\u001b[39m'''\u001b[39m\n\u001b[1;32m---> <a href='vscode-notebook-cell:/c%3A/GitHub/PythonSchool_HW/2023_10_18_%E4%BD%9C%E6%A5%AD/HW.ipynb#W5sZmlsZQ%3D%3D?line=26'>27</a>\u001b[0m cursor\u001b[39m.\u001b[39;49mexecute(sql,values)\n\u001b[0;32m     <a href='vscode-notebook-cell:/c%3A/GitHub/PythonSchool_HW/2023_10_18_%E4%BD%9C%E6%A5%AD/HW.ipynb#W5sZmlsZQ%3D%3D?line=27'>28</a>\u001b[0m conn\u001b[39m.\u001b[39mcommit()\n",
      "\u001b[1;31mProgrammingError\u001b[0m: Incorrect number of bindings supplied. The current statement uses 6, and there are 7 supplied."
     ]
    }
   ],
   "source": [
    "with open('./台積電.json','r',encoding='utf-8') as file:\n",
    "    reader=json.load(file)\n",
    "    for item in reader:\n",
    "        #print(type(item)) #驗證item型別\n",
    "        insert_data(conn,[item[0],item[1],item[2],item[3],item[4],item[5],item[6]])"
   ]
  }
 ],
 "metadata": {
  "kernelspec": {
   "display_name": ".venv",
   "language": "python",
   "name": "python3"
  },
  "language_info": {
   "codemirror_mode": {
    "name": "ipython",
    "version": 3
   },
   "file_extension": ".py",
   "mimetype": "text/x-python",
   "name": "python",
   "nbconvert_exporter": "python",
   "pygments_lexer": "ipython3",
   "version": "3.10.8"
  }
 },
 "nbformat": 4,
 "nbformat_minor": 2
}
