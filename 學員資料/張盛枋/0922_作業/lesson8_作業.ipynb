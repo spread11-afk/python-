{
 "cells": [
  {
   "cell_type": "markdown",
   "metadata": {},
   "source": [
    "# 求所有因數\n",
    "'''\n",
    "num = int(input(\"請輸入整數，求所有因數:\"))\n",
    "print(num,\"的因數:\")\n",
    "'''"
   ]
  },
  {
   "cell_type": "code",
   "execution_count": 25,
   "metadata": {},
   "outputs": [
    {
     "name": "stdout",
     "output_type": "stream",
     "text": [
      "50 的因數:\n",
      "1  2  5  10  25  50  "
     ]
    }
   ],
   "source": [
    "num = int(input(\"請輸入整數，求所有因數:\"))\n",
    "print(num,\"的因數:\")\n",
    "factor=1\n",
    "while factor<=num:\n",
    "   if (num%factor)==0:\n",
    "       print(f\"{factor} \", end=\" \")\n",
    "       factor+=1\n",
    "   else:\n",
    "       factor+=1"
   ]
  },
  {
   "cell_type": "markdown",
   "metadata": {},
   "source": [
    "# 求公因數\n",
    "'''\n",
    "print(\"請輸入2數,求2數公因數:\")\n",
    "n = int(input('請輸入第1個數:'))\n",
    "m = int(input('請輸入第2個數:'))\n",
    "'''"
   ]
  },
  {
   "cell_type": "code",
   "execution_count": 7,
   "metadata": {},
   "outputs": [
    {
     "name": "stdout",
     "output_type": "stream",
     "text": [
      "請輸入2數,求2數公因數:\n",
      "第1個數:6\n",
      "第2個數:9\n",
      "6及9的公因數:\n",
      " 1,\n",
      " 3,\n"
     ]
    }
   ],
   "source": [
    "print(\"請輸入2數,求2數公因數:\")\n",
    "n = int(input('請輸入第1個數:'))\n",
    "print(f\"第1個數:{n}\")\n",
    "m = int(input('請輸入第2個數:'))\n",
    "print(f\"第2個數:{m}\")\n",
    "print(f\"{n}及{m}的公因數:\")\n",
    "factor=1\n",
    "\n",
    "if n<m:\n",
    "   while factor<n:\n",
    "       if (n%factor)==0 and (m%factor)==0 :\n",
    "          print(f\" {factor},\")\n",
    "          factor+=1\n",
    "       else:\n",
    "          factor+=1\n",
    "else:\n",
    "   while factor<m:\n",
    "       if ((n%factor)==0 and (m%factor)==0):\n",
    "          print(f\" {factor},\")\n",
    "          factor+=1\n",
    "       else:\n",
    "          factor+=1"
   ]
  },
  {
   "cell_type": "markdown",
   "metadata": {},
   "source": [
    "# 2~100,每一個的質數\n",
    "'''\n",
    "end = int(input(\"請輸入end值:\"))\n",
    "print(f\"1到{end}的質數是:\")\n",
    "'''"
   ]
  },
  {
   "cell_type": "code",
   "execution_count": 22,
   "metadata": {},
   "outputs": [
    {
     "name": "stdout",
     "output_type": "stream",
     "text": [
      "1到7的質數是:\n",
      "2\n",
      "3\n",
      "5\n",
      "7\n"
     ]
    }
   ],
   "source": [
    "end=int(input(\"請輸入end值:\"))\n",
    "\n",
    "print(f\"1到{end}的質數是:\")\n",
    "\n",
    "prime= 1\n",
    "var=2\n",
    "\n",
    "for prime in range(2,end+1):\n",
    "\n",
    "    for var in range(2,prime+1):\n",
    "       \n",
    "       if prime%var == 0 and var < prime:\n",
    "          break\n",
    "       elif prime%var != 0 and var < prime:\n",
    "          continue\n",
    "       else:\n",
    "          print(prime)"
   ]
  }
 ],
 "metadata": {
  "kernelspec": {
   "display_name": ".venv",
   "language": "python",
   "name": "python3"
  },
  "language_info": {
   "codemirror_mode": {
    "name": "ipython",
    "version": 3
   },
   "file_extension": ".py",
   "mimetype": "text/x-python",
   "name": "python",
   "nbconvert_exporter": "python",
   "pygments_lexer": "ipython3",
   "version": "3.10.8"
  },
  "orig_nbformat": 4
 },
 "nbformat": 4,
 "nbformat_minor": 2
}
