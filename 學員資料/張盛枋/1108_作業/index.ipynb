{
 "cells": [
  {
   "cell_type": "code",
   "execution_count": null,
   "metadata": {},
   "outputs": [],
   "source": [
    "import psycopg2\n",
    "import password as pw\n",
    "import csv\n",
    "try:\n",
    "    conn = psycopg2.connect(\n",
    "                        database=pw.DATABASE,\n",
    "                        user=pw.USER, \n",
    "                        password=pw.PASSWORD,\n",
    "                        host=pw.HOST, \n",
    "                        port=\"5432\")\n",
    "except psycopg2.Error as e:\n",
    "    print(\"error\")\n",
    "    print(e)\n",
    "else:\n",
    "    print(\"連線成功\")\n",
    "    print(conn)"
   ]
  },
  {
   "cell_type": "code",
   "execution_count": null,
   "metadata": {},
   "outputs": [],
   "source": [
    "cur = conn.cursor()\n",
    "table_name = '台北市youbike(站點名稱, 更新時間, 行政區, 地址, 總車輛數, 可借, 可還)'\n",
    "\n",
    "with open('youbike.csv', 'r', encoding='utf-8') as file:\n",
    "    reader = csv.reader(file)\n",
    "\n",
    "    for row in reader:\n",
    "        csv_data = ', '.join(['%s'] * len(row))\n",
    "        insert_data = f'INSERT INTO {table_name} VALUES ({csv_data})'\n",
    "        cur.execute(insert_data, row)\n",
    "\n",
    "conn.commit()\n",
    "\n",
    "cur.close()\n",
    "conn.close()\n"
   ]
  }
 ],
 "metadata": {
  "language_info": {
   "name": "python"
  }
 },
 "nbformat": 4,
 "nbformat_minor": 2
}
