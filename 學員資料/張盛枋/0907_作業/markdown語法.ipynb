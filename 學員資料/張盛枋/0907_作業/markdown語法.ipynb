{
 "cells": [
  {
   "cell_type": "markdown",
   "metadata": {},
   "source": [
    "# 0907 homework-markdown 語法\n",
    "# 標題 1\n",
    "## 標題 2\n",
    "...\n",
    "###### 標題 6"
   ]
  },
  {
   "cell_type": "markdown",
   "metadata": {},
   "source": [
    "## 這是標題\n",
    "這是一段文字段落\n",
    "\n",
    "這是第二行的文字段落，還是要勉強自己，笑起來處子般通紅；看人突然好想你，顯露所有鋒芒堅持方向，顯露所有鋒芒堅持方向，在我活的地方為什麼你，我嘆了嘆氣。\n",
    "> 這裡是一段引用文字\n",
    "- 這是清單\n",
    "+ 這也是清單\n",
    "* 這同樣是清單\n",
    "\t- 清單子項目"
   ]
  },
  {
   "cell_type": "markdown",
   "metadata": {},
   "source": [
    "1. 數字型清單\n",
    "2. 第二個數字清單\n",
    "2. 數字清單不需要連續數字\n",
    "\t3. 數字清單子項目\n"
   ]
  },
  {
   "cell_type": "markdown",
   "metadata": {},
   "source": [
    "2. 數字清單從 2 開始\n",
    "3. 第 3\n"
   ]
  },
  {
   "cell_type": "markdown",
   "metadata": {},
   "source": [
    "2019\\. 避免 `數字.` 轉為數字型清單的方法"
   ]
  },
  {
   "cell_type": "markdown",
   "metadata": {},
   "source": [
    "'''\n",
    "for (let i = 0; i < 10; i++) {\n",
    "  setTimeout(function () {\n",
    "    console.log('這執行第' + i + '次');\n",
    "  }, 0);\n",
    "}\n",
    "'''"
   ]
  },
  {
   "cell_type": "markdown",
   "metadata": {},
   "source": [
    "\n",
    "for (let i = 0; i < 10; i++) {\n",
    "  setTimeout(function () {\n",
    "    console.log('這執行第' + i + '次');\n",
    "  }, 0);\n",
    "}\n"
   ]
  },
  {
   "cell_type": "markdown",
   "metadata": {},
   "source": [
    "<body>\n",
    "  <p>這是一段 HTML 結構</p>\n",
    "</body>\n"
   ]
  },
  {
   "cell_type": "markdown",
   "metadata": {},
   "source": [
    "---\n",
    "***\n",
    "___\n"
   ]
  },
  {
   "cell_type": "markdown",
   "metadata": {},
   "source": [
    "| thead 1 | thrad 2 | thread 3 |\n",
    "|---------|---------|----------|\n",
    "| td      | td      | td       |\n"
   ]
  },
  {
   "cell_type": "markdown",
   "metadata": {},
   "source": [
    "還是要*勉強自己*，笑起來處子般通紅；看人_突然好想你_，顯露所有鋒芒堅持方向，顯露所有鋒芒堅持方向，在我活的地方為什麼你，我嘆了嘆氣。* 普通文字 *。"
   ]
  },
  {
   "cell_type": "markdown",
   "metadata": {},
   "source": [
    "還是要**勉強自己**，笑起來處子般通紅；看人__突然好想你__，顯露所有鋒芒堅持方向，顯露所有鋒芒堅持方向，在我活的地方為什麼你，我嘆了嘆氣。** 普通文字 **。"
   ]
  },
  {
   "cell_type": "markdown",
   "metadata": {},
   "source": [
    "還是要勉強自己，笑起來處子般通紅；看人 `<strong>` 突然好想你 `</strong>`，顯露所有鋒芒堅持方向，顯露所有鋒芒堅持方向，在我活的地方為什麼你，我嘆了嘆氣 `var a = 0`。"
   ]
  },
  {
   "cell_type": "markdown",
   "metadata": {},
   "source": [
    "[Google](https://www.google.com.tw/)"
   ]
  },
  {
   "cell_type": "markdown",
   "metadata": {},
   "source": [
    "![unsplash 圖片](https://images.unsplash.com/photo-1573900941478-7cc800f708f3?ixlib=rb-1.2.1&ixid=eyJhcHBfaWQiOjEyMDd9&auto=format&fit=crop&w=2100&q=80)"
   ]
  }
 ],
 "metadata": {
  "language_info": {
   "name": "python"
  },
  "orig_nbformat": 4
 },
 "nbformat": 4,
 "nbformat_minor": 2
}
