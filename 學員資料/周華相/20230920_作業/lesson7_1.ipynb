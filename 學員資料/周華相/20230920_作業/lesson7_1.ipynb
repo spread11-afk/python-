{
 "cells": [
  {
   "cell_type": "code",
   "execution_count": 80,
   "metadata": {},
   "outputs": [
    {
     "name": "stdout",
     "output_type": "stream",
     "text": [
      "請輸入身高 175.0  公分\n",
      "請輸入體重 90.0  公斤\n",
      "Bmi：29.38776\n",
      "身體狀態：過重\n"
     ]
    }
   ],
   "source": [
    "import pyinputplus as pyip\n",
    "hight=pyip.inputFloat(\"請輸入身高\")\n",
    "print(f\" {hight}  公分\")\n",
    "weight=pyip.inputFloat(\"請輸入體重\")\n",
    "print(f\" {weight}  公斤\")\n",
    "bmi=float(weight/(hight*0.01)**2)\n",
    "print(f\"Bmi：{bmi:.5f}\")\n",
    "if bmi <18.5:\n",
    "    print(f\"身體狀態：過輕\")\n",
    "elif bmi >=18.5 and bmi <25:\n",
    "    print(f\"身體狀態：適中\")\n",
    "elif bmi >=25 and bmi <30:\n",
    "    print(f\"身體狀態：過重\")\n",
    "else: \n",
    "    print(f\"身體狀態：肥胖\")"
   ]
  },
  {
   "cell_type": "code",
   "execution_count": 1,
   "metadata": {},
   "outputs": [
    {
     "name": "stdout",
     "output_type": "stream",
     "text": [
      "請輸入收縮壓 收縮壓 130.0 mmHg \n",
      "請輸入舒張壓 舒張壓 90.0 mmHg \n",
      "血壓：高血壓一期\n"
     ]
    }
   ],
   "source": [
    "import pyinputplus as pyip\n",
    "sbp=pyip.inputFloat(\"請輸入收縮壓\")\n",
    "print(f\" 收縮壓 {sbp} mmHg \")\n",
    "dbp=pyip.inputFloat(\"請輸入舒張壓\")\n",
    "print(f\" 舒張壓 {dbp} mmHg \")\n",
    "\n",
    "if   sbp <120 and dbp <80:\n",
    "    print(f\"血壓：正常\")\n",
    "elif sbp >=120 and sbp <=129 and dbp<80:\n",
    "    print(f\"血壓：偏高\")\n",
    "elif sbp >=130 and dbp<80:\n",
    "    print(f\"血壓：單純收縮期高血壓\")\n",
    "elif sbp >=130 and sbp <=139 or dbp>=80 and dbp<=89:\n",
    "    print(f\"血壓：高血壓一期\")\n",
    "elif sbp >=140 or dbp>=90:\n",
    "    print(f\"血壓：高血壓二期\")"
   ]
  }
 ],
 "metadata": {
  "kernelspec": {
   "display_name": ".venv",
   "language": "python",
   "name": "python3"
  },
  "language_info": {
   "codemirror_mode": {
    "name": "ipython",
    "version": 3
   },
   "file_extension": ".py",
   "mimetype": "text/x-python",
   "name": "python",
   "nbconvert_exporter": "python",
   "pygments_lexer": "ipython3",
   "version": "3.10.8"
  },
  "orig_nbformat": 4
 },
 "nbformat": 4,
 "nbformat_minor": 2
}
