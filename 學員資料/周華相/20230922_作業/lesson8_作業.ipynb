{
 "cells": [
  {
   "cell_type": "code",
   "execution_count": 4,
   "metadata": {},
   "outputs": [
    {
     "name": "stdout",
     "output_type": "stream",
     "text": [
      "10 的因數: [2, 5]\n"
     ]
    }
   ],
   "source": [
    "#求所有因數\n",
    "num = int(input(\"請輸入整數，求所有因數:\"))\n",
    "anwser=[]\n",
    "for i in range(2,num):\n",
    "    if num % i == 0:\n",
    "         anwser.append(i)\n",
    "         \n",
    "    else:\n",
    "         continue\n",
    "if len(anwser) == 0:\n",
    "     print(\"prime\")\n",
    "else:\n",
    "\n",
    "    print(num,\"的因數:\",anwser)\n"
   ]
  },
  {
   "cell_type": "code",
   "execution_count": 37,
   "metadata": {},
   "outputs": [
    {
     "name": "stdout",
     "output_type": "stream",
     "text": [
      "請輸入2數,求2數公因數:\n",
      "prime\n"
     ]
    }
   ],
   "source": [
    "#求公因數\n",
    "print(\"請輸入2數,求2數公因數:\")\n",
    "n = int(input('請輸入第1個數:'))\n",
    "m = int(input('請輸入第2個數:'))\n",
    "anwser=[]\n",
    "for i in range(2,n):\n",
    "    if n % i == 0 and m % i ==0:\n",
    "         anwser.append(i)\n",
    "         \n",
    "    else:\n",
    "         continue\n",
    "if len(anwser) == 0:\n",
    "     print(\"prime\")\n",
    "else:\n",
    "\n",
    "    print(\"n,m 的公因數:\",anwser)\n"
   ]
  },
  {
   "cell_type": "code",
   "execution_count": 72,
   "metadata": {},
   "outputs": [
    {
     "name": "stdout",
     "output_type": "stream",
     "text": [
      "1到100的質數是:\n",
      "[]\n"
     ]
    }
   ],
   "source": [
    "#2~100,每一個的質數\n",
    "end = int(input(\"請輸入end值:\"))\n",
    "anwser=[]\n",
    "anwser1=[]\n",
    "for i in range(2,end+1):\n",
    "    if end % i != 0:\n",
    "        anwser.append(i)\n",
    "    else:\n",
    "        continue\n",
    "    if  len(anwser)==0:\n",
    "        anwser1.append(anwser)\n",
    "    else:\n",
    "        continue\n",
    "       \n",
    "   \n",
    "    \n",
    "        \n",
    "print(f\"1到{end}的質數是:\")\n",
    "print(anwser1)"
   ]
  },
  {
   "cell_type": "code",
   "execution_count": 32,
   "metadata": {},
   "outputs": [
    {
     "name": "stdout",
     "output_type": "stream",
     "text": [
      "1到100的質數是:\n",
      "[2, 3, 5, 7, 11, 13, 17, 19, 23, 29, 31, 37, 41, 43, 47, 53, 59, 61, 67, 71, 73, 79, 83, 89, 97]\n"
     ]
    }
   ],
   "source": [
    "end = int(input(\"請輸入end值:\"))\n",
    "anwser=[]\n",
    "if end < 2:                            #質數必須為大於一的正整數，若為1或負數，必不為質數。\n",
    "        print('質數必須為大於一的正整數')    #質數的因數只有1和自己，故質數的因數相加等於(1+質數)，若某數的\n",
    "else:                                  #因數相加等於(1+某數)，則某數為質數，反之，不是質數。\n",
    "                                           #將因數之和歸零\n",
    "        for a in range(2,end+1):           \n",
    "            if end%a!=0 and a%2!=0 and a%3 !=0 and a % 5 != 0 and a%7!=0 or a==2 or a==3 or a==5 or a==7:              \n",
    "                    anwser.append(a)\n",
    "            else:\n",
    "                continue\n",
    "print(f\"1到{end}的質數是:\")\n",
    "print(anwser)"
   ]
  },
  {
   "cell_type": "code",
   "execution_count": 11,
   "metadata": {},
   "outputs": [
    {
     "name": "stdout",
     "output_type": "stream",
     "text": [
      "[2, 3, 5, 7, 11, 13, 17, 19, 23, 29, 31, 37, 41, 43, 47, 53, 59, 61, 67, 71, 73, 79, 83, 89, 97]\n"
     ]
    }
   ],
   "source": [
    "a=[]\n",
    "def is_prime(n):\n",
    "    for i in range(2, n):\n",
    "        if n % i == 0:  # 整除，i 是 n 的因數，所以 n 不是質數。\n",
    "            return False\n",
    "    return True     # 都沒有人能整除，所以 n 是質數。\n",
    "\n",
    "n = int(input('Input a number: '))  # 得到輸入值 n。\n",
    "\n",
    "for i in range(2, n + 1):   # 產生 2 到 n 的數字。\n",
    "    i_is_prime = is_prime(i)    # 判斷 i 是否為質數。\n",
    "    if i_is_prime:              # 如果是，印出來。\n",
    "        a.append(i)\n",
    "print(a)"
   ]
  },
  {
   "cell_type": "code",
   "execution_count": null,
   "metadata": {},
   "outputs": [],
   "source": [
    "#猜中要告知猜了幾次\n",
    "#沒猜中要有提醒\n",
    "#import random\n",
    "#min = 1\n",
    "#max = 100\n",
    "#count = 0\n",
    "#target = random.randint(min, max)\n",
    "#print(\"===============猜數字遊戲=================:\\n\")\n",
    "#while(True):\n",
    "   #keyin = input(f\"猜數字範圍{min}~{max}\")\n",
    "#例如:\n",
    "\n",
    "#要猜的數值是:34\n",
    "\n",
    "#猜數字範圍1~100:50\n",
    "#提示:\n",
    "#再小一點\n",
    "#您已經猜了1次\n",
    "\n",
    "#猜數字範圍1~49:10\n",
    "#提示:\n",
    "#再大一點\n",
    "#您已經猜了2次\n",
    "#猜數字範圍11~49:34\n",
    "\n",
    "#您猜中了,答案是34\n",
    "#您總共猜了3次"
   ]
  },
  {
   "cell_type": "code",
   "execution_count": 24,
   "metadata": {},
   "outputs": [
    {
     "name": "stdout",
     "output_type": "stream",
     "text": [
      "請輸入最小值：1\n",
      "請輸入最大值：Blank values are not allowed.\n",
      "請輸入最大值：1\n",
      "1\n"
     ]
    }
   ],
   "source": [
    "import random\n",
    "import pyinputplus as pyip\n",
    "count=0\n",
    "min = pyip.inputInt(\"請輸入最小值：\")\n",
    "print(min)\n",
    "max = pyip.inputInt(\"請輸入最大值：\")\n",
    "print(max)\n",
    "target=random.randint(min,max)\n",
    "\n",
    "while True:\n",
    "    count+=1\n",
    "    keyin = int(input(f'請輸入{min}~{max}範圍內的數字'))\n",
    "    "
   ]
  },
  {
   "cell_type": "code",
   "execution_count": 20,
   "metadata": {},
   "outputs": [
    {
     "name": "stdout",
     "output_type": "stream",
     "text": [
      "+===============猜數字遊戲=================+\n",
      "再小一點\n",
      "您一共猜了1次\n",
      "您一共猜了1次\n",
      "再小一點\n",
      "您一共猜了2次\n",
      "您一共猜了2次\n",
      "再大一點\n",
      "您一共猜了3次\n",
      "再大一點\n",
      "您一共猜了4次\n",
      "再小一點\n",
      "您一共猜了5次\n",
      "您一共猜了5次\n",
      "再大一點\n",
      "您一共猜了6次\n",
      "再大一點\n",
      "您一共猜了7次\n",
      "再小一點\n",
      "您一共猜了8次\n",
      "您一共猜了8次\n",
      "再大一點\n",
      "您一共猜了9次\n",
      "再小一點\n",
      "您一共猜了10次\n",
      "您一共猜了10次\n",
      "猜對了,答案是17\n",
      "您總共猜了11次\n"
     ]
    },
    {
     "ename": "ValueError",
     "evalue": "invalid literal for int() with base 10: ''",
     "output_type": "error",
     "traceback": [
      "\u001b[1;31m---------------------------------------------------------------------------\u001b[0m",
      "\u001b[1;31mValueError\u001b[0m                                Traceback (most recent call last)",
      "\u001b[1;32mc:\\github\\__11209python_school__\\lesson8_作業.ipynb 儲存格 8\u001b[0m line \u001b[0;36m1\n\u001b[0;32m      <a href='vscode-notebook-cell:/c%3A/github/__11209python_school__/lesson8_%E4%BD%9C%E6%A5%AD.ipynb#X11sZmlsZQ%3D%3D?line=8'>9</a>\u001b[0m \u001b[39mwhile\u001b[39;00m(\u001b[39mTrue\u001b[39;00m):\n\u001b[0;32m     <a href='vscode-notebook-cell:/c%3A/github/__11209python_school__/lesson8_%E4%BD%9C%E6%A5%AD.ipynb#X11sZmlsZQ%3D%3D?line=9'>10</a>\u001b[0m         count \u001b[39m+\u001b[39m\u001b[39m=\u001b[39m \u001b[39m1\u001b[39m\n\u001b[1;32m---> <a href='vscode-notebook-cell:/c%3A/github/__11209python_school__/lesson8_%E4%BD%9C%E6%A5%AD.ipynb#X11sZmlsZQ%3D%3D?line=10'>11</a>\u001b[0m         keyin \u001b[39m=\u001b[39m \u001b[39mint\u001b[39;49m(\u001b[39minput\u001b[39;49m(\u001b[39mf\u001b[39;49m\u001b[39m\"\u001b[39;49m\u001b[39m猜數字範圍\u001b[39;49m\u001b[39m{\u001b[39;49;00m\u001b[39mmin\u001b[39;49m\u001b[39m}\u001b[39;49;00m\u001b[39m~\u001b[39;49m\u001b[39m{\u001b[39;49;00m\u001b[39mmax\u001b[39;49m\u001b[39m}\u001b[39;49;00m\u001b[39m\"\u001b[39;49m))\n\u001b[0;32m     <a href='vscode-notebook-cell:/c%3A/github/__11209python_school__/lesson8_%E4%BD%9C%E6%A5%AD.ipynb#X11sZmlsZQ%3D%3D?line=11'>12</a>\u001b[0m         \u001b[39mif\u001b[39;00m (keyin \u001b[39m>\u001b[39m\u001b[39m=\u001b[39m \u001b[39m1\u001b[39m \u001b[39mand\u001b[39;00m keyin \u001b[39m<\u001b[39m\u001b[39m=\u001b[39m \u001b[39mmax\u001b[39m):\u001b[39m#(1 <= keyin <= max )\u001b[39;00m\n\u001b[0;32m     <a href='vscode-notebook-cell:/c%3A/github/__11209python_school__/lesson8_%E4%BD%9C%E6%A5%AD.ipynb#X11sZmlsZQ%3D%3D?line=12'>13</a>\u001b[0m             \u001b[39mif\u001b[39;00m (keyin \u001b[39m==\u001b[39m target):\n",
      "\u001b[1;31mValueError\u001b[0m: invalid literal for int() with base 10: ''"
     ]
    }
   ],
   "source": [
    "#老師ver\n",
    "import random\n",
    "while True:\n",
    "    min = 1\n",
    "    max = 100\n",
    "    count = 0\n",
    "    target = random.randint(min, max)\n",
    "    print(\"+===============猜數字遊戲=================+\")\n",
    "    while(True):\n",
    "            count += 1\n",
    "            keyin = int(input(f\"猜數字範圍{min}~{max}\"))\n",
    "            if (keyin >= 1 and keyin <= max):#(1 <= keyin <= max )\n",
    "                if (keyin == target):\n",
    "                    print(f\"猜對了,答案是{target}\")\n",
    "                    print(f\"您總共猜了{count}次\")\n",
    "                    again=input(f'是否要繼續遊玩? y繼續,n退出')\n",
    "                    if again == 'y':\n",
    "                        continue \n",
    "                    break\n",
    "                \n",
    "                elif (keyin > target):\n",
    "                    print(\"再小一點\")\n",
    "                    max = keyin - 1\n",
    "                    print(f\"您一共猜了{count}次\")\n",
    "                elif (keyin < target):\n",
    "                    print(\"再大一點\")\n",
    "                    min = keyin + 1  \n",
    "                \n",
    "                print(f\"您一共猜了{count}次\")\n",
    "                \n",
    "            else:\n",
    "                print(\"請輸入提示範圍的數字\")\n",
    "\n",
    "\n",
    "    again=input(f'是否要繼續遊玩? y繼續,n退出')\n",
    "    if again != 'y':\n",
    "        break\n",
    "    \n",
    "    \n",
    "print(\"遊戲結束!\")\n"
   ]
  },
  {
   "cell_type": "code",
   "execution_count": null,
   "metadata": {},
   "outputs": [],
   "source": [
    "#老師ver\n",
    "import random\n",
    "min = 1\n",
    "max = 100\n",
    "count = 0\n",
    "target = random.randint(min, max)\n",
    "print(\"===============猜數字遊戲=================:\\n\")\n",
    "while(True):\n",
    "    count += 1\n",
    "    keyin = int(input(f\"猜數字範圍{min}~{max}\"))\n",
    "    if (1 <= keyin <= max):\n",
    "        if(keyin == target):\n",
    "            print(f\"賓果!猜對了, 答案是:{target}\")\n",
    "            print(f\"總共猜了{count}次\")\n",
    "            break\n",
    "        elif (keyin > target):\n",
    "            print(\"再小一點\")\n",
    "            max = keyin - 1\n",
    "            \n",
    "        elif (keyin < target):\n",
    "            print(\"再大一點\")\n",
    "            min = keyin + 1\n",
    "            \n",
    "        print(f\"您已經猜了{count}次\")\n",
    "    else:\n",
    "        print(\"請輸入提示範圍內的數字\")\n",
    "\n",
    "print(\"遊戲結束!\")"
   ]
  },
  {
   "cell_type": "code",
   "execution_count": null,
   "metadata": {},
   "outputs": [],
   "source": [
    "#老師ver.2\n",
    "import random\n",
    "import pyinputplus as pyip\n",
    "\n",
    "while True:\n",
    "    min = 1\n",
    "    max = 100\n",
    "    count = 0\n",
    "    target = random.randint(min, max)\n",
    "    print(target)\n",
    "    print(\"===============猜數字遊戲=================:\\n\")\n",
    "    while(True):\n",
    "        count += 1\n",
    "        keyin = int(input(f\"猜數字範圍{min}~{max}\"))\n",
    "        if (1 <= keyin <= max):\n",
    "            if(keyin == target):\n",
    "                print(f\"賓果!猜對了, 答案是:{target}\")\n",
    "                print(f\"總共猜了{count}次\")\n",
    "                break\n",
    "            elif (keyin > target):\n",
    "                print(\"再小一點\")\n",
    "                max = keyin - 1\n",
    "                \n",
    "            elif (keyin < target):\n",
    "                print(\"再大一點\")\n",
    "                min = keyin + 1\n",
    "                \n",
    "            print(f\"您已經猜了{count}次\")\n",
    "        else:\n",
    "            print(\"請輸入提示範圍內的數字\")\n",
    "    answer = pyip.inputYesNo(prompt=\"還要繼續嗎?(y,n)\",yesVal='y',noVal='n')\n",
    "    if not (answer == 'y'):\n",
    "        break\n",
    "print(\"遊戲結束\")"
   ]
  },
  {
   "cell_type": "code",
   "execution_count": null,
   "metadata": {},
   "outputs": [],
   "source": [
    "#班長ver\n",
    "import random\n",
    "min = 1\n",
    "max = 100\n",
    "count = 0\n",
    "target = random.randint(min, max)\n",
    "print(\"===============猜數字遊戲=================:\")\n",
    "while(True):\n",
    "   try:\n",
    "      keyin = input(f\"猜數字範圍{min}~{max}[按q終止遊戲]\")\n",
    "      if keyin == 'q':                          #方便中途停止遊戲\n",
    "         print('遊戲中止')     \n",
    "         break                \n",
    "      keyinInt = int(keyin)\n",
    "      if keyinInt >= max:                       #避免最大值變大     \n",
    "         print(f'比{max}小')\n",
    "         continue             \n",
    "      if keyinInt <= min:                       #避免最小值變小              \n",
    "         print(f'比{min}大')\n",
    "         continue\n",
    "   except:\n",
    "      print('格式錯誤，請輸入整數')               #顯示輸入字串時的提示文字\n",
    "      continue               \n",
    "   else:\n",
    "      count += 1                                #計算猜的次數\n",
    "      print()                                   #空一行排版\n",
    "      print(f'猜數字範圍{min}~{max}:',end='')    #猜數字範圍1~100:\n",
    "      print(keyinInt)                           #輸入值\n",
    "      if keyinInt == target:                    #猜中的情況\n",
    "         print(f'您猜中了,答案是{keyinInt}')     #顯示正確數字\n",
    "         print(f'您總共猜了{count}次')           #帶入猜的次數\n",
    "         break                                  #離開迴圈\n",
    "      elif keyinInt < target:                               #輸入值較小的情況\n",
    "         min = keyinInt                                     #改變最小值為輸入值\n",
    "         print('提示:再大一點')                              #提示\n",
    "         print(f'您已經猜了{count}次')                       #帶入猜的次數\n",
    "         continue                                           #從頭來過\n",
    "      else:                                                                   #輸入值較大的情況\n",
    "         max = keyinInt                                                       #改變最大值為輸入值\n",
    "         print('提示:再小一點')                                                #提示\n",
    "         print(f'您已經猜了{count}次')                                         #帶入猜的次數"
   ]
  }
 ],
 "metadata": {
  "kernelspec": {
   "display_name": ".venv",
   "language": "python",
   "name": "python3"
  },
  "language_info": {
   "codemirror_mode": {
    "name": "ipython",
    "version": 3
   },
   "file_extension": ".py",
   "mimetype": "text/x-python",
   "name": "python",
   "nbconvert_exporter": "python",
   "pygments_lexer": "ipython3",
   "version": "3.10.8"
  },
  "orig_nbformat": 4
 },
 "nbformat": 4,
 "nbformat_minor": 2
}
