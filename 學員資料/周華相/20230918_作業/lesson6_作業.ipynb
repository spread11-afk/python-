{
 "cells": [
  {
   "cell_type": "code",
   "execution_count": 4,
   "metadata": {},
   "outputs": [
    {
     "name": "stdout",
     "output_type": "stream",
     "text": [
      "請輸入學生分數:59\n",
      "丁\n"
     ]
    }
   ],
   "source": [
    "\n",
    "# 作業\n",
    "# 90(含)~100分為「優」\n",
    "# 80(含)~89分為「甲」\n",
    "# 70(含)~79分為「乙」\n",
    "# 60(含)~69分為「丙」\n",
    "# 0(含)~59分為「丁」\n",
    "import pyinputplus as pyip\n",
    "score = pyip.inputInt(\"請輸入學生分數:\",min=0,max=100)\n",
    "print(score)\n",
    "# 巢狀結構\n",
    "if score>=90:\n",
    "    print('優')\n",
    "else:\n",
    "    if score>=80:\n",
    "        print('甲')\n",
    "    else:\n",
    "        if score>=70:\n",
    "            print('乙')\n",
    "        else:\n",
    "            if score>=60:\n",
    "                print('丙')\n",
    "            else:\n",
    "                if score<=59:\n",
    "                    print('丁')\n",
    "\n",
    "\n"
   ]
  },
  {
   "cell_type": "code",
   "execution_count": 5,
   "metadata": {},
   "outputs": [
    {
     "name": "stdout",
     "output_type": "stream",
     "text": [
      "請輸入學生分數:59\n",
      "丁\n"
     ]
    }
   ],
   "source": [
    "\n",
    "# 作業\n",
    "# 90(含)~100分為「優」\n",
    "# 80(含)~89分為「甲」\n",
    "# 70(含)~79分為「乙」\n",
    "# 60(含)~69分為「丙」\n",
    "# 0(含)~59分為「丁」\n",
    "import pyinputplus as pyip\n",
    "score = pyip.inputInt(\"請輸入學生分數:\",min=0,max=100)\n",
    "print(score)\n",
    "# 多項選擇\n",
    "if score>=90:\n",
    "    print('優')\n",
    "elif score>=80:\n",
    "    print('甲')\n",
    "elif score>=70:\n",
    "    print('乙')\n",
    "elif score>=60:\n",
    "    print('丙')\n",
    "elif score<=59:\n",
    "    print('丁')\n",
    "\n",
    "\n"
   ]
  },
  {
   "cell_type": "code",
   "execution_count": 17,
   "metadata": {},
   "outputs": [
    {
     "name": "stdout",
     "output_type": "stream",
     "text": [
      "請輸入購買金額:9999\n",
      "實付金額: 9999\n"
     ]
    }
   ],
   "source": [
    "#輸入顧客購買金額，若金額在\n",
    "#100000元打8折. \n",
    "#50000打85折. \n",
    "#30000打9折. \n",
    "#10000打95折. \n",
    "\n",
    "#請輸入購買金額:130000\n",
    "#實付金額是: 104000.0 元\n",
    "\n",
    "import pyinputplus as pyip\n",
    "price = pyip.inputInt(\"請輸入購買金額:\",min=0)\n",
    "print(price)\n",
    "# 多項選擇\n",
    "if price>=1000000:\n",
    "    money=price*0.8\n",
    "    print(money)\n",
    "elif price>=50000:\n",
    "    money=price*0.85\n",
    "    print(money)\n",
    "elif price>=30000:\n",
    "    money=price*0.9\n",
    "    print(money)\n",
    "elif price>=10000:\n",
    "    money=price*0.95\n",
    "    print(money)\n",
    "else: \n",
    "    money=price\n",
    "    print(\"實付金額:\",money)\n",
    "    "
   ]
  },
  {
   "cell_type": "code",
   "execution_count": 3,
   "metadata": {},
   "outputs": [
    {
     "name": "stdout",
     "output_type": "stream",
     "text": [
      "請輸入購買金額:150000\n",
      "實付金額: 114750.0\n",
      "coupon 15000\n"
     ]
    }
   ],
   "source": [
    "#輸入顧客購買金額，若金額在\n",
    "#100000元打8折. \n",
    "#50000打85折. \n",
    "#30000打9折. \n",
    "#10000打95折. \n",
    "\n",
    "#請輸入購買金額:130000\n",
    "#實付金額是: 104000.0 元\n",
    "\n",
    "import pyinputplus as pyip\n",
    "price = pyip.inputInt(\"請輸入購買金額:\",min=0)\n",
    "print(price)\n",
    "coupon=100*(price//1000)\n",
    "price-=coupon\n",
    "# 多項選擇\n",
    "if price>=100000:\n",
    "    money=price*0.8\n",
    "    print(\"實付金額:\",money)\n",
    "elif price>=50000:\n",
    "    money=price*0.85\n",
    "    print(\"實付金額:\",money)\n",
    "elif price>=30000:\n",
    "    money=price*0.9\n",
    "    print(\"實付金額:\",money)\n",
    "elif price>=10000:\n",
    "    money=price*0.95\n",
    "    print(\"實付金額:\",money)\n",
    "else: \n",
    "    money=price\n",
    "    print(\"實付金額:\",money)\n",
    "    \n",
    "\n",
    "\n",
    "print(\"coupon\",coupon)\n",
    "\n",
    "    "
   ]
  },
  {
   "cell_type": "code",
   "execution_count": 7,
   "metadata": {},
   "outputs": [
    {
     "name": "stdout",
     "output_type": "stream",
     "text": [
      "請輸入購買金額:135000\n",
      "實付金額: 108000.0\n"
     ]
    }
   ],
   "source": [
    "import pyinputplus as pyip\n",
    "price = pyip.inputInt(\"請輸入購買金額:\",min=0)\n",
    "price-=coupon\n",
    "print(price)\n",
    "if price>=100000:\n",
    "    money=price*0.8\n",
    "print(\"實付金額:\",money)"
   ]
  },
  {
   "cell_type": "code",
   "execution_count": 2,
   "metadata": {},
   "outputs": [
    {
     "name": "stdout",
     "output_type": "stream",
     "text": [
      "請輸入國文分數99\n",
      "請輸入數學分數100\n",
      "獎金:500\n"
     ]
    }
   ],
   "source": [
    "chinese = pyip.inputInt(\"請輸入國文分數\")\n",
    "print(chinese)\n",
    "math= pyip.inputInt(\"請輸入數學分數\")\n",
    "print(math)\n",
    "\n",
    "if chinese == 100 and math == 100:\n",
    "    bonus = 1000\n",
    "elif chinese== 100 or math == 100:\n",
    "    bonus = 500\n",
    "else:\n",
    "    bonus = 0\n",
    "    \n",
    "print(f\"獎金:{bonus}\")\n",
    "\n"
   ]
  },
  {
   "cell_type": "code",
   "execution_count": null,
   "metadata": {},
   "outputs": [],
   "source": []
  }
 ],
 "metadata": {
  "kernelspec": {
   "display_name": ".venv",
   "language": "python",
   "name": "python3"
  },
  "language_info": {
   "codemirror_mode": {
    "name": "ipython",
    "version": 3
   },
   "file_extension": ".py",
   "mimetype": "text/x-python",
   "name": "python",
   "nbconvert_exporter": "python",
   "pygments_lexer": "ipython3",
   "version": "3.10.8"
  },
  "orig_nbformat": 4
 },
 "nbformat": 4,
 "nbformat_minor": 2
}
