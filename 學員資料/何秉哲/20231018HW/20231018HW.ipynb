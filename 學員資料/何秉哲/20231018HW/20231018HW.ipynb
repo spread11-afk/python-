{
 "cells": [
  {
   "cell_type": "code",
   "execution_count": 2,
   "metadata": {},
   "outputs": [
    {
     "name": "stdout",
     "output_type": "stream",
     "text": [
      "[*********************100%%**********************]  1 of 1 completed\n"
     ]
    }
   ],
   "source": [
    "\n",
    "import requests\n",
    "import yfinance as yf\n",
    "import csv\n",
    "import pandas as pd\n",
    "from io import StringIO\n",
    "dat = yf.download(\"2330.TW\", start=\"2023-01-01\")\n",
    "data_csv = dat.to_csv()\n",
    "csv_data = pd.read_csv(StringIO(data_csv))\n",
    "int_columns = [\"Open\", \"High\", \"Low\", \"Close\", \"Adj Close\", \"Volume\"]\n",
    "csv_data[int_columns] = csv_data[int_columns].astype(int)\n",
    "csv_data.to_json('台積電.json',orient=\"records\")"
   ]
  },
  {
   "cell_type": "code",
   "execution_count": 1,
   "metadata": {},
   "outputs": [],
   "source": [
    "import pandas as pd\n",
    "import sqlite3\n",
    "import json\n",
    "\n",
    "def create_table(conn):\n",
    "    cursor = conn.cursor()\n",
    "    cursor.execute(\n",
    "        '''\n",
    "        CREATE TABLE IF NOT EXISTS 台積電 (\n",
    "            \"日期\" REAL,\n",
    "            \"開盤價\" REAL,\n",
    "            \"盤中最高價\" REAL,\n",
    "            \"盤中最低價\" REAL,\n",
    "            \"收盤價\" REAL,\n",
    "            \"調整後收盤價\" REAL,\n",
    "            \"成交量\" REAL\n",
    "        );\n",
    "        '''\n",
    "    )\n",
    "    conn.commit()\n",
    "\n",
    "def insert_data(conn):\n",
    "    with open(\"台積電.json\", \"r\") as file:\n",
    "        data = json.load(file)\n",
    "\n",
    "    cursor = conn.cursor()\n",
    "    for entry in data:\n",
    "        cursor.execute(\n",
    "            '''\n",
    "            INSERT INTO 台積電 (日期, 開盤價, 盤中最高價, 盤中最低價, 收盤價, 調整後收盤價, 成交量)\n",
    "            VALUES (?, ?, ?, ?, ?, ?, ?)\n",
    "            ''',\n",
    "            (entry[\"Date\"], entry[\"Open\"], entry[\"High\"], entry[\"Low\"], entry[\"Close\"], entry[\"Adj Close\"], entry[\"Volume\"])\n",
    "        \n",
    "        )\n",
    "    conn.commit()\n",
    "\n",
    "conn = sqlite3.connect(\"台積電.db\")\n",
    "\n",
    "create_table(conn)\n",
    "\n",
    "insert_data(conn)\n",
    "\n",
    "conn.close()"
   ]
  }
 ],
 "metadata": {
  "kernelspec": {
   "display_name": ".venv",
   "language": "python",
   "name": "python3"
  },
  "language_info": {
   "codemirror_mode": {
    "name": "ipython",
    "version": 3
   },
   "file_extension": ".py",
   "mimetype": "text/x-python",
   "name": "python",
   "nbconvert_exporter": "python",
   "pygments_lexer": "ipython3",
   "version": "3.10.8"
  }
 },
 "nbformat": 4,
 "nbformat_minor": 2
}
