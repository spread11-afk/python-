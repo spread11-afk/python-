{
 "cells": [
  {
   "cell_type": "code",
   "execution_count": 34,
   "metadata": {},
   "outputs": [
    {
     "name": "stdout",
     "output_type": "stream",
     "text": [
      "4 3 4 2\n",
      "5 點\n"
     ]
    }
   ],
   "source": [
    "#超級陽春\n",
    "import random\n",
    "a = random.randint(1, 6)\n",
    "b = random.randint(1, 6)\n",
    "c = random.randint(1, 6)\n",
    "d = random.randint(1, 6)\n",
    "print(a,b,c,d)\n",
    "if a==b==c==d:\n",
    "    print(\"恭喜您喜提豹子!!\")\n",
    "elif a==b and c==d or a==c and b==d or a==d and b==c:\n",
    "    ans=max(a,b,c,d)+max(a,b,c,d)\n",
    "    print(ans,\"點\")\n",
    "elif a==b==c or a==c==d or b==c==d:\n",
    "    print(\"QQ 3個一樣還是沒點zz\")    \n",
    "elif a==b:\n",
    "    ans=c+d\n",
    "    print(ans,\"點\")         \n",
    "elif a==c:\n",
    "    ans=b+d \n",
    "    print(ans,\"點\")           \n",
    "elif a==d:\n",
    "    ans=b+c\n",
    "    print(ans,\"點\")       \n",
    "elif b==c:\n",
    "    ans=a+d\n",
    "    print(ans,\"點\")\n",
    "elif b==d:\n",
    "    ans=a+c\n",
    "    print(ans,\"點\")        \n",
    "elif c==d:\n",
    "    ans=a+b\n",
    "    print(ans,\"點\")         \n",
    "else:\n",
    "    print(\"沒點\")"
   ]
  },
  {
   "cell_type": "code",
   "execution_count": 24,
   "metadata": {},
   "outputs": [
    {
     "name": "stdout",
     "output_type": "stream",
     "text": [
      "5 6 3 2\n",
      "沒點\n"
     ]
    }
   ],
   "source": [
    "#稍微陽春\n",
    "import random\n",
    "\n",
    "a = random.randint(1, 6)\n",
    "b = random.randint(1, 6)\n",
    "c = random.randint(1, 6)\n",
    "d = random.randint(1, 6)\n",
    "print(a,b,c,d)\n",
    "same_numbers = None\n",
    "for num in (a,b,c,d):\n",
    "    if (a,b,c,d).count(num) == 2:\n",
    "        same_numbers = num\n",
    "        break\n",
    "\n",
    "if a==b==c==d:\n",
    "    print(\"恭喜您喜提豹子!!\")\n",
    "elif a==b and c==d or a==c and b==d or a==d and b==c:\n",
    "    ans=max(a,b,c,d)+max(a,b,c,d)\n",
    "    print(ans,\"點\")\n",
    "elif a==b==c or a==c==d or b==c==d:\n",
    "    print(\"QQ 3個一樣還是沒點zz\")  \n",
    "elif same_numbers is not None:\n",
    "    other=[num for num in (a,b,c,d) if num != same_numbers]\n",
    "    sum_others = sum(other)\n",
    "    print(sum_others,\"點\")\n",
    "else:\n",
    "    print(\"沒點\")\n",
    "            "
   ]
  },
  {
   "cell_type": "code",
   "execution_count": 18,
   "metadata": {},
   "outputs": [
    {
     "name": "stdout",
     "output_type": "stream",
     "text": [
      "[5, 4, 1, 1]\n",
      "9點\n"
     ]
    }
   ],
   "source": [
    "import random\n",
    "number =[random.randint(1, 6) for _ in range(4)]\n",
    "double=triple=quad=None\n",
    "numbers=sorted(number,reverse=True)\n",
    "print(numbers)\n",
    "for num in numbers:\n",
    "    if numbers.count(num) == 2:\n",
    "        double = num\n",
    "    elif numbers.count(num) == 3:\n",
    "        triple = num\n",
    "    elif numbers.count(num) == 4:\n",
    "        quad = num\n",
    "\n",
    "if quad is not None:\n",
    "    print(\"喜提豹子~\")\n",
    "elif triple is not None:\n",
    "    other=[num for num in numbers if num!=triple]\n",
    "    sumother=sum(other)\n",
    "    print(\"歐歐3個一樣沒點~\")\n",
    "elif double is not None:\n",
    "    other=[num for num in numbers if num!=double]\n",
    "    sumother=sum(other)\n",
    "    print(f\"{sumother}點\")\n",
    "else:\n",
    "    print(\"沒點\")"
   ]
  }
 ],
 "metadata": {
  "kernelspec": {
   "display_name": ".venv",
   "language": "python",
   "name": "python3"
  },
  "language_info": {
   "codemirror_mode": {
    "name": "ipython",
    "version": 3
   },
   "file_extension": ".py",
   "mimetype": "text/x-python",
   "name": "python",
   "nbconvert_exporter": "python",
   "pygments_lexer": "ipython3",
   "version": "3.10.8"
  },
  "orig_nbformat": 4
 },
 "nbformat": 4,
 "nbformat_minor": 2
}
