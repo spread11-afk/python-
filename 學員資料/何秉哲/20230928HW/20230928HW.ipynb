{
 "cells": [
  {
   "cell_type": "code",
   "execution_count": 1,
   "metadata": {},
   "outputs": [
    {
     "name": "stdout",
     "output_type": "stream",
     "text": [
      "\n",
      "姓名:AA\n",
      "骰子一:4\n",
      "骰子二:4\n",
      "骰子三:2\n",
      "骰子四:1\n",
      "得分:3\n",
      "\n",
      "姓名:BB\n",
      "骰子一:5\n",
      "骰子二:5\n",
      "骰子三:4\n",
      "骰子四:1\n",
      "得分:5\n"
     ]
    }
   ],
   "source": [
    "import random\n",
    "\n",
    "class Player:\n",
    "#attribute\n",
    "    def __init__(self, name:str):\n",
    "        self.name = name\n",
    "#method\n",
    "    def __play(self):\n",
    "        double=triple=quad=None\n",
    "        numbers = ''\n",
    "        while numbers == '':   \n",
    "            numbers =[random.randint(1, 6) for _ in range(4)]\n",
    "            numbers=sorted(numbers,reverse=True)\n",
    "            for num in numbers:\n",
    "                if numbers.count(num) == 4:\n",
    "                    quad = num\n",
    "                elif numbers.count(num) == 3:\n",
    "                    triple = num\n",
    "                elif numbers.count(num) == 2:\n",
    "                    double = num\n",
    "            if quad is not None :\n",
    "                score = numbers[0]+12\n",
    "            elif triple is not None:\n",
    "                numbers = ''\n",
    "            elif double is not None:\n",
    "                other=[num for num in numbers if num!=double]\n",
    "                score = sum(other)\n",
    "            else:\n",
    "                numbers = ''\n",
    "        \n",
    "        return f'姓名:{self.name}\\n骰子一:{numbers[0]}\\n骰子二:{numbers[1]}\\n骰子三:{numbers[2]}\\n骰子四:{numbers[3]}\\n得分:{score}'\n",
    "\n",
    "#property\n",
    "    @property\n",
    "    def value(self):\n",
    "        return self.__play()\n",
    "\n",
    "#被呼叫時傳出字串\n",
    "    def __repr__(self) -> str:\n",
    "        descript = \"\"\n",
    "        #descript += f\"姓名:{self.name}\\n\"\n",
    "        #descript += f'骰子一:{numbers[0]}\\n'\n",
    "        #descript += f'骰子二:{numbers[1]}\\n'\n",
    "        #descript += f'骰子三:{numbers[2]}\\n'\n",
    "        #descript += f'骰子四:{numbers[3]}\\n'\n",
    "\n",
    "        return descript\n",
    "if __name__ == \"__main__\":\n",
    "    p1 = Player('AA')\n",
    "    print(p1)\n",
    "    print(p1.value)\n",
    "\n",
    "\n",
    "    p2 = Player('BB')\n",
    "    print(p2)\n",
    "    print(p2.value)\n"
   ]
  }
 ],
 "metadata": {
  "kernelspec": {
   "display_name": "Python 3",
   "language": "python",
   "name": "python3"
  },
  "language_info": {
   "codemirror_mode": {
    "name": "ipython",
    "version": 3
   },
   "file_extension": ".py",
   "mimetype": "text/x-python",
   "name": "python",
   "nbconvert_exporter": "python",
   "pygments_lexer": "ipython3",
   "version": "3.10.8"
  },
  "orig_nbformat": 4
 },
 "nbformat": 4,
 "nbformat_minor": 2
}
