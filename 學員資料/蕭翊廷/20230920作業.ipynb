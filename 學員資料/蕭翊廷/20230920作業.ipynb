{
 "cells": [
  {
   "cell_type": "code",
   "execution_count": 39,
   "metadata": {},
   "outputs": [
    {
     "name": "stdout",
     "output_type": "stream",
     "text": [
      "請輸入身高，單位為(公分):175\n",
      "請輸入體重，單位為(公斤):60\n",
      "19.59\n",
      "「您的體重正常」\n"
     ]
    }
   ],
   "source": [
    "#bmi.py\n",
    "\n",
    "import pyinputplus as pyip\n",
    "height = pyip.inputInt('請輸入身高，單位為(公分):')\n",
    "print(height)\n",
    "weight = pyip.inputInt('請輸入體重，單位為(公斤):')\n",
    "print(weight)\n",
    "BMI = weight / (height/100)**2\n",
    "print(round(BMI,2))\n",
    "\n",
    "if BMI > 30:\n",
    "    print('「您的體重肥胖」')\n",
    "elif BMI > 25 and BMI <=30:\n",
    "    print('「您的體重過重」')\n",
    "elif BMI > 18.5 and BMI <=25:\n",
    "    print('「您的體重正常」')\n",
    "else: \n",
    "    print('「您的體重太輕」')"
   ]
  },
  {
   "cell_type": "code",
   "execution_count": 8,
   "metadata": {},
   "outputs": [
    {
     "name": "stdout",
     "output_type": "stream",
     "text": [
      "收縮壓：130mmHg\n",
      "舒張壓：90mmHg\n",
      "高血壓一期\n"
     ]
    }
   ],
   "source": [
    "#blood pressure.py\n",
    "\n",
    "sbp = int(input('請輸入收縮壓:'))\n",
    "print(f'收縮壓：{sbp}mmHg')\n",
    "dbp = int(input('請輸入舒張壓:'))\n",
    "print(f'舒張壓：{dbp}mmHg')\n",
    "message = ''\n",
    "\n",
    "if sbp < 120 and dbp < 80:\n",
    "    message = '正常'\n",
    "elif sbp < 130 and dbp < 80:\n",
    "    message = '血壓升高'\n",
    "elif sbp >= 130 and dbp < 90:\n",
    "    message = '單純收縮期高血壓'\n",
    "elif sbp < 140 or 80 <= dbp < 90:\n",
    "    message = '高血壓一期'\n",
    "elif sbp >= 140 or dbp >= 90:\n",
    "    message = '高血壓二期'\n",
    "\n",
    "print(message)"
   ]
  }
 ],
 "metadata": {
  "kernelspec": {
   "display_name": ".venv",
   "language": "python",
   "name": "python3"
  },
  "language_info": {
   "codemirror_mode": {
    "name": "ipython",
    "version": 3
   },
   "file_extension": ".py",
   "mimetype": "text/x-python",
   "name": "python",
   "nbconvert_exporter": "python",
   "pygments_lexer": "ipython3",
   "version": "3.10.8"
  },
  "orig_nbformat": 4
 },
 "nbformat": 4,
 "nbformat_minor": 2
}
