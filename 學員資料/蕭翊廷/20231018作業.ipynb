{
 "cells": [
  {
   "cell_type": "code",
   "execution_count": 1,
   "metadata": {},
   "outputs": [],
   "source": [
    "import sqlite3\n",
    "import csv\n",
    "\n",
    "\n",
    "def get_data():\n",
    "    with open('台積電.csv', 'r', encoding='utf-8') as file:\n",
    "        reader = csv.reader(file)\n",
    "        data = list(reader)\n",
    "        return data\n",
    "\n",
    "\n",
    "def create_table(conn):\n",
    "    sql = '''\n",
    "        CREATE TABLE IF NOT EXISTS \"PRICE\" \n",
    "        (\n",
    "        \"ID\"    INTEGER NOT NULL,\n",
    "        \"日期\"\tTEXT NOT NULL,\n",
    "        \"開盤價\"\tNUMERIC,\n",
    "        \"盤中最高價\"\tNUMERIC,\n",
    "        \"盤中最低價\"    NUMERIC,\n",
    "        \"收盤價\"\tNUMERIC,\n",
    "        \"調整後收盤價\"\tNUMERIC,\n",
    "        \"成交量\"\tINTEGER,\n",
    "        PRIMARY KEY(\"ID\" AUTOINCREMENT)\n",
    "        )\n",
    "        '''\n",
    "    cursor = conn.cursor()\n",
    "    cursor.execute(sql)\n",
    "    conn.commit()\n",
    "\n",
    "\n",
    "def insert_data(conn, values):\n",
    "    sql = '''\n",
    "        INSERT INTO \"PRICE\"\n",
    "        (日期, 開盤價, 盤中最高價, 盤中最低價, 收盤價, 調整後收盤價, 成交量)\n",
    "        VALUES(?,?,?,?,?,?,?)\n",
    "        '''\n",
    "    cursor = conn.cursor()\n",
    "    cursor.execute(sql, values)\n",
    "    conn.commit()\n",
    "\n",
    "def main():\n",
    "    conn = sqlite3.connect('TSMC.db')\n",
    "    create_table(conn)\n",
    "\n",
    "    data = get_data()\n",
    "    for item in data:\n",
    "        insert_data(conn, [item[0], item[1], item[2], item[3], item[4], item[5], item[6]])\n",
    "\n",
    "if __name__ == '__main__':\n",
    "    main()"
   ]
  }
 ],
 "metadata": {
  "kernelspec": {
   "display_name": "venv",
   "language": "python",
   "name": "python3"
  },
  "language_info": {
   "codemirror_mode": {
    "name": "ipython",
    "version": 3
   },
   "file_extension": ".py",
   "mimetype": "text/x-python",
   "name": "python",
   "nbconvert_exporter": "python",
   "pygments_lexer": "ipython3",
   "version": "3.10.8"
  }
 },
 "nbformat": 4,
 "nbformat_minor": 2
}
