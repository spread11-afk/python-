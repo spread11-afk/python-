{
 "cells": [
  {
   "cell_type": "code",
   "execution_count": 93,
   "metadata": {},
   "outputs": [
    {
     "name": "stdout",
     "output_type": "stream",
     "text": [
      "100的因數: 1, 2, 4, 5, 10, 20, 25, 50, 100, "
     ]
    }
   ],
   "source": [
    "#求所有因數\n",
    "num = int(input(\"請輸入整數，求所有因數:\"))\n",
    "print(f'{num}的因數:', end=' ')         #顯示提示文字，並將print()的換行功能改為空格\n",
    "\n",
    "for x in range(1,num+1):                #建立x的值為1~num的迴圈\n",
    "    if num % x == 0:                    #若num除x的餘數為0(num可以被x整除)，則x為num的因數\n",
    "        print(x, end=', ')              #顯示x"
   ]
  },
  {
   "cell_type": "code",
   "execution_count": 94,
   "metadata": {},
   "outputs": [
    {
     "name": "stdout",
     "output_type": "stream",
     "text": [
      "請輸入2數,求2數公因數:\n",
      "第一個數為100\n",
      "第二個數為150\n",
      "兩數的公因數為: 1, 2, 5, 10, 25, 50, "
     ]
    }
   ],
   "source": [
    "#求公因數\n",
    "n = int(input('請輸入第1個數:'))            #設立變數n\n",
    "m = int(input('請輸入第2個數:'))            #設立變數m\n",
    "print(\"請輸入2數,求2數公因數:\")             #顯示提示\n",
    "print(f'第一個數為{n}')                     #顯示變數n\n",
    "print(f'第二個數為{m}')                     #顯示變數m\n",
    "print('兩數的公因數為:', end=' ')           #顯示提示\n",
    "\n",
    "for x in range(1, n+1):\n",
    "    if n % x == 0:                          #尋找n的因數\n",
    "        for y in range(1, m+1):             #若x為n的因數，則尋找m的因數\n",
    "            if m % y == 0 and x == y:       #若y為m的因數，且x、y的值相同，則y為n、m的公因數\n",
    "                print(y, end=', ')          #顯示y\n"
   ]
  },
  {
   "cell_type": "code",
   "execution_count": 95,
   "metadata": {},
   "outputs": [
    {
     "name": "stdout",
     "output_type": "stream",
     "text": [
      "79是一個質數\n"
     ]
    }
   ],
   "source": [
    "#2~100,每一個的質數\n",
    "end = int(input(\"請輸入end值:\"))    \n",
    "\n",
    "if end < 2:                            #質數必須為大於一的正整數，若為1或負數，必不為質數。\n",
    "    print('質數必須為大於一的正整數')    #質數的因數只有1和自己，故質數的因數相加等於(1+質數)，若某數的\n",
    "else:                                  #因數相加等於(1+某數)，則某數為質數，反之，不是質數。\n",
    "    total = 0                          #將因數之和歸零\n",
    "    for i in range(1,end+1):           \n",
    "        if end % i == 0:               #尋找因數，若為True，則i為因數\n",
    "            total += i                 #計算因數相加\n",
    "    if total == 1 + end:               #判斷是否為質數，若因數之和相等於(1+end)則為質數，反之則否。\n",
    "        print(f'{end}是一個質數')\n",
    "    else:\n",
    "        print(f'{end}不是一個質數')"
   ]
  },
  {
   "cell_type": "code",
   "execution_count": 96,
   "metadata": {},
   "outputs": [
    {
     "name": "stdout",
     "output_type": "stream",
     "text": [
      "2~100間的質數有: 2 3 5 7 11 13 17 19 23 29 31 37 41 43 47 53 59 61 67 71 73 79 83 89 97 "
     ]
    }
   ],
   "source": [
    "#2~100,每一個的質數\n",
    "end = int(input(\"請輸入end值:\"))    \n",
    "\n",
    "print(f'2~{end}間的質數有:', end=' ')                                                       \n",
    "for i in range(1,end+1): \n",
    "    total = 0          \n",
    "    for j in range(1, i+1):\n",
    "        if i % j == 0:\n",
    "            total += j\n",
    "    if total == 1 + i:\n",
    "        print(i, end=' ')"
   ]
  },
  {
   "cell_type": "code",
   "execution_count": 97,
   "metadata": {},
   "outputs": [
    {
     "name": "stdout",
     "output_type": "stream",
     "text": [
      "2~100間的質數有: 2 3 5 7 11 13 17 19 23 29 31 37 41 43 47 53 59 61 67 71 73 79 83 89 97 "
     ]
    }
   ],
   "source": [
    "#2~100,每一個的質數\n",
    "end = int(input(\"請輸入end值:\"))    \n",
    "\n",
    "print(f'2~{end}間的質數有:', end=' ')                                                       \n",
    "print(2,end= ' ')\n",
    "for i in range(2,end+1):          \n",
    "    for j in range(2,i):\n",
    "        if i % j == 0:\n",
    "            break\n",
    "        if j == i-1:\n",
    "            print(i, end=' ')"
   ]
  },
  {
   "cell_type": "code",
   "execution_count": 15,
   "metadata": {},
   "outputs": [
    {
     "name": "stdout",
     "output_type": "stream",
     "text": [
      "55\n",
      "===============猜數字遊戲=================:\n",
      "\n",
      "猜數字範圍1~100:45\n",
      "提示:再大一點\n",
      "\n",
      "猜數字範圍46~100:55\n",
      "您猜中了,答案是55\n",
      "您總共猜了2次\n",
      "您是否要繼續遊戲?(y,n)\n",
      "遊戲結束\n"
     ]
    }
   ],
   "source": [
    "# 猜數字遊戲\n",
    "import random\n",
    "import pyinputplus as pyip\n",
    "\n",
    "while(True):\n",
    "   min = 1\n",
    "   max = 100\n",
    "   count = 0\n",
    "   target = random.randint(min, max)\n",
    "   print(target)\n",
    "   print(\"===============猜數字遊戲=================:\")\n",
    "   while(True):\n",
    "      try:\n",
    "         keyin = input(f\"猜數字範圍{min}~{max}[按q終止遊戲]\")\n",
    "         if keyin == 'q':                          \n",
    "            print('遊戲中止')     \n",
    "            break                \n",
    "         keyinInt = int(keyin)\n",
    "      except:\n",
    "         print('格式錯誤，請輸入整數')               \n",
    "         continue               \n",
    "      else:\n",
    "         if (min <= keyinInt <= max): \n",
    "            count += 1                                \n",
    "            print()                                   \n",
    "            print(f'猜數字範圍{min}~{max}:',end='')    \n",
    "            print(keyinInt)                           \n",
    "            if (keyinInt == target):                    \n",
    "               print(f'您猜中了,答案是{keyinInt}')     \n",
    "               print(f'您總共猜了{count}次')            \n",
    "               break                                  \n",
    "            elif (keyinInt < target):                               \n",
    "               min = keyinInt + 1                                    \n",
    "               print('提示:再大一點')                        \n",
    "               continue                                           \n",
    "            elif (keyinInt > target):                                                                \n",
    "               max = keyinInt - 1                                                      \n",
    "               print('提示:再小一點')                                                \n",
    "            \n",
    "            print(f'您已經猜了{count}次')\n",
    "         else:\n",
    "            print('請輸入提示範圍內的數字')  \n",
    "   answer = pyip.inputYesNo(prompt='您是否要繼續遊戲?(y,n)', yesVal='y', noVal='n')   \n",
    "   print()\n",
    "   if not answer == 'y':\n",
    "      break\n",
    "print('遊戲結束')"
   ]
  }
 ],
 "metadata": {
  "kernelspec": {
   "display_name": ".venv",
   "language": "python",
   "name": "python3"
  },
  "language_info": {
   "codemirror_mode": {
    "name": "ipython",
    "version": 3
   },
   "file_extension": ".py",
   "mimetype": "text/x-python",
   "name": "python",
   "nbconvert_exporter": "python",
   "pygments_lexer": "ipython3",
   "version": "3.10.8"
  },
  "orig_nbformat": 4
 },
 "nbformat": 4,
 "nbformat_minor": 2
}
