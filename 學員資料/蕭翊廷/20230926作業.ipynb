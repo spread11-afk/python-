{
 "cells": [
  {
   "cell_type": "code",
   "execution_count": null,
   "metadata": {},
   "outputs": [],
   "source": [
    "#骰子遊戲(打香腸)\n",
    "import random\n",
    "for i in range(10):\n",
    "    x = sorted(random.choices(range(1,7),k=4))\n",
    "    print(x)\n",
    "    score=''\n",
    "    if (x[0] == x[1] == x[2] == x[3]):\n",
    "        score = x[0]*100\n",
    "    elif (x[0] != x[1] != x[2] != x[3]):\n",
    "        score = 'None'\n",
    "    elif (x[0] == x[1] == x[2]) or (x[1] == x[2] == x[3]): \n",
    "        score = 'None'\n",
    "    else:\n",
    "        if x[0] == x[1]:\n",
    "            score = x[2] + x[3]\n",
    "        elif x[1] == x[2]:\n",
    "            score = x[0] + x[3]\n",
    "        elif x[2] == x[3]:\n",
    "            score = x[0] + x[1]\n",
    "    print(f'您的分數為:{score}')"
   ]
  },
  {
   "cell_type": "code",
   "execution_count": null,
   "metadata": {},
   "outputs": [],
   "source": [
    "import random\n",
    "for j in range(10):\n",
    "    x = sorted(random.choices(range(1,7),k=4))\n",
    "    print(x)\n",
    "    L = []\n",
    "    score = ''\n",
    "    for i in set(x):\n",
    "        L.append(x.count(i))\n",
    "    if 4 in L:\n",
    "        score = str(x[0])*4\n",
    "    elif 3 in L:\n",
    "        score = 'None'\n",
    "    elif (x[0] != x[1] != x[2] != x[3]):\n",
    "        score = 'None'\n",
    "    else:\n",
    "        if x[0] == x[1]:\n",
    "            score = x[2] + x[3]\n",
    "        elif x[1] == x[2]:\n",
    "            score = x[0] + x[3]\n",
    "        elif x[2] == x[3]:\n",
    "            score = x[0] + x[1]\n",
    "    print(f'您的分數為:{score}') "
   ]
  },
  {
   "cell_type": "code",
   "execution_count": 125,
   "metadata": {},
   "outputs": [
    {
     "name": "stdout",
     "output_type": "stream",
     "text": [
      "[2, 2, 2, 6]\n",
      "您的分數為:0\n"
     ]
    }
   ],
   "source": [
    "import random\n",
    "t = 0\n",
    "score_t = 0 \n",
    "num = [random.randint(1,6) for i in range(4) ]\n",
    "print(sorted(num))\n",
    "for x in range(4):\n",
    "    for j in range(x+1,4) :\n",
    "        if num[x] == num[j] :\n",
    "            t += 1\n",
    "            score_t += num[j]\n",
    "if t == 1 :\n",
    "    point = sum(num)-score_t*2\n",
    "elif  t == 2:\n",
    "    point = max(num)*2\n",
    "elif  t == 6:\n",
    "    point = max(num)*100\n",
    "else :\n",
    "    point = 0\n",
    "print(f'您的分數為:{point}')  "
   ]
  },
  {
   "cell_type": "code",
   "execution_count": null,
   "metadata": {},
   "outputs": [],
   "source": [
    "import random\n",
    "number =[random.randint(1, 6) for _ in range(4)]\n",
    "double=triple=quad=None\n",
    "numbers=sorted(number,reverse=True)\n",
    "print(numbers)\n",
    "for num in numbers:\n",
    "    if numbers.count(num) == 2:\n",
    "        double = num\n",
    "    elif numbers.count(num) == 3:\n",
    "        triple = num\n",
    "    elif numbers.count(num) == 4:\n",
    "        quad = num\n",
    "\n",
    "\n",
    "if quad is not None:\n",
    "    print(\"喜提豹子~\")\n",
    "elif triple is not None:\n",
    "    other=[num for num in numbers if num!=triple]\n",
    "    sumother=sum(other)\n",
    "    print(\"作廢\")\n",
    "elif double is not None:\n",
    "    sumother = sum(numbers) - double*2\n",
    "    print(f\"{sumother}點\")\n",
    "else:\n",
    "    print(\"作廢\")"
   ]
  }
 ],
 "metadata": {
  "kernelspec": {
   "display_name": ".venv",
   "language": "python",
   "name": "python3"
  },
  "language_info": {
   "codemirror_mode": {
    "name": "ipython",
    "version": 3
   },
   "file_extension": ".py",
   "mimetype": "text/x-python",
   "name": "python",
   "nbconvert_exporter": "python",
   "pygments_lexer": "ipython3",
   "version": "3.10.8"
  },
  "orig_nbformat": 4
 },
 "nbformat": 4,
 "nbformat_minor": 2
}
