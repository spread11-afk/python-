{
 "cells": [
  {
   "cell_type": "code",
   "execution_count": 2,
   "metadata": {},
   "outputs": [
    {
     "name": "stdout",
     "output_type": "stream",
     "text": [
      "1為39的因數\n",
      "3為39的因數\n",
      "13為39的因數\n",
      "39為39的因數\n"
     ]
    }
   ],
   "source": [
    "'''\n",
    "求所有因數\n",
    "num = int(input(\"請輸入整數，求所有因數:\"))\n",
    "print(num,\"的因數:\")\n",
    "'''\n",
    "num = int(input(\"請輸入整數，求所有因數:\"))\n",
    "x=1\n",
    "while x<=num:\n",
    "    if num%x==0:\n",
    "        print(f'{x}為{num}的因數')\n",
    "        x+=1\n",
    "        continue\n",
    "    elif num%x!=0:\n",
    "        x+=1\n",
    "        continue\n",
    "        \n",
    "     "
   ]
  },
  {
   "cell_type": "code",
   "execution_count": 12,
   "metadata": {},
   "outputs": [
    {
     "name": "stdout",
     "output_type": "stream",
     "text": [
      "1為24與48的公因數\n",
      "2為24與48的公因數\n",
      "3為24與48的公因數\n",
      "4為24與48的公因數\n",
      "6為24與48的公因數\n",
      "8為24與48的公因數\n",
      "12為24與48的公因數\n"
     ]
    }
   ],
   "source": [
    "'''\n",
    "求公因數\n",
    "print(\"請輸入2數,求2數公因數:\")\n",
    "n = int(input('請輸入第1個數:'))\n",
    "m = int(input('請輸入第2個數:'))\n",
    "'''\n",
    "n = int(input('請輸入第1個數:'))\n",
    "m = int(input('請輸入第2個數:'))\n",
    "x=1\n",
    "while x<n and x<m:\n",
    "    if n%x==0 and m%x==0:\n",
    "        print(f'{x}為{n}與{m}的公因數')\n",
    "        x+=1\n",
    "        continue\n",
    "    else:\n",
    "        x+=1\n",
    "        continue"
   ]
  },
  {
   "cell_type": "code",
   "execution_count": 3,
   "metadata": {},
   "outputs": [
    {
     "name": "stdout",
     "output_type": "stream",
     "text": [
      "2 3 5 7 11 13 17 19 23 29 31 37 41 43 47 53 59 61 67 71 73 79 83 89 97 101 103 107 109 113 127 131 137 139 149 151 157 163 167 173 179 181 191 193 197 199 "
     ]
    }
   ],
   "source": [
    "'''\n",
    "2~100,每一個的質數\n",
    "end = int(input(\"請輸入end值:\"))\n",
    "print(f\"1到{end}的質數是:\")\n",
    "不被任何數整除就是質數\n",
    "'''\n",
    "value=int(input('請輸入結束值'))\n",
    "for i in range(2,value+1): #變數由2開始到11\n",
    "    prime=True\n",
    "    for j in range(2,i):#變數由2開始到11\n",
    "        if i%j==0: #如果i除以j等於0\n",
    "            #print(f'{i}被{j}整除')\n",
    "            prime=False\n",
    "            #這一行是刪除能被整除的數字\n",
    "    if prime:\n",
    "        print(f'{i}',end=\" \")"
   ]
  },
  {
   "cell_type": "code",
   "execution_count": 7,
   "metadata": {},
   "outputs": [
    {
     "name": "stdout",
     "output_type": "stream",
     "text": [
      "83是答案\n",
      "再比50大一點\n",
      "您猜了1次\n",
      "再比75大一點\n",
      "您猜了2次\n",
      "再比90小一點\n",
      "您猜了3次\n"
     ]
    },
    {
     "ename": "ValueError",
     "evalue": "invalid literal for int() with base 10: ''",
     "output_type": "error",
     "traceback": [
      "\u001b[1;31m---------------------------------------------------------------------------\u001b[0m",
      "\u001b[1;31mValueError\u001b[0m                                Traceback (most recent call last)",
      "\u001b[1;32mc:\\2023_Python\\各項作業區\\Python\\質數-loop\\loop_python\\homework-20230922.ipynb 儲存格 4\u001b[0m line \u001b[0;36m1\n\u001b[0;32m     <a href='vscode-notebook-cell:/c%3A/2023_Python/%E5%90%84%E9%A0%85%E4%BD%9C%E6%A5%AD%E5%8D%80/Python/%E8%B3%AA%E6%95%B8-loop/loop_python/homework-20230922.ipynb#W3sZmlsZQ%3D%3D?line=11'>12</a>\u001b[0m \u001b[39mwhile\u001b[39;00m (\u001b[39mTrue\u001b[39;00m):\n\u001b[0;32m     <a href='vscode-notebook-cell:/c%3A/2023_Python/%E5%90%84%E9%A0%85%E4%BD%9C%E6%A5%AD%E5%8D%80/Python/%E8%B3%AA%E6%95%B8-loop/loop_python/homework-20230922.ipynb#W3sZmlsZQ%3D%3D?line=12'>13</a>\u001b[0m     count\u001b[39m+\u001b[39m\u001b[39m=\u001b[39m\u001b[39m1\u001b[39m\n\u001b[1;32m---> <a href='vscode-notebook-cell:/c%3A/2023_Python/%E5%90%84%E9%A0%85%E4%BD%9C%E6%A5%AD%E5%8D%80/Python/%E8%B3%AA%E6%95%B8-loop/loop_python/homework-20230922.ipynb#W3sZmlsZQ%3D%3D?line=13'>14</a>\u001b[0m     x\u001b[39m=\u001b[39m\u001b[39mint\u001b[39;49m(\u001b[39minput\u001b[39;49m(\u001b[39mf\u001b[39;49m\u001b[39m'\u001b[39;49m\u001b[39m請猜一個數字\u001b[39;49m\u001b[39m{\u001b[39;49;00m\u001b[39mmin\u001b[39;49m\u001b[39m}\u001b[39;49;00m\u001b[39m-\u001b[39;49m\u001b[39m{\u001b[39;49;00m\u001b[39mmax\u001b[39;49m\u001b[39m}\u001b[39;49;00m\u001b[39m'\u001b[39;49m))\n\u001b[0;32m     <a href='vscode-notebook-cell:/c%3A/2023_Python/%E5%90%84%E9%A0%85%E4%BD%9C%E6%A5%AD%E5%8D%80/Python/%E8%B3%AA%E6%95%B8-loop/loop_python/homework-20230922.ipynb#W3sZmlsZQ%3D%3D?line=14'>15</a>\u001b[0m     \u001b[39mif\u001b[39;00m x\u001b[39m==\u001b[39mTarget:\n\u001b[0;32m     <a href='vscode-notebook-cell:/c%3A/2023_Python/%E5%90%84%E9%A0%85%E4%BD%9C%E6%A5%AD%E5%8D%80/Python/%E8%B3%AA%E6%95%B8-loop/loop_python/homework-20230922.ipynb#W3sZmlsZQ%3D%3D?line=15'>16</a>\u001b[0m         \u001b[39mprint\u001b[39m(\u001b[39mf\u001b[39m\u001b[39m'\u001b[39m\u001b[39m您猜對了，答案是\u001b[39m\u001b[39m{\u001b[39;00mx\u001b[39m}\u001b[39;00m\u001b[39m'\u001b[39m)\n",
      "\u001b[1;31mValueError\u001b[0m: invalid literal for int() with base 10: ''"
     ]
    }
   ],
   "source": [
    "#猜數字遊戲\n",
    "#使用import random產生被猜的數字\n",
    "#亂數範圍從1到100\n",
    "#當猜的數字小於答案時，提示“再大一點”\n",
    "#當猜的數字大於答案時，提示“再小一點”\n",
    "import random #呼叫random功能\n",
    "Target=random.randint(1,100) #產生1~100之間的一個整數\n",
    "print(f'{Target}是答案') #這行是協助驗證的答案，進行時可以註解掉\n",
    "min=1 #作1個最小的變數\n",
    "max=100 #作1個最大變數\n",
    "count=0 #作1個計算次數的變數\n",
    "#================開始遊戲的迴圈================\n",
    "while (True):\n",
    "    count+=1\n",
    "    x=int(input(f'請猜一個數字{min}-{max}'))\n",
    "    if x==Target:\n",
    "        print(f'您猜對了，答案是{x}')\n",
    "        print(f'您猜了{count}次')\n",
    "        break\n",
    "    elif x<Target:\n",
    "        print(f'再比{x}大一點')\n",
    "        min=x+1\n",
    "        print(f'您猜了{count}次')\n",
    "    elif x>Target:\n",
    "        print(f'再比{x}小一點')\n",
    "        max=x-1\n",
    "        print(f'您猜了{count}次')\n",
    "print('遊戲結束')"
   ]
  }
 ],
 "metadata": {
  "kernelspec": {
   "display_name": ".venv",
   "language": "python",
   "name": "python3"
  },
  "language_info": {
   "codemirror_mode": {
    "name": "ipython",
    "version": 3
   },
   "file_extension": ".py",
   "mimetype": "text/x-python",
   "name": "python",
   "nbconvert_exporter": "python",
   "pygments_lexer": "ipython3",
   "version": "3.10.8"
  },
  "orig_nbformat": 4
 },
 "nbformat": 4,
 "nbformat_minor": 2
}
