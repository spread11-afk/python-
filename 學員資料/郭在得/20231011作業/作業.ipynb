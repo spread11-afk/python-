{
 "cells": [
  {
   "cell_type": "markdown",
   "metadata": {},
   "source": [
    "# tkinter\n",
    "Python內建模組，創造醜視窗的環境。"
   ]
  },
  {
   "cell_type": "markdown",
   "metadata": {},
   "source": [
    "## 建立根視窗\n",
    "需要先引入：`from tkinter import *`\n",
    "\n",
    "### 常見設定：\n",
    "\n",
    "`Tk()`：建立根視窗(root window)\n",
    "\n",
    "`title()`：視窗標題\n",
    "\n",
    "`geometry(\"width x height\")`：視窗長寬(px)\n",
    "\n",
    "`minsize(width=int, height=int)`：視窗最小長寬(px)\n",
    "\n",
    "`maxsize(width=int, height=int)`：視窗最大長寬(px)\n",
    "\n",
    "`resizable(width=bool, height=bool)`：是否可改視窗長寬\n",
    "\n",
    "`mainloop()`：無限循環到使用者按叉叉為止"
   ]
  },
  {
   "cell_type": "code",
   "execution_count": 18,
   "metadata": {},
   "outputs": [],
   "source": [
    "from tkinter import *\n",
    "\n",
    "window = Tk()\n",
    "window.title(\"Hello World!\")\n",
    "window.minsize(width=500, height=500)\n",
    "window.resizable(width=False, height=False)\n",
    "window.mainloop()"
   ]
  },
  {
   "cell_type": "markdown",
   "metadata": {},
   "source": [
    "## 元件(widget)\n",
    "### 標籤(Label)\n",
    "語法：`labal名稱=Label(設定內容)`，結束用`label名稱.pack()`將標籤包裝到視窗上。\n",
    "\n",
    "#### 常見設定：\n",
    "`text`：輸入文字內容\n",
    "\n",
    "`font`：字型&大小\n",
    "\n",
    "`width`：寬度(字元)\n",
    "\n",
    "`height`：高度(字元)\n",
    "\n",
    "`padx`：padding-x(px)\n",
    "\n",
    "`pady`：padding-y(px)\n",
    "\n",
    "(沒有pad這種東西)\n",
    "\n",
    "`background/bg`：背景顏色\n",
    "\n",
    "`foreground/fg`：文字顏色"
   ]
  },
  {
   "cell_type": "code",
   "execution_count": 17,
   "metadata": {},
   "outputs": [],
   "source": [
    "a=Label(\n",
    "    text=\"Hi\",\n",
    "    font=(\"Arial\",14,\"bold\"),\n",
    "    padx=10,\n",
    "    pady=10,\n",
    "    bg=\"red\",\n",
    "    fg=\"purple\"\n",
    ")\n",
    "a.pack()"
   ]
  },
  {
   "cell_type": "markdown",
   "metadata": {},
   "source": [
    "視窗莫名的長"
   ]
  }
 ],
 "metadata": {
  "kernelspec": {
   "display_name": ".venv",
   "language": "python",
   "name": "python3"
  },
  "language_info": {
   "codemirror_mode": {
    "name": "ipython",
    "version": 3
   },
   "file_extension": ".py",
   "mimetype": "text/x-python",
   "name": "python",
   "nbconvert_exporter": "python",
   "pygments_lexer": "ipython3",
   "version": "3.10.8"
  },
  "orig_nbformat": 4
 },
 "nbformat": 4,
 "nbformat_minor": 2
}
