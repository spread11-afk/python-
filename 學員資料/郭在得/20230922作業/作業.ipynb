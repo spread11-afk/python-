{
 "cells": [
  {
   "cell_type": "markdown",
   "metadata": {},
   "source": [
    "## 作業1：因數、公因數、質數\n",
    "### 求所有因數\n",
    "num = int(input(\"請輸入整數，求所有因數:\"))\n",
    "\n",
    "print(num,\"的因數:\")"
   ]
  },
  {
   "cell_type": "code",
   "execution_count": 1,
   "metadata": {},
   "outputs": [
    {
     "name": "stdout",
     "output_type": "stream",
     "text": [
      "80的因數：1 2 4 5 8 10 16 20 40 "
     ]
    }
   ],
   "source": [
    "num =int(input(\"請輸入整數，求所有因數：\"))\n",
    "print(f\"{num}的因數：\",end=\"\")\n",
    "for i in range(1,num):\n",
    "    if num % i == 0:\n",
    "        print(i,end=\" \")"
   ]
  },
  {
   "cell_type": "markdown",
   "metadata": {},
   "source": [
    "### 求公因數\n",
    "print(\"請輸入2數,求2數公因數:\")\n",
    "\n",
    "n = int(input('請輸入第1個數:'))\n",
    "\n",
    "m = int(input('請輸入第2個數:'))"
   ]
  },
  {
   "cell_type": "code",
   "execution_count": 3,
   "metadata": {},
   "outputs": [
    {
     "name": "stdout",
     "output_type": "stream",
     "text": [
      "80 & 100的公因數：1 2 4 5 10 20 "
     ]
    }
   ],
   "source": [
    "n =int(input(\"請輸入第1個數：\"))\n",
    "m =int(input(\"請輸入第2個數，求公因數：\"))\n",
    "print(f\"{n} & {m}的公因數：\",end=\"\")\n",
    "for i in range(1,n):\n",
    "    if n % i == 0:\n",
    "        if m % i ==0:\n",
    "            print(i,end=\" \")"
   ]
  },
  {
   "cell_type": "markdown",
   "metadata": {},
   "source": [
    "### 求範圍內質數"
   ]
  },
  {
   "cell_type": "code",
   "execution_count": null,
   "metadata": {},
   "outputs": [],
   "source": [
    "end = int(input(\"請輸入範圍(1~)：\"))\n",
    "print(f\"1到{end}的質數是:\")\n",
    "for end in range(1,end+1):\n",
    "   for i in range(2,end):\n",
    "       if end % i == 0:\n",
    "           break\n",
    "   else:\n",
    "       print(end,end=\" \")"
   ]
  },
  {
   "cell_type": "markdown",
   "metadata": {},
   "source": [
    "## 作業2：猜數字遊戲\n",
    "\n",
    "- 猜中要告知猜了幾次\n",
    "\n",
    "- 沒猜中要有提醒\n",
    "\n",
    "```\n",
    "import random\n",
    "min = 1\n",
    "max = 100\n",
    "count = 0\n",
    "target = random.randint(min, max)\n",
    "print(\"===============猜數字遊戲=================:\\n\")\n",
    "while(True):\n",
    "   keyin = input(f\"猜數字範圍{min}~{max}\")\n",
    "```\n",
    "\n",
    "執行內容:\n",
    "\n",
    "假設要猜的數值是:34(不用列出來)\n",
    "\n",
    "猜數字範圍1~100:50\n",
    "\n",
    "提示:\n",
    "\n",
    "再小一點\n",
    "\n",
    "您已經猜了1次\n",
    "\n",
    "\n",
    "猜數字範圍1~49:10\n",
    "\n",
    "提示:\n",
    "\n",
    "再大一點\n",
    "\n",
    "您已經猜了2次\n",
    "\n",
    "\n",
    "猜數字範圍11~49:34\n",
    "\n",
    "您猜中了,答案是34\n",
    "\n",
    "您總共猜了3次"
   ]
  },
  {
   "cell_type": "code",
   "execution_count": 7,
   "metadata": {},
   "outputs": [
    {
     "name": "stdout",
     "output_type": "stream",
     "text": [
      "===============猜數字遊戲=================\n",
      "66\n",
      "您猜中了,答案是66\n",
      "您總共猜了1次\n"
     ]
    }
   ],
   "source": [
    "import random\n",
    "\n",
    "min=1\n",
    "max=100\n",
    "a=random.randint(min,max)\n",
    "n=1\n",
    "g=0\n",
    "\n",
    "print(\"===============猜數字遊戲=================\")\n",
    "\n",
    "while a!= g:\n",
    "    g=int(input(f\"猜數字範圍{min}~{max}:\"))\n",
    "    if g<a:\n",
    "        print(f\"提示:\\n再大一點\\n您已經猜了{n}次\")\n",
    "        n +=1\n",
    "        min=g\n",
    "        print(f\"猜數字範圍{min}~{max}\\n\")\n",
    "    elif g>a:\n",
    "        print(f\"提示:\\n再小一點\\n您已經猜了{n}次\")\n",
    "        n +=1\n",
    "        max=g\n",
    "        print(f\"猜數字範圍{min}~{max}\\n\")\n",
    "    else:\n",
    "        break\n",
    "print(f\"您猜中了,答案是{a}\\n您總共猜了{n}次\")"
   ]
  },
  {
   "cell_type": "markdown",
   "metadata": {},
   "source": [
    "### 進階 重複遊玩"
   ]
  },
  {
   "cell_type": "code",
   "execution_count": 6,
   "metadata": {},
   "outputs": [
    {
     "name": "stdout",
     "output_type": "stream",
     "text": [
      "===============猜數字遊戲=================\n",
      "29\n",
      "您猜中了,答案是29\n",
      "您總共猜了1次\n"
     ]
    }
   ],
   "source": [
    "import random\n",
    "import pyinputplus as pyip\n",
    "\n",
    "while True:\n",
    "    min=1\n",
    "    max=100\n",
    "    a=random.randint(min,max)\n",
    "    n=1\n",
    "    g=0\n",
    "\n",
    "    print(\"===============猜數字遊戲=================\")\n",
    "\n",
    "    while a!= g:\n",
    "        g=int(input(f\"猜數字範圍{min}~{max}:\"))\n",
    "        if g<a:\n",
    "            print(f\"提示:\\n再大一點\\n您已經猜了{n}次\")\n",
    "            n +=1\n",
    "            min=g\n",
    "            print(f\"猜數字範圍{min}~{max}\\n\")\n",
    "        elif g>a:\n",
    "            print(f\"提示:\\n再小一點\\n您已經猜了{n}次\")\n",
    "            n +=1\n",
    "            max=g\n",
    "            print(f\"猜數字範圍{min}~{max}\\n\")\n",
    "        else:\n",
    "            break\n",
    "    print(f\"您猜中了,答案是{a}\\n您總共猜了{n}次\")\n",
    "    \n",
    "    if  not input(\"還想再玩一次嗎？(y,n)\") == \"y\":\n",
    "        break"
   ]
  },
  {
   "cell_type": "markdown",
   "metadata": {},
   "source": [
    "### 進階2 重複遊玩：def寫法"
   ]
  },
  {
   "cell_type": "code",
   "execution_count": 2,
   "metadata": {},
   "outputs": [
    {
     "name": "stdout",
     "output_type": "stream",
     "text": [
      "===============猜數字遊戲=================\n",
      "85\n",
      "提示:\n",
      "再大一點\n",
      "您已經猜了1次\n",
      "猜數字範圍50~100\n",
      "\n",
      "您猜中了,答案是85\n",
      "您總共猜了2次\n",
      "===============猜數字遊戲=================\n",
      "71\n",
      "您猜中了,答案是71\n",
      "您總共猜了1次\n"
     ]
    }
   ],
   "source": [
    "import random\n",
    "import pyinputplus as pyip\n",
    "\n",
    "def b():\n",
    "    min=1\n",
    "    max=100\n",
    "    a=random.randint(min,max)\n",
    "    n=1\n",
    "    g=0\n",
    "\n",
    "    print(\"===============猜數字遊戲=================\")\n",
    "\n",
    "    while a!= g:\n",
    "        g=int(input(f\"猜數字範圍{min}~{max}:\"))\n",
    "        if g<a:\n",
    "            print(f\"提示:\\n再大一點\\n您已經猜了{n}次\")\n",
    "            n +=1\n",
    "            min=g\n",
    "            print(f\"猜數字範圍{min}~{max}\\n\")\n",
    "        elif g>a:\n",
    "            print(f\"提示:\\n再小一點\\n您已經猜了{n}次\")\n",
    "            n +=1\n",
    "            max=g\n",
    "            print(f\"猜數字範圍{min}~{max}\\n\")\n",
    "        else:\n",
    "            break\n",
    "    print(f\"您猜中了,答案是{a}\\n您總共猜了{n}次\")\n",
    "\n",
    "b()\n",
    "\n",
    "while True:\n",
    "    if input(\"還想再玩一次嗎？(y,n)\") == \"y\":\n",
    "        b()\n",
    "    else:\n",
    "        break"
   ]
  }
 ],
 "metadata": {
  "kernelspec": {
   "display_name": ".venv",
   "language": "python",
   "name": "python3"
  },
  "language_info": {
   "codemirror_mode": {
    "name": "ipython",
    "version": 3
   },
   "file_extension": ".py",
   "mimetype": "text/x-python",
   "name": "python",
   "nbconvert_exporter": "python",
   "pygments_lexer": "ipython3",
   "version": "3.10.8"
  },
  "orig_nbformat": 4
 },
 "nbformat": 4,
 "nbformat_minor": 2
}
