{
 "cells": [
  {
   "cell_type": "markdown",
   "metadata": {},
   "source": [
    "# python基礎與資料輸出\n",
    "## 純質運算\n",
    "### 純質\n",
    "字串 String str  e.g.\"AAA\"\n",
    "\n",
    "整數 interger int e.g.5\n",
    "\n",
    "浮點數 float e.g.2.8\n",
    "\n",
    "布林值 bool e.g.True/False\n",
    "\n",
    "1. 在這個介面(ipynb)直接輸入純值，只會執行最後一行。若要同時輸出所有純值，就要使用輸出函式。"
   ]
  },
  {
   "cell_type": "code",
   "execution_count": 6,
   "metadata": {},
   "outputs": [
    {
     "data": {
      "text/plain": [
       "True"
      ]
     },
     "execution_count": 6,
     "metadata": {},
     "output_type": "execute_result"
    }
   ],
   "source": [
    "\"AAA\" #字串\n",
    "\n",
    "30 #整數\n",
    "\n",
    "7.3 #浮點數\n",
    "\n",
    "True #布林值"
   ]
  },
  {
   "cell_type": "code",
   "execution_count": 2,
   "metadata": {},
   "outputs": [
    {
     "data": {
      "text/plain": [
       "35.2"
      ]
     },
     "execution_count": 2,
     "metadata": {},
     "output_type": "execute_result"
    }
   ],
   "source": [
    "#int() -> 轉為整數\n",
    "int(\"13\") + int(\"25\")\n",
    "\n",
    "#float() -> 轉為浮點數\n",
    "float(\"13.5\") + float(\"21.7\")"
   ]
  },
  {
   "cell_type": "markdown",
   "metadata": {},
   "source": [
    "2. 改變型別-自動改變型別\n",
    "\n",
    "*只有python & JS是動態資料類型，其他語言是固定資料類型(e.g.int就是int，不能亂改)\n",
    "    "
   ]
  },
  {
   "cell_type": "code",
   "execution_count": 3,
   "metadata": {},
   "outputs": [
    {
     "data": {
      "text/plain": [
       "7.0"
      ]
     },
     "execution_count": 3,
     "metadata": {},
     "output_type": "execute_result"
    }
   ],
   "source": [
    "#整數+浮點數 -> 浮點數\n",
    "5+2.0\n"
   ]
  },
  {
   "cell_type": "markdown",
   "metadata": {},
   "source": [
    "2. 改變型別-手動改變型別：\n",
    "\n",
    "        1. 沒辦法執行&&可改變型別的     "
   ]
  },
  {
   "cell_type": "code",
   "execution_count": 2,
   "metadata": {},
   "outputs": [
    {
     "data": {
      "text/plain": [
       "'abc13'"
      ]
     },
     "execution_count": 2,
     "metadata": {},
     "output_type": "execute_result"
    }
   ],
   "source": [
    "#字串+數值 -> TypeError\n",
    "#\"abc\" + 13\n",
    "\n",
    "#解決方法str() -> 轉為字串\n",
    "\"abc\" + str(13)"
   ]
  },
  {
   "cell_type": "markdown",
   "metadata": {},
   "source": [
    "         2. 沒辦法執行&&不可改變型別的\n",
    "        \n",
    "            e.g.`int(\"A\")` -> ValueError"
   ]
  },
  {
   "cell_type": "markdown",
   "metadata": {},
   "source": [
    "## 輸出函式(function)\n",
    "基本函式句型：上網找「標準函式庫」->內建函式\n",
    "**並非**所有函式都會輸出資料\n",
    "###　輸出函式-print\n",
    "語法：print(*object(s), sep=separator, end=end)\n",
    "\n",
    "*object(s)->沒有限定引述數量->可以打很多個物件\n",
    "\n",
    "sep：分隔符號預設為空白(\" \")，即列出來的東西會自動加一個空白\n",
    "\n",
    "        e.g.`print(\"AAA\")->AAA\" \"`\n",
    "\n",
    "end：預設換行"
   ]
  },
  {
   "cell_type": "code",
   "execution_count": 36,
   "metadata": {},
   "outputs": [
    {
     "name": "stdout",
     "output_type": "stream",
     "text": [
      "Hello! Python!\n",
      "30\n",
      "30.0\n",
      "True\n"
     ]
    }
   ],
   "source": [
    "print('Hello! Python!')\n",
    "\n",
    "print(30)\n",
    "\n",
    "print(30.0)\n",
    "\n",
    "print(True)"
   ]
  },
  {
   "cell_type": "code",
   "execution_count": 11,
   "metadata": {},
   "outputs": [
    {
     "name": "stdout",
     "output_type": "stream",
     "text": [
      "13\n",
      "80\n",
      "28\n",
      "3.0\n",
      "3\n",
      "1\n",
      "980188864829534682605802224588165892518744500843860189980001\n"
     ]
    }
   ],
   "source": [
    "#整數運算\n",
    "print(5 + 8)\n",
    "\n",
    "print(90 - 10)\n",
    "\n",
    "print(4 * 7)\n",
    "\n",
    "print(6 / 2)\n",
    "\n",
    "print(7 // 2)\n",
    "\n",
    "print(7 % 3)\n",
    "\n",
    "print(999 ** 20)"
   ]
  },
  {
   "cell_type": "code",
   "execution_count": 1,
   "metadata": {},
   "outputs": [
    {
     "name": "stdout",
     "output_type": "stream",
     "text": [
      "13.0\n",
      "23.0\n",
      "21.0\n",
      "10\n"
     ]
    }
   ],
   "source": [
    "#浮點數和整數運算\n",
    "print(5.0 + 8)\n",
    "\n",
    "print(5.0 + 8 + 10)\n",
    "\n",
    "print(5.0 + 8 * 2)\n",
    "\n",
    "print(2 * (1 + 2) ** 2 - 2 ** 2 * 2)"
   ]
  },
  {
   "cell_type": "code",
   "execution_count": 3,
   "metadata": {},
   "outputs": [
    {
     "name": "stdout",
     "output_type": "stream",
     "text": [
      "3\n",
      "3.12\n",
      "Hello! World!\n",
      "5\n"
     ]
    }
   ],
   "source": [
    "#一個參數\n",
    "print(3)\n",
    "\n",
    "print(3.12)\n",
    "\n",
    "print(\"Hello! World!\")\n",
    "\n",
    "print(3+2)"
   ]
  },
  {
   "cell_type": "code",
   "execution_count": 5,
   "metadata": {},
   "outputs": [
    {
     "name": "stdout",
     "output_type": "stream",
     "text": [
      "a= 100\n",
      "b= 50\n",
      "a+b= 150\n"
     ]
    }
   ],
   "source": [
    "#多個參數\n",
    "a = 100\n",
    "print('a=', a)\n",
    "\n",
    "b = 50\n",
    "print('b=', b)\n",
    "print(\"a+b=\", a+b)"
   ]
  },
  {
   "cell_type": "markdown",
   "metadata": {},
   "source": [
    "### 輸出函式-=\n",
    "把右邊的東西傳給左邊->不會傳出值"
   ]
  },
  {
   "cell_type": "code",
   "execution_count": 2,
   "metadata": {},
   "outputs": [],
   "source": [
    "i = 1+3+5"
   ]
  },
  {
   "cell_type": "markdown",
   "metadata": {},
   "source": [
    "如果要顯示i的值，就要呼叫他"
   ]
  },
  {
   "cell_type": "code",
   "execution_count": 3,
   "metadata": {},
   "outputs": [
    {
     "data": {
      "text/plain": [
       "9"
      ]
     },
     "execution_count": 3,
     "metadata": {},
     "output_type": "execute_result"
    }
   ],
   "source": [
    "#方法1\n",
    "i = 1+3+5\n",
    "i"
   ]
  },
  {
   "cell_type": "code",
   "execution_count": 5,
   "metadata": {},
   "outputs": [
    {
     "name": "stdout",
     "output_type": "stream",
     "text": [
      "9\n"
     ]
    }
   ],
   "source": [
    "#方法2\n",
    "i = 1+3+5\n",
    "print(i)"
   ]
  },
  {
   "cell_type": "markdown",
   "metadata": {},
   "source": [
    "## 變數\n",
    "1. 一種物件，可以是整數、浮點數、字串或布林值。\n",
    "2. 不需要先宣告(`i=int`)即可直接使用。\n",
    "3. **第一個字不能是數字**，不成出現特殊字元、空白，可使用大小寫字母、中文、_。\n",
    "4. 表現方式：變數名稱=變數內容。\n",
    "e.g.剛剛使用的i"
   ]
  },
  {
   "cell_type": "code",
   "execution_count": 4,
   "metadata": {},
   "outputs": [],
   "source": [
    "openedx=100"
   ]
  },
  {
   "cell_type": "markdown",
   "metadata": {},
   "source": [
    "5. 可以在同一列定義多個變數，用,分隔變數與內容。"
   ]
  },
  {
   "cell_type": "code",
   "execution_count": 5,
   "metadata": {},
   "outputs": [],
   "source": [
    "i,k=\"香蕉\",587.5"
   ]
  },
  {
   "cell_type": "markdown",
   "metadata": {},
   "source": [
    "6. 刪除變數：del 變數名稱"
   ]
  },
  {
   "cell_type": "code",
   "execution_count": 6,
   "metadata": {},
   "outputs": [],
   "source": [
    "del i"
   ]
  },
  {
   "cell_type": "markdown",
   "metadata": {},
   "source": [
    "變數正常寫法\n",
    "* a  \n",
    "* a1  \n",
    "* a_b_c___95  \n",
    "* _abc  \n",
    "* _1a\n",
    "\n",
    "變數錯誤寫法\n",
    "* 1\n",
    "* 1a\n",
    "* 1_"
   ]
  },
  {
   "cell_type": "markdown",
   "metadata": {},
   "source": [
    "## 註解\n",
    "1. 用`#`做單行註解，註解內容不會執行。\n",
    "2. 用`\"\"\"`包覆內文做多行註解。"
   ]
  },
  {
   "cell_type": "code",
   "execution_count": 69,
   "metadata": {},
   "outputs": [],
   "source": [
    "#我是單行註解\n",
    "\n",
    "\"\"\"我是多行註解，\n",
    "但好像多行註解不能獨立存在，\n",
    "要下面有程式時才會隱藏。\"\"\"\n",
    "\n",
    "a=1"
   ]
  },
  {
   "cell_type": "markdown",
   "metadata": {},
   "source": [
    "## 資料型態\n",
    "1. 用`type(變數名稱)`查詢該變數資料型態"
   ]
  },
  {
   "cell_type": "code",
   "execution_count": 8,
   "metadata": {},
   "outputs": [
    {
     "name": "stdout",
     "output_type": "stream",
     "text": [
      "<class 'int'>\n",
      "<class 'float'>\n",
      "<class 'str'>\n",
      "<class 'bool'>\n"
     ]
    }
   ],
   "source": [
    "a = 100\n",
    "print(type(a))\n",
    "\n",
    "a = 100.0\n",
    "print(type(a))\n",
    "\n",
    "a = '100.0'\n",
    "print(type(a))\n",
    "\n",
    "a = True\n",
    "print(type(a))"
   ]
  },
  {
   "cell_type": "code",
   "execution_count": 10,
   "metadata": {},
   "outputs": [
    {
     "name": "stdout",
     "output_type": "stream",
     "text": [
      "<class 'int'>\n",
      "<class 'int'>\n"
     ]
    }
   ],
   "source": [
    "#題組1：將7給變數a, 並且輸出變數a的內容\n",
    "a=7\n",
    "print(type(a))\n",
    "\n",
    "#呈上題，將a的參考給b,並且輸出變數b的內容\n",
    "a=7\n",
    "b=a\n",
    "print(type(b))"
   ]
  },
  {
   "cell_type": "markdown",
   "metadata": {},
   "source": [
    "使用type function輸出目前的資料型別\n",
    "\n",
    "type(a) -> <class 'int'>\n",
    "\n",
    "type(b) -> <class 'int'>\n",
    "\n",
    "type(58) -> <class 'int'>\n",
    "\n",
    "type(99.9) -> <class 'float'>\n",
    "\n",
    "type('abc') -> <class 'str'>"
   ]
  },
  {
   "cell_type": "code",
   "execution_count": 11,
   "metadata": {},
   "outputs": [
    {
     "name": "stdout",
     "output_type": "stream",
     "text": [
      "<class 'int'>\n",
      "<class 'float'>\n",
      "<class 'bool'>\n",
      "<class 'str'>\n"
     ]
    }
   ],
   "source": [
    "#題組2\n",
    "var1=20 \n",
    "print(type(var1))\n",
    "\n",
    "var2=123.45\n",
    "print(type(var2))\n",
    "\n",
    "var3=True \n",
    "print(type(var3)) \n",
    "\n",
    "var4='string1' \n",
    "print(type(var4)) "
   ]
  },
  {
   "cell_type": "markdown",
   "metadata": {},
   "source": [
    "2. 用`id(變數名稱)`尋找變數儲存位址"
   ]
  },
  {
   "cell_type": "code",
   "execution_count": 13,
   "metadata": {},
   "outputs": [
    {
     "name": "stdout",
     "output_type": "stream",
     "text": [
      "1886823448944\n",
      "1886823449424\n",
      "1886829031792\n"
     ]
    }
   ],
   "source": [
    "a=5\n",
    "print(id(a))\n",
    "a=20\n",
    "print(id(a))\n",
    "a=\"test\" \n",
    "print(id(a)) "
   ]
  },
  {
   "cell_type": "markdown",
   "metadata": {},
   "source": [
    "## 字串輸出格式化\n",
    "`f\"{}\"`的由來。\n",
    "\n",
    "1. 跟list、dict功能很像，用`{}.format()`按自己訂的順序輸入/出、找尋資料。"
   ]
  },
  {
   "cell_type": "code",
   "execution_count": 8,
   "metadata": {},
   "outputs": [
    {
     "name": "stdout",
     "output_type": "stream",
     "text": [
      "A B C\n",
      "C A B\n",
      "A C B\n",
      "Hi, my name is David. I'm 20 years old.\n"
     ]
    }
   ],
   "source": [
    "#不指定位置，依序輸出\n",
    "print(\"{} {} {}\".format(\"A\", \"B\", \"C\"))\n",
    "\n",
    "#用數字(順序)指定位置\n",
    "print(\"{2} {0} {1}\".format(\"A\", \"B\", \"C\") )\n",
    "\n",
    "#用名稱指定位置\n",
    "print(\"{a} {c} {b}\".format(a=\"A\", b=\"B\", c=\"C\"))\n",
    "\n",
    "#實用\n",
    "a=\"David\"\n",
    "b=20\n",
    "c=\"Hi, my name is {}. I'm {} years old.\".format(a,b)\n",
    "print(c)"
   ]
  },
  {
   "cell_type": "markdown",
   "metadata": {},
   "source": [
    "2. 用`\"{變數值名稱}\".format()`顯示變數性質\n",
    "\n",
    "變數值名稱：\n",
    "\n",
    "`{:d}` 整數\n",
    "\n",
    "`{:f}` 浮點數\n",
    "\n",
    "`{:e} {:E}` 科學記號，如：1.020000e+01，大小寫就代表 \"e\" 顯示的大小寫\n",
    "\n",
    "`{:x} {:X}` 十六進位，大小寫分別表示 A ~ F 要顯示的大小寫\n",
    "\n",
    "`{:o}` 八進位\n",
    "\n",
    "`{:b}`二進位\n",
    "\n",
    "`{:>}`以百分比的方式輸出"
   ]
  },
  {
   "cell_type": "code",
   "execution_count": 39,
   "metadata": {},
   "outputs": [
    {
     "name": "stdout",
     "output_type": "stream",
     "text": [
      "10\n",
      "3.141590\n",
      "1.020000e+01\n",
      "1.020000E+01\n",
      "ff\n",
      "FF\n",
      "10\n",
      "101\n",
      "0.75\n"
     ]
    }
   ],
   "source": [
    "print(\"{:d}\".format(10)) #int\n",
    "\n",
    "print(\"{:f}\".format(3.14159)) #float\n",
    "\n",
    "print(\"{:e}\".format(10.2)) #科學符號\n",
    "\n",
    "print(\"{:E}\".format(10.2)) #科學符號\n",
    "\n",
    "print(\"{:x}\".format(255)) #16進制\n",
    "\n",
    "print(\"{:X}\".format(255)) #16進制\n",
    "\n",
    "print(\"{:o}\".format(8)) #8進制\n",
    "\n",
    "print(\"{:b}\".format(5)) #2進制\n",
    "\n",
    "print(\"{:>}\".format(0.75)) #百分比"
   ]
  },
  {
   "cell_type": "markdown",
   "metadata": {},
   "source": [
    "3. 用`>`(靠右對齊)、`^`(置中對齊)、`<`(靠左對齊)+數值來搭配佔位及對齊(不足部分用空格填滿)。\n",
    "\n",
    "*數值型別預設是靠右對齊，字串型別預設是靠左對齊"
   ]
  },
  {
   "cell_type": "code",
   "execution_count": 35,
   "metadata": {},
   "outputs": [
    {
     "name": "stdout",
     "output_type": "stream",
     "text": [
      "      42\n",
      "   42   \n",
      "42      \n",
      "   3.142\n",
      "  -3.142\n",
      "     Hello\n"
     ]
    }
   ],
   "source": [
    "print(\"{:>8d}\".format(42)) #整數靠右對齊，寬度為8\n",
    "\n",
    "print(\"{:^8d}\".format(42)) #整數置中對齊，寬度為8\n",
    "\n",
    "print(\"{:<8d}\".format(42)) #整數靠左對齊，寬度為8\n",
    "\n",
    "print(\"{:8.3f}\".format(3.14159789)) #小數點後保留 3 位，總寬度為 8 (含小數點)\n",
    "\n",
    "print(\"{:+8.3f}\".format(-3.14159)) #小數點後保留 3 位，帶正負號，總寬度為 8 (含小數點及正負號)\n",
    "\n",
    "# 字串靠右對齊，寬度為10\n",
    "text = \"Hello\"\n",
    "formatted_text = \"{:>10}\".format(text)  \n",
    "print(formatted_text)"
   ]
  },
  {
   "cell_type": "code",
   "execution_count": 40,
   "metadata": {},
   "outputs": [
    {
     "name": "stdout",
     "output_type": "stream",
     "text": [
      "|     123||456     |\n",
      "|   +4.32|\n",
      "|     0.8|\n",
      "|     123|\n",
      "|abc     |\n"
     ]
    }
   ],
   "source": [
    "#':'前方的數值如基本操作，代表後方參數的位置\n",
    "print (\"|{0:8d}||{1:<8d}|\".format(123, 456))\n",
    "\n",
    "print(\"|{0:+8.2f}|\".format(4.32))\n",
    "\n",
    "print(\"|{0:>8.2}|\".format(0.8))\n",
    "\n",
    " \n",
    "#字串與數值輸出預設對齊方式的比較\n",
    "print(\"|{0:8}|\".format(123))\n",
    "\n",
    "print(\"|{0:8}|\".format(\"abc\"))"
   ]
  },
  {
   "cell_type": "code",
   "execution_count": 41,
   "metadata": {},
   "outputs": [
    {
     "name": "stdout",
     "output_type": "stream",
     "text": [
      "Hello, world\n"
     ]
    }
   ],
   "source": [
    "text = 'world'\n",
    "print(f'Hello, {text}')"
   ]
  },
  {
   "cell_type": "markdown",
   "metadata": {},
   "source": [
    "4. `f{\"\"}`實際應用"
   ]
  },
  {
   "cell_type": "code",
   "execution_count": 42,
   "metadata": {},
   "outputs": [
    {
     "name": "stdout",
     "output_type": "stream",
     "text": [
      "Hello, world\n",
      "x + y = 37\n"
     ]
    }
   ],
   "source": [
    "#範例1\n",
    "text = 'world'\n",
    "print(f'Hello, {text}')\n",
    "\n",
    "#範例2\n",
    "x = 10\n",
    "y = 27\n",
    "print(f'x + y = {x + y}')\n",
    "\n",
    "#範例3\n",
    "def hello(text, name):\n",
    "    return f'hello {text}, hello {name}' #回傳值"
   ]
  },
  {
   "cell_type": "markdown",
   "metadata": {},
   "source": [
    "## 練習題\n",
    "1. 請問以下哪一個變數命名是錯的?\n",
    "\n",
    "(1) 5well.\n",
    "\n",
    "(2) pcschool\n",
    "\n",
    "(3) 巨匠\n",
    "\n",
    "A:(1)\n",
    "\n",
    "*變數開頭不能是數字"
   ]
  },
  {
   "cell_type": "markdown",
   "metadata": {},
   "source": [
    "2. 請問以下哪一個變數命名是錯的?(複選題)\n",
    "\n",
    "(1) 7eleven\n",
    "\n",
    "(2) pcschool&python\n",
    "\n",
    "(3) Pcschool python\n",
    "\n",
    "(4) if\n",
    "\n",
    "A:(1)、(3)、(4)\n",
    "\n",
    "*變數開頭不能是數字、中間不能有空格、不能使用已有操作指令的語言"
   ]
  },
  {
   "cell_type": "markdown",
   "metadata": {},
   "source": [
    "3. 若要建立 x 變數內容為 15，請問哪一行是對的? \n",
    "\n",
    "(1) x equals 15\n",
    "\n",
    "(2) x is 15\n",
    "\n",
    "(3) 15 = x\n",
    "\n",
    "(4) x = 15\n",
    "\n",
    "A：(4)\n",
    "\n",
    "*x為變數名稱(放在左邊)，15為變數內容(放右邊)"
   ]
  },
  {
   "cell_type": "markdown",
   "metadata": {},
   "source": [
    "4. 關於輸出語法哪一個是對的?\n",
    "\n",
    "(1) print 3 + 4\n",
    "\n",
    "(2) print(3 + 4)\n",
    "\n",
    "(3) print 3 + 4\n",
    "\n",
    "(4) put(3 + 4)\n",
    "\n",
    "A：(2)"
   ]
  },
  {
   "cell_type": "markdown",
   "metadata": {},
   "source": [
    "5. 請問 Python 檔案副檔名哪一個是對的?\n",
    "\n",
    "(1) .script\n",
    "\n",
    "(2) .pyscript\n",
    "\n",
    "(3) .py\n",
    "\n",
    "(4) .python\n",
    "\n",
    "A：(3)"
   ]
  },
  {
   "cell_type": "markdown",
   "metadata": {},
   "source": [
    "6. 請問執行這一行後的說明哪一個是對的?\n",
    "\n",
    "`print(x1)`\n",
    "\n",
    "(1) 產生錯誤\n",
    "\n",
    "(2) 輸出空白\n",
    "\n",
    "(3) 輸出 0\n",
    "\n",
    "A：(1)\n",
    "\n",
    "*產生NameError。變數在建立(=有內容)前，存取該變數會發生變數未定義的錯誤。"
   ]
  },
  {
   "cell_type": "code",
   "execution_count": 6,
   "metadata": {},
   "outputs": [
    {
     "ename": "NameError",
     "evalue": "name 'x1' is not defined",
     "output_type": "error",
     "traceback": [
      "\u001b[1;31m---------------------------------------------------------------------------\u001b[0m",
      "\u001b[1;31mNameError\u001b[0m                                 Traceback (most recent call last)",
      "Cell \u001b[1;32mIn[6], line 1\u001b[0m\n\u001b[1;32m----> 1\u001b[0m \u001b[39mprint\u001b[39m(x1)\n",
      "\u001b[1;31mNameError\u001b[0m: name 'x1' is not defined"
     ]
    }
   ],
   "source": [
    "print(x1)"
   ]
  },
  {
   "cell_type": "markdown",
   "metadata": {},
   "source": [
    "7. 請問執行後的說明哪一個是對的?\n",
    "\n",
    "`x=50` \n",
    "`x='test'` \n",
    "`print(x)`\n",
    "\n",
    "(1) 產生錯誤\n",
    "\n",
    "(2) 輸出 test\n",
    "\n",
    "(3) 輸出 5\n",
    "\n",
    "A：(2)\n",
    "\n",
    "*Python有「從上往下執行指令」的特性，因此雖一開始定義x=50，但當出現下一個指令─x=\"test\"後，50就被\"test\"取代。"
   ]
  },
  {
   "cell_type": "code",
   "execution_count": 7,
   "metadata": {},
   "outputs": [
    {
     "name": "stdout",
     "output_type": "stream",
     "text": [
      "test\n"
     ]
    }
   ],
   "source": [
    "x=50 \n",
    "x='test' \n",
    "print(x)"
   ]
  },
  {
   "cell_type": "markdown",
   "metadata": {},
   "source": [
    "8. 請問執行這兩行後記憶體位址會相同嗎?\n",
    "\n",
    "`a=5.4`\n",
    "`a=20.3`\n",
    "\n",
    "(1) 相同\n",
    "\n",
    "(2) 不同\n",
    "\n",
    "A：(2)\n",
    "\n",
    "*儲存位址會因變數內容改變"
   ]
  }
 ],
 "metadata": {
  "kernelspec": {
   "display_name": ".venv",
   "language": "python",
   "name": "python3"
  },
  "language_info": {
   "codemirror_mode": {
    "name": "ipython",
    "version": 3
   },
   "file_extension": ".py",
   "mimetype": "text/x-python",
   "name": "python",
   "nbconvert_exporter": "python",
   "pygments_lexer": "ipython3",
   "version": "3.10.8"
  },
  "orig_nbformat": 4
 },
 "nbformat": 4,
 "nbformat_minor": 2
}
