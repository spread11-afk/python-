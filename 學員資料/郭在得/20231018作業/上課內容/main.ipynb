{
 "cells": [
  {
   "cell_type": "code",
   "execution_count": 3,
   "metadata": {},
   "outputs": [
    {
     "name": "stdout",
     "output_type": "stream",
     "text": [
      "下載成功\n"
     ]
    }
   ],
   "source": [
    "import requests\n",
    "\n",
    "url=\"https://tcgbusfs.blob.core.windows.net/dotapp/youbike/v2/youbike_immediate.json\"\n",
    "\n",
    "try:\n",
    "    response=requests.request(\"GET\",url)\n",
    "    response.raise_for_status()\n",
    "except:\n",
    "    print(\"下載失敗\")\n",
    "else:\n",
    "    if response.status_code == 200:\n",
    "        try:\n",
    "            data=response.json() # 把Json轉成python可以用的資料結構\n",
    "        except requests.JSONDecodeError:\n",
    "            print(\"無法轉換成json\")\n",
    "    print(\"下載成功\")"
   ]
  },
  {
   "cell_type": "code",
   "execution_count": null,
   "metadata": {},
   "outputs": [],
   "source": [
    "data # 執行下來太長了 -> 刪掉"
   ]
  },
  {
   "cell_type": "code",
   "execution_count": null,
   "metadata": {},
   "outputs": [],
   "source": [
    "import sqlite3\n",
    "\n",
    "con=sqlite3.connect(\"a.db\") #如果沒有就建一個新的，有就用原本那個檔\n",
    "cur=con.cursor()\n",
    "cur.execute(\n",
    "    '''\n",
    "    CREATE TABLE IF NOT EXISTS 台北市(\n",
    "        \"ID\"\tINTEGER NOT NULL,\n",
    "        \"區域\"\tTEXT NOT NULL,\n",
    "        \"站點名稱\"\tTEXT NOT NULL,\n",
    "        \"目前車輛數量\"\tINTEGER NOT NULL,\n",
    "        \"空位數量\"\tINTEGER NOT NULL,\n",
    "        \"總停車格\"\tINTEGER NOT NULL,\n",
    "        \"地址\"\tTEXT NOT NULL,\n",
    "        \"資料更新時間\"\tTEXT NOT NULL,\n",
    "        PRIMARY KEY(\"ID\" AUTOINCREMENT)\n",
    "    );\n",
    "    '''\n",
    ")\n",
    "con.commit()"
   ]
  },
  {
   "cell_type": "code",
   "execution_count": 21,
   "metadata": {},
   "outputs": [],
   "source": [
    "import sqlite3\n",
    "def create_table(con):\n",
    "\tcur=con.cursor()\n",
    "\tcur.execute(\n",
    "\t\t'''\n",
    "\t\tCREATE TABLE IF NOT EXISTS 台北市(\n",
    "\t\t\t\"ID\"\tINTEGER NOT NULL,\n",
    "\t\t\t\"區域\"\tTEXT NOT NULL,\n",
    "\t\t\t\"站點名稱\"\tTEXT NOT NULL,\n",
    "\t\t\t\"目前車輛數量\"\tINTEGER NOT NULL,\n",
    "\t\t\t\"空位數量\"\tINTEGER NOT NULL,\n",
    "\t\t\t\"總停車格\"\tINTEGER NOT NULL,\n",
    "\t\t\t\"地址\"\tTEXT NOT NULL,\n",
    "\t\t\t\"資料更新時間\"\tTEXT NOT NULL,\n",
    "\t\t\tPRIMARY KEY(\"ID\" AUTOINCREMENT)\n",
    "\t\t);\n",
    "\t\t'''\n",
    "\t)\n",
    "\tcon.commit()\n",
    "\n",
    "def insert_data(con,values):\n",
    "\tcur=con.cursor()\n",
    "\tsql='''\n",
    "\tinsert into 台北市(區域,站點名稱,目前車輛數量,空位數量,總停車格,地址,資料更新時間)\n",
    "\tvalues(?,?,?,?,?,?,?)\n",
    "\t'''\n",
    "\tcur.execute(sql,values)\n",
    "\tcon.commit()\n",
    "\n",
    "con=sqlite3.connect(\"a.db\") #如果沒有就建一個新的，有就用原本那個檔\n",
    "create_table(con)\n",
    "\n",
    "for item in data:\n",
    "\tinsert_data(con,[item[\"sarea\"],item[\"sna\"],item[\"sbi\"],item[\"bemp\"],item[\"tot\"],item[\"ar\"],item[\"mday\"]])"
   ]
  },
  {
   "cell_type": "code",
   "execution_count": 16,
   "metadata": {},
   "outputs": [],
   "source": [
    "import sqlite3\n",
    "\n",
    "con=sqlite3.connect(\"B.db\") #如果沒有就建一個新的，有就用原本那個檔\n",
    "cur=con.cursor()\n",
    "cur.execute(\n",
    "    '''\n",
    "    CREATE TABLE IF NOT EXISTS 台北市(\n",
    "        \"訂單編號\"  INTEGER,\n",
    "        \"下單日期\"\tDATE,\n",
    "        \"客戶編號\"\tINTEGER,\n",
    "\t\tPRIMARY KEY(\"訂單編號\" AUTOINCREMENT)\n",
    "    );\n",
    "    '''\n",
    ")\n",
    "con.commit()\n",
    "cur.execute(\n",
    "    '''\n",
    "    INSERT INTO 台北市 (\"下單日期\",\"客戶編號\") VALUES (DATETIME('now'),'123')\n",
    "    '''\n",
    ")\n",
    "con.commit()\n",
    "\n"
   ]
  }
 ],
 "metadata": {
  "kernelspec": {
   "display_name": ".venv",
   "language": "python",
   "name": "python3"
  },
  "language_info": {
   "codemirror_mode": {
    "name": "ipython",
    "version": 3
   },
   "file_extension": ".py",
   "mimetype": "text/x-python",
   "name": "python",
   "nbconvert_exporter": "python",
   "pygments_lexer": "ipython3",
   "version": "3.10.8"
  }
 },
 "nbformat": 4,
 "nbformat_minor": 2
}
