{
 "cells": [
  {
   "cell_type": "code",
   "execution_count": 6,
   "metadata": {},
   "outputs": [],
   "source": [
    "import sqlite3\n",
    "import csv\n",
    "\n",
    "def create_table(con):\n",
    "\tcur=con.cursor()\n",
    "\tcur.execute(\n",
    "\t\t'''\n",
    "\t\tCREATE TABLE IF NOT EXISTS 股票小教室(\n",
    "\t\t\t\"ID\"\tINTEGER NOT NULL,\n",
    "\t\t\t\"日期\"\tTEXT NOT NULL,\n",
    "\t\t\t\"開盤價\"\tTEXT NOT NULL,\n",
    "\t\t\t\"最高價\"\tINTEGER NOT NULL,\n",
    "\t\t\t\"最低價\"\tINTEGER NOT NULL,\n",
    "\t\t\t\"收盤價\"\tINTEGER NOT NULL,\n",
    "\t\t\t\"調整後收盤價\"\tTEXT NOT NULL,\n",
    "\t\t\t\"成交量\"\tTEXT NOT NULL,\n",
    "\t\t\tPRIMARY KEY(\"ID\" AUTOINCREMENT)\n",
    "\t\t);\n",
    "\t\t'''\n",
    "\t)\n",
    "\tcon.commit()\n",
    "\n",
    "def insert_data(con,values):\n",
    "\tcur=con.cursor()\n",
    "\tsql='''\n",
    "\tinsert into 股票小教室(日期,開盤價,最高價,最低價,收盤價,調整後收盤價,成交量)\n",
    "\tvalues(?,?,?,?,?,?,?)\n",
    "\t'''\n",
    "\tcur.execute(sql,values)\n",
    "\tcon.commit()\n",
    "\n",
    "con=sqlite3.connect(\"0050.db\")\n",
    "create_table(con)\n",
    "\n",
    "with open('0050.csv', 'r', encoding='UTF-8') as file:\n",
    "\tdata=csv.reader(file)\n",
    "\tnext(data)\n",
    "\ttext_data=[]\n",
    "\tfor item in data:\n",
    "\t\tinsert_data(con,[item[0],item[1],item[2],item[3],item[4],item[5],item[6]])"
   ]
  }
 ],
 "metadata": {
  "kernelspec": {
   "display_name": ".venv",
   "language": "python",
   "name": "python3"
  },
  "language_info": {
   "codemirror_mode": {
    "name": "ipython",
    "version": 3
   },
   "file_extension": ".py",
   "mimetype": "text/x-python",
   "name": "python",
   "nbconvert_exporter": "python",
   "pygments_lexer": "ipython3",
   "version": "3.10.8"
  }
 },
 "nbformat": 4,
 "nbformat_minor": 2
}
