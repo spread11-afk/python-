{
 "cells": [
  {
   "cell_type": "markdown",
   "metadata": {},
   "source": [
    "# 函式 function\n",
    "## 自訂函式\n",
    "### 好處\n",
    "1. 可以在別處引用、重複使用的方法。\n",
    "2. 可以改變程式結構，讓你痛苦(ゝ∀･)b\n",
    "\n",
    "但用久其實還好，只是偶爾會找不到自己的函式寫在哪。寫的時候要記得照順序寫，如果要跟別人共用，可以在開頭寫一下順序，不然真的會想揍人。\n",
    "\n",
    "### 語法\n",
    "用`def *名稱():`開始，括號裡可以寫一些設定(參數:資料類型，用`,`隔開)。換行縮排裡寫的地方叫**「區域變數」，執行再寫一次`名稱(引數值也用`,`隔開)`即可。\n",
    "\n",
    "***名稱**：\n",
    "1. 不同函式不能取相同名稱\n",
    "2. 如果由>=2個字串組成：\n",
    "    1. hiHi：駝峰式命名法\n",
    "    2. hi_hi:底線命名法\n",
    "    3. Hi_hi：我自己習慣的寫法\n",
    "\n",
    "    我函式第一個字都會大寫，來區分函式(大寫)與變數(小寫)。我會盡可能只用一個字取名，不然會有換成中文的風險。\n",
    "\n",
    "****區域變數**：函式執行完後，區域變數裡的程式(aka.定義變數)就作廢(除非有寫`return()`)。"
   ]
  },
  {
   "cell_type": "code",
   "execution_count": 5,
   "metadata": {},
   "outputs": [
    {
     "name": "stdout",
     "output_type": "stream",
     "text": [
      "矩形面積：50\n"
     ]
    }
   ],
   "source": [
    "def Rect(width:int,height:int):\n",
    "    return width*height\n",
    "\n",
    "a=Rect(5,10)\n",
    "print(f\"矩形面積：{a}\")"
   ]
  },
  {
   "cell_type": "markdown",
   "metadata": {},
   "source": [
    "### 呼叫引數\n",
    "1. 不想寫引數名就要照順序。\n",
    "2. 如果有寫引數名，可以不用照順序。但寫了之後(的引數名、引數值)都要寫。"
   ]
  },
  {
   "cell_type": "code",
   "execution_count": 11,
   "metadata": {},
   "outputs": [
    {
     "name": "stdout",
     "output_type": "stream",
     "text": [
      "便當你主菜想要什麼?卡拉雞\n",
      "配菜呢？新疆菜、豆芽菜、高麗菜兩份\n"
     ]
    }
   ],
   "source": [
    "def Box_lunch(main:str,side1:str=\"三色豆\",side2:str=\"豆芽菜\",side3:str=\"高麗菜\"):\n",
    "    print(f\"便當你主菜想要什麼?{main}\\n配菜呢？{side1}、{side2}、{side3}\")\n",
    "\n",
    "Box_lunch(\"卡拉雞\",side3=\"高麗菜兩份\",side1=\"青江菜\")"
   ]
  },
  {
   "cell_type": "markdown",
   "metadata": {},
   "source": [
    "3. 全部呼叫用`*`"
   ]
  },
  {
   "cell_type": "code",
   "execution_count": 12,
   "metadata": {},
   "outputs": [
    {
     "name": "stdout",
     "output_type": "stream",
     "text": [
      "('蝦蟹貝品', '特選生食小砵', '生蠔', '加拿大黃金蟹', '松葉蟹', '台灣紅蟳', '日本A5和牛炙燒握壽司')\n"
     ]
    }
   ],
   "source": [
    "def buffet101(*food):\n",
    "    print(food)\n",
    "\n",
    "buffet101(\"蝦蟹貝品\",\"特選生食小砵\",\"生蠔\",\"加拿大黃金蟹\",\"松葉蟹\",\"台灣紅蟳\",\"日本A5和牛炙燒握壽司\")"
   ]
  },
  {
   "cell_type": "code",
   "execution_count": 13,
   "metadata": {},
   "outputs": [
    {
     "name": "stdout",
     "output_type": "stream",
     "text": [
      "{'a': '蝦蟹貝品', 'b': '特選生食小砵', 'c': '生蠔', 'd': '加拿大黃金蟹', 'e': '松葉蟹', 'f': '台灣紅蟳', 'g': '日本A5和牛炙燒握壽司'}\n"
     ]
    }
   ],
   "source": [
    "def buffet101(**food):\n",
    "    print(food)\n",
    "\n",
    "buffet101(a=\"蝦蟹貝品\",b=\"特選生食小砵\",c=\"生蠔\",d=\"加拿大黃金蟹\",e=\"松葉蟹\",f=\"台灣紅蟳\",g=\"日本A5和牛炙燒握壽司\")"
   ]
  },
  {
   "cell_type": "code",
   "execution_count": 19,
   "metadata": {},
   "outputs": [
    {
     "name": "stdout",
     "output_type": "stream",
     "text": [
      "Jason 23 False 70 170\n",
      "Jam 25 False None None\n"
     ]
    }
   ],
   "source": [
    "class Person1:\n",
    "    def __init__(self) -> None:\n",
    "        self.name=\"Jason\"\n",
    "        self.age=23\n",
    "        self.isMan=False\n",
    "        self.weight=70\n",
    "        self.height=170\n",
    "a=Person1()\n",
    "print(a.name,a.age,a.isMan,a.weight,a.height)\n",
    "\n",
    "def Person2():\n",
    "    name=\"Jam\"\n",
    "    age=25\n",
    "    isMan=False\n",
    "    weight=None\n",
    "    height=None\n",
    "    print(name,age,isMan,weight,height)\n",
    "Person2()"
   ]
  },
  {
   "cell_type": "code",
   "execution_count": 46,
   "metadata": {},
   "outputs": [
    {
     "name": "stdout",
     "output_type": "stream",
     "text": [
      "John\n"
     ]
    }
   ],
   "source": [
    "class Person3:\n",
    "    def __init__(self,n:str):\n",
    "        self.name = n # 左__使name不能改\n",
    "    @property #將class轉成只能讀\n",
    "    def bbb(self):\n",
    "        return self.name\n",
    "\n",
    "if __name__ == \"__main__\":\n",
    "    a = Person3(\"John\")\n",
    "\n",
    "print(a.bbb)\n",
    "a.name=\"bob\""
   ]
  },
  {
   "cell_type": "code",
   "execution_count": 48,
   "metadata": {},
   "outputs": [
    {
     "ename": "NameError",
     "evalue": "name 'self' is not defined",
     "output_type": "error",
     "traceback": [
      "\u001b[1;31m---------------------------------------------------------------------------\u001b[0m",
      "\u001b[1;31mNameError\u001b[0m                                 Traceback (most recent call last)",
      "\u001b[1;32mc:\\Github\\202309Py\\20230926作業\\函式.ipynb 儲存格 10\u001b[0m line \u001b[0;36m5\n\u001b[0;32m      <a href='vscode-notebook-cell:/c%3A/Github/202309Py/20230926%E4%BD%9C%E6%A5%AD/%E5%87%BD%E5%BC%8F.ipynb#X14sZmlsZQ%3D%3D?line=1'>2</a>\u001b[0m     \u001b[39mdef\u001b[39;00m \u001b[39m__init__\u001b[39m(\u001b[39mself\u001b[39m):\n\u001b[0;32m      <a href='vscode-notebook-cell:/c%3A/Github/202309Py/20230926%E4%BD%9C%E6%A5%AD/%E5%87%BD%E5%BC%8F.ipynb#X14sZmlsZQ%3D%3D?line=2'>3</a>\u001b[0m         \u001b[39mself\u001b[39m\u001b[39m.\u001b[39m__name \u001b[39m=\u001b[39m \u001b[39m\"\u001b[39m\u001b[39mJohn\u001b[39m\u001b[39m\"\u001b[39m \u001b[39m# 左__使name不能改\u001b[39;00m\n\u001b[1;32m----> <a href='vscode-notebook-cell:/c%3A/Github/202309Py/20230926%E4%BD%9C%E6%A5%AD/%E5%87%BD%E5%BC%8F.ipynb#X14sZmlsZQ%3D%3D?line=4'>5</a>\u001b[0m b\u001b[39m=\u001b[39mPerson3(\u001b[39mself\u001b[39;49m\u001b[39m.\u001b[39m__name)\n\u001b[0;32m      <a href='vscode-notebook-cell:/c%3A/Github/202309Py/20230926%E4%BD%9C%E6%A5%AD/%E5%87%BD%E5%BC%8F.ipynb#X14sZmlsZQ%3D%3D?line=5'>6</a>\u001b[0m \u001b[39mprint\u001b[39m(b)\n\u001b[0;32m      <a href='vscode-notebook-cell:/c%3A/Github/202309Py/20230926%E4%BD%9C%E6%A5%AD/%E5%87%BD%E5%BC%8F.ipynb#X14sZmlsZQ%3D%3D?line=6'>7</a>\u001b[0m a\u001b[39m.\u001b[39mname\u001b[39m=\u001b[39m\u001b[39m\"\u001b[39m\u001b[39mbob\u001b[39m\u001b[39m\"\u001b[39m\n",
      "\u001b[1;31mNameError\u001b[0m: name 'self' is not defined"
     ]
    }
   ],
   "source": [
    "class Person3:\n",
    "    def __init__(self):\n",
    "        self.__name = \"John\" # 左__使name不能改\n",
    "\n",
    "b=Person3(self.__name)\n",
    "print(b)\n",
    "a.name=\"bob\""
   ]
  },
  {
   "cell_type": "code",
   "execution_count": 32,
   "metadata": {},
   "outputs": [
    {
     "name": "stdout",
     "output_type": "stream",
     "text": [
      "robert\n",
      "23.29\n"
     ]
    }
   ],
   "source": [
    "if __name__ == \"__main__\":\n",
    "    a = Person3(\"John\")\n",
    "    #a.name=\"Bob\" 這個無法執行，因John輸進去後就不能改\n",
    "    print(a.bbb) #property不用括號\n",
    "\n",
    "\n",
    "\n",
    "\n",
    "class Person:\n",
    "    def __init__(self,name:str,weight:int,height:int):\n",
    "        self.__name = name\n",
    "        self.weight = weight\n",
    "        self.height = height\n",
    "    #property\n",
    "    @property\n",
    "    def name(self) -> str:\n",
    "        return self.__name\n",
    "\n",
    "    #method\n",
    "    def bmi(self) -> float:\n",
    "        return round(self.weight / (self.height / 100) ** 2,ndigits=2)\n",
    "\n",
    "    def __str__(self) -> str:\n",
    "        return f\"name={self.__name}\\nweight={self.weight}\\nheight={self.height}\"\n",
    "    \n",
    "\n",
    "if __name__ == '__main__':\n",
    "    p1 = Person(\"robert\",78,183)\n",
    "    #p1.name = \"vivan\"\n",
    "    print(p1.name)    \n",
    "    print(p1.bmi())"
   ]
  }
 ],
 "metadata": {
  "kernelspec": {
   "display_name": ".venv",
   "language": "python",
   "name": "python3"
  },
  "language_info": {
   "codemirror_mode": {
    "name": "ipython",
    "version": 3
   },
   "file_extension": ".py",
   "mimetype": "text/x-python",
   "name": "python",
   "nbconvert_exporter": "python",
   "pygments_lexer": "ipython3",
   "version": "3.10.8"
  },
  "orig_nbformat": 4
 },
 "nbformat": 4,
 "nbformat_minor": 2
}
