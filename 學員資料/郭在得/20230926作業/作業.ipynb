{
 "cells": [
  {
   "cell_type": "markdown",
   "metadata": {},
   "source": [
    "# 20230926作業\n",
    "打香腸規則：\n",
    "1. 一次骰4個骰子\n",
    "2. 如果有2個相同的數字，則另外2數加總。 e.g.1123=5\n",
    "3. 如果有2對2個相同的數字，則較大對數加總。 e.g.1166=12\n",
    "4. 如果有3個相同的數字 && 4個數都不同，就「作廢」。 e.g.1234、3331=作廢\n",
    "5. 如果4個數皆相同，就「豹子」，比3.4.大。 e.g.3333\n",
    "\n",
    "打香腸流程：\n",
    "1. 跟香腸攤老闆比大小，如果都骰豹子，就看誰豹子數字大。\n",
    "2. 50塊1局，贏的話得2根香腸。\n",
    "    1. 可以拿2根去賭，如果賭贏得翻倍(香腸)，輸了就都沒有。\n",
    "    2. 也可以拆開拿1根去賭。\n",
    "3. 賭到太多根(20左右)時老闆會想辦法讓你別賭了。"
   ]
  },
  {
   "cell_type": "code",
   "execution_count": 52,
   "metadata": {},
   "outputs": [
    {
     "name": "stdout",
     "output_type": "stream",
     "text": [
      "2 1 2 3\n",
      "4\n"
     ]
    }
   ],
   "source": [
    "import random\n",
    "import statistics\n",
    "\n",
    "#4顆隨機骰出1~6的骰子。用Dice合成一個陣列，以方便之後表達\n",
    "dice1=random.randint(1,6)\n",
    "dice2=random.randint(1,6)\n",
    "dice3=random.randint(1,6)\n",
    "dice4=random.randint(1,6)\n",
    "Dice=[dice1,dice2,dice3,dice4]\n",
    "\n",
    "print(Dice)\n",
    "if len(set(Dice))==1: # 陣列裡只出現1種數字\n",
    "    print(f\"豹子：{dice1*4}\")\n",
    "elif len(set(Dice))==4 or Dice.count(dice1)==3 or Dice.count(dice2)==3 or Dice.count(dice3)==3 or Dice.count(dice4)==3: # 陣列裡出現4種不一樣的數字，或dice1~dice4在陣列裡重複出現3次\n",
    "    print(\"作廢\")\n",
    "else: # 剩下1對相同數+2個不同數(2不同數相加)，與2對相同數(大的那對相加)\n",
    "    print(sum(Dice)-min(statistics.multimode(Dice))*2) # 陣列總和-(陣列中數字較小的眾數)*2"
   ]
  },
  {
   "cell_type": "markdown",
   "metadata": {},
   "source": [
    "我的友達 ─ ChatGPT提供的建議"
   ]
  },
  {
   "cell_type": "code",
   "execution_count": 60,
   "metadata": {},
   "outputs": [
    {
     "name": "stdout",
     "output_type": "stream",
     "text": [
      "[3, 1, 6, 1]\n",
      "9\n"
     ]
    }
   ],
   "source": [
    "import random\n",
    "import statistics\n",
    "\n",
    "# 4個1~6的亂數\n",
    "dice = [random.randint(1, 6) for _ in range(4)]\n",
    "\n",
    "print(dice)\n",
    "if len(set(dice))==1:\n",
    "    print(f\"豹子：{sum(dice)}\")\n",
    "elif len(set(dice))==4 or any(dice.count(value) == 3 for value in dice): # 任何在dice陣列裡重複出現3次者\n",
    "    print(\"作廢\")\n",
    "else:\n",
    "    print(sum(dice)-min(statistics.multimode(dice))*2)"
   ]
  },
  {
   "cell_type": "markdown",
   "metadata": {},
   "source": [
    "娛樂-真·打香腸遊戲\n",
    "# 還沒寫完"
   ]
  },
  {
   "cell_type": "code",
   "execution_count": 87,
   "metadata": {},
   "outputs": [
    {
     "name": "stdout",
     "output_type": "stream",
     "text": [
      "===============打香腸遊戲=================\n",
      "[2, 4, 1, 6, 4, 4, 2, 1]\n"
     ]
    },
    {
     "data": {
      "text/plain": [
       "3"
      ]
     },
     "execution_count": 87,
     "metadata": {},
     "output_type": "execute_result"
    }
   ],
   "source": [
    "import random\n",
    "import statistics\n",
    "\n",
    "dice = [random.randint(1, 6) for _ in range(8)]\n",
    "score=0\n",
    "sausage=1\n",
    "num=2\n",
    "\n",
    "print(\"===============打香腸遊戲=================\")\n",
    "print(dice)\n",
    "\n",
    "def Judgment(x):\n",
    "    if len(set(x))==1:\n",
    "        score=sum(x)\n",
    "    elif len(set(x))==4 or any(x.count(value) == 3 for value in x):\n",
    "        score=0\n",
    "    else:\n",
    "        score=sum(x)-min(statistics.multimode(x))*2\n",
    "    return score\n",
    "\n",
    "while num!=0:\n",
    "    if Judgment(dice[:4])>Judgment(dice[4:8]):\n",
    "        sausage *= num\n",
    "        num=int(input(f\"你現在有{sausage}根香腸。你想要用幾根賭？\"))\n",
    "    elif Judgment(dice[:4])==Judgment(dice[4:8]):\n",
    "        print()"
   ]
  },
  {
   "cell_type": "code",
   "execution_count": null,
   "metadata": {},
   "outputs": [],
   "source": [
    "if ds>ss:\n",
    "    eat+=2\n",
    "    print(f\"你現在有{eat}根香腸。你想要用幾根賭？\")\n",
    "    if 0<a<=eat:\n",
    "        \n",
    "elif ds==ss:\n",
    "    print(\"再來一局\")\n",
    "    return\n",
    "else:\n",
    "    eat=0\n",
    "    print(\"輸了~要再給50賭一把嗎?\")"
   ]
  }
 ],
 "metadata": {
  "kernelspec": {
   "display_name": ".venv",
   "language": "python",
   "name": "python3"
  },
  "language_info": {
   "codemirror_mode": {
    "name": "ipython",
    "version": 3
   },
   "file_extension": ".py",
   "mimetype": "text/x-python",
   "name": "python",
   "nbconvert_exporter": "python",
   "pygments_lexer": "ipython3",
   "version": "3.10.8"
  },
  "orig_nbformat": 4
 },
 "nbformat": 4,
 "nbformat_minor": 2
}
