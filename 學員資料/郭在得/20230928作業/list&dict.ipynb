{
 "cells": [
  {
   "cell_type": "markdown",
   "metadata": {},
   "source": [
    "# list & dict\n",
    "## 序列資料 - list\n",
    "1. 序列資料：sequence\n",
    "2. 用`[ ]`包覆變數\n",
    "\n",
    "## 辭典資料 - dict\n",
    "1. mapping\n",
    "2. 用`{ }`包覆變數\n",
    "變數由`key`&`value`組成"
   ]
  },
  {
   "cell_type": "code",
   "execution_count": 30,
   "metadata": {},
   "outputs": [
    {
     "name": "stdout",
     "output_type": "stream",
     "text": [
      "[1, 2, 3, 4, 5]\n",
      "1\n",
      "{'key1': 'value1', 'key2': 'value2', 'key3': 'value3'}\n",
      "key1\n"
     ]
    }
   ],
   "source": [
    "list=[1,2,3,4,5]\n",
    "print(list)\n",
    "print(list[0])\n",
    "\n",
    "\n",
    "dict={\"key1\":\"value1\",\"key2\":\"value2\",\"key3\":\"value3\"}\n",
    "print(dict)\n",
    "print(next(iter(dict)))"
   ]
  }
 ],
 "metadata": {
  "kernelspec": {
   "display_name": ".venv",
   "language": "python",
   "name": "python3"
  },
  "language_info": {
   "name": "python",
   "version": "3.10.8"
  },
  "orig_nbformat": 4
 },
 "nbformat": 4,
 "nbformat_minor": 2
}
