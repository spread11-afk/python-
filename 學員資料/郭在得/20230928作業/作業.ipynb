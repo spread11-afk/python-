{
 "cells": [
  {
   "cell_type": "markdown",
   "metadata": {},
   "source": [
    "# 20230928作業\n",
    "![作業](./hw.png)"
   ]
  },
  {
   "cell_type": "code",
   "execution_count": null,
   "metadata": {},
   "outputs": [],
   "source": [
    "#老師給的架構\n",
    "import random\n",
    "\n",
    "class Player:\n",
    "    def __init__(self):\n",
    "        pass\n",
    "\n",
    "    def __play() -> int:\n",
    "        pass\n",
    "\n",
    "    @property\n",
    "    def value(self) -> int:\n",
    "        #呼叫self.__play()\n",
    "        pass\n",
    "\n",
    "    def __repr__(self) -> str:\n",
    "        descript = \"\"\n",
    "        descript += \"徐國堂\\n\"\n",
    "        descript += \"骰子1=5\\n\"\n",
    "        descript += \"骰子2=3\\n\"\n",
    "        descript += \"骰子3=5\\n\"\n",
    "        descript += \"骰子4=5\\n\"\n",
    "        dsecript += \"得分=15分\"\n",
    "        return descript\n",
    "    \n",
    "if __name__ == \"__main__\":\n",
    "    p1 = Player(\"robert\")\n",
    "    print(p1.value)\n",
    "    print(p1)\n",
    "\n",
    "    p2 = Player(\"robert\")\n",
    "    print(p2.value)\n",
    "    print(p2)"
   ]
  },
  {
   "cell_type": "markdown",
   "metadata": {},
   "source": [
    "我的友達 ─ ChatGPT的寫法"
   ]
  },
  {
   "cell_type": "code",
   "execution_count": 28,
   "metadata": {},
   "outputs": [
    {
     "name": "stdout",
     "output_type": "stream",
     "text": [
      "Robert\n",
      "骰子1=5骰子2=5骰子3=5骰子4=5得分=17分\n",
      "John\n",
      "骰子1=5骰子2=5骰子3=5骰子4=5得分=17分\n",
      "遊戲结束\n"
     ]
    }
   ],
   "source": [
    "import random\n",
    "import statistics\n",
    "\n",
    "class Player:\n",
    "    def __init__(self, name):\n",
    "        self.__dice1 = 0\n",
    "        self.__dice2 = 0\n",
    "        self.__dice3 = 0\n",
    "        self.__dice4 = 0\n",
    "        self.name = name\n",
    "\n",
    "    def __play(self) -> int:\n",
    "        Dice = [self.__dice1, self.__dice2, self.__dice3, self.__dice4]\n",
    "        \n",
    "        if len(set(Dice)) == 1:\n",
    "            leopard={4:13,8:14,12:15,16:16,20:17,24:18}\n",
    "            Dice_sum=sum(Dice)\n",
    "            score=leopard.get(Dice_sum)\n",
    "        elif len(set(Dice)) == 4 or Dice.count(self.__dice1) == 3 or Dice.count(self.__dice2) == 3 or Dice.count(\n",
    "                self.__dice3) == 3 or Dice.count(self.__dice4) == 3:\n",
    "            score = 0\n",
    "        else:\n",
    "            score = sum(Dice) - min(statistics.multimode(Dice)) * 2\n",
    "\n",
    "        return score\n",
    "\n",
    "    @property\n",
    "    def value(self) -> int:\n",
    "        return self.__play()\n",
    "\n",
    "    def roll_dice(self):\n",
    "        self.__dice1 = random.randint(1, 6)\n",
    "        self.__dice2 = random.randint(1, 6)\n",
    "        self.__dice3 = random.randint(1, 6)\n",
    "        self.__dice4 = random.randint(1, 6)\n",
    "\n",
    "    def __repr__(self) -> str:\n",
    "        descript = \"\"\n",
    "        descript += f\"{self.name}\\n\"\n",
    "        descript += f\"骰子1={self.__dice1}\\n\"\n",
    "        descript += f\"骰子2={self.__dice2}\\n\"\n",
    "        descript += f\"骰子3={self.__dice3}\\n\"\n",
    "        descript += f\"骰子4={self.__dice4}\\n\"\n",
    "        descript += f\"得分={self.value}分\"\n",
    "        return descript\n",
    "\n",
    "def main():\n",
    "    p1 = Player(\"Robert\")\n",
    "    p2 = Player(\"John\")\n",
    "\n",
    "    while True:\n",
    "        p1.roll_dice()\n",
    "        p2.roll_dice()\n",
    "\n",
    "        print(p1)\n",
    "        print(p2)\n",
    "\n",
    "        user_input = input(\"按 Enter 繼續遊戲，按 'q' 键退出遊戲: \")\n",
    "        if user_input == 'q':\n",
    "            break\n",
    "\n",
    "    print(\"遊戲结束\")\n",
    "\n",
    "if __name__ == \"__main__\":\n",
    "    main()"
   ]
  },
  {
   "cell_type": "markdown",
   "metadata": {},
   "source": [
    "拋開老師的架構，我會這麼寫"
   ]
  },
  {
   "cell_type": "code",
   "execution_count": 30,
   "metadata": {},
   "outputs": [
    {
     "name": "stdout",
     "output_type": "stream",
     "text": [
      "Jason骰出[2, 1, 6, 1]獲得：8分\n",
      "Bob骰出[3, 3, 5, 3]獲得：0分\n",
      "Jason骰出[4, 1, 2, 2]獲得：5分\n",
      "Bob骰出[6, 2, 5, 4]獲得：0分\n",
      "遊戲结束\n"
     ]
    }
   ],
   "source": [
    "import random\n",
    "import statistics\n",
    "\n",
    "def Judgment(x):\n",
    "    score=0\n",
    "    if len(set(x))==1:\n",
    "        leopard={4:13,8:14,12:15,16:16,20:17,24:18}\n",
    "        x_sum=sum(x)\n",
    "        score=leopard.get(x_sum)\n",
    "    elif len(set(x))==4 or any(x.count(value) == 3 for value in x):\n",
    "        score=0\n",
    "    else:\n",
    "        score=sum(x)-min(statistics.multimode(x))*2\n",
    "    return score\n",
    "\n",
    "def main():\n",
    "    while True:\n",
    "        __Player1=\"Jason\"\n",
    "        __Player2=\"Bob\"\n",
    "        __dice = [random.randint(1, 6) for _ in range(8)]\n",
    "        print(f\"{__Player1}骰出{__dice[:4]}獲得：{Judgment(__dice[:4])}分\")\n",
    "        print(f\"{__Player2}骰出{__dice[4:8]}獲得：{Judgment(__dice[4:8])}分\")\n",
    "\n",
    "        user_input = input(\"按 Enter 繼續遊戲，按 'q' 键退出遊戲: \")\n",
    "        if user_input == 'q':\n",
    "            break\n",
    "\n",
    "    print(\"遊戲结束\")\n",
    "\n",
    "if __name__ == \"__main__\":\n",
    "    main()"
   ]
  },
  {
   "cell_type": "markdown",
   "metadata": {},
   "source": [
    "請我的友達 - ChatGPT把程式裝在class裡，我實在不太擅長想到這༼ ༎ຶ ෴ ༎ຶ༽"
   ]
  },
  {
   "cell_type": "code",
   "execution_count": 1,
   "metadata": {},
   "outputs": [
    {
     "name": "stdout",
     "output_type": "stream",
     "text": [
      "Jason骰出[5, 4, 1, 6]獲得：0分\n",
      "Bob骰出[5, 1, 5, 6]獲得：7分\n",
      "遊戲结束\n"
     ]
    }
   ],
   "source": [
    "import random\n",
    "import statistics\n",
    "\n",
    "class DiceGame:\n",
    "    def __init__(self, player1, player2):\n",
    "        self.player1 = player1\n",
    "        self.player2 = player2\n",
    "\n",
    "    def judgment(self, dice):\n",
    "        score = 0\n",
    "        if len(set(dice)) == 1:\n",
    "            leopard = {4: 13, 8: 14, 12: 15, 16: 16, 20: 17, 24: 18}\n",
    "            dice_sum = sum(dice)\n",
    "            score = leopard.get(dice_sum)\n",
    "        elif len(set(dice)) == 4 or any(dice.count(value) == 3 for value in dice):\n",
    "            score = 0\n",
    "        else:\n",
    "            score = sum(dice) - min(statistics.multimode(dice)) * 2\n",
    "        return score\n",
    "\n",
    "    def play_game(self):\n",
    "        while True:\n",
    "            dice = [random.randint(1, 6) for _ in range(8)]\n",
    "            print(f\"{self.player1}骰出{dice[:4]}獲得：{self.judgment(dice[:4])}分\")\n",
    "            print(f\"{self.player2}骰出{dice[4:8]}獲得：{self.judgment(dice[4:8])}分\")\n",
    "\n",
    "            user_input = input(\"按 Enter 繼續遊戲，按 'q' 键退出遊戲: \")\n",
    "            if user_input == 'q':\n",
    "                break\n",
    "\n",
    "        print(\"遊戲结束\")\n",
    "\n",
    "def main():\n",
    "    player1 = \"Jason\"\n",
    "    player2 = \"Bob\"\n",
    "    game = DiceGame(player1, player2)\n",
    "    game.play_game()\n",
    "\n",
    "if __name__ == \"__main__\":\n",
    "    main()"
   ]
  }
 ],
 "metadata": {
  "kernelspec": {
   "display_name": ".venv",
   "language": "python",
   "name": "python3"
  },
  "language_info": {
   "codemirror_mode": {
    "name": "ipython",
    "version": 3
   },
   "file_extension": ".py",
   "mimetype": "text/x-python",
   "name": "python",
   "nbconvert_exporter": "python",
   "pygments_lexer": "ipython3",
   "version": "3.10.8"
  },
  "orig_nbformat": 4
 },
 "nbformat": 4,
 "nbformat_minor": 2
}
