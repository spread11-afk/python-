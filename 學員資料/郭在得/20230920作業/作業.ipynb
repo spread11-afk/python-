{
 "cells": [
  {
   "cell_type": "markdown",
   "metadata": {},
   "source": [
    "# 20230920作業\n",
    "## 作業1\n",
    "![作業1](./pic1.png)"
   ]
  },
  {
   "cell_type": "code",
   "execution_count": 4,
   "metadata": {},
   "outputs": [
    {
     "name": "stdout",
     "output_type": "stream",
     "text": [
      "您的BMI是：25.53544\n",
      "「您的體重過重」\n"
     ]
    }
   ],
   "source": [
    "import math\n",
    "\n",
    "w=int(input(\"請輸入體重(公斤)：\"))\n",
    "t=int(input(\"請輸入身高(公分)：\"))\n",
    "BMI=w/((t*0.01)**2)\n",
    "\n",
    "if BMI >30:\n",
    "    a=\"肥胖\"\n",
    "elif BMI >=25:\n",
    "    a=\"過重\"\n",
    "elif BMI >=18.5:\n",
    "    a=\"正常\"\n",
    "else:\n",
    "    a=\"太輕\"\n",
    "\n",
    "print(f\"您的BMI是：{math.floor(BMI*100000)/100000}\\n「您的體重{a}」\")"
   ]
  },
  {
   "cell_type": "markdown",
   "metadata": {},
   "source": [
    "## 作業2\n",
    "![作業2](./pic2.png)"
   ]
  },
  {
   "cell_type": "code",
   "execution_count": 12,
   "metadata": {},
   "outputs": [
    {
     "name": "stdout",
     "output_type": "stream",
     "text": [
      "您的血壓正常\n"
     ]
    }
   ],
   "source": [
    "sbp=int(input(\"請輸入收縮壓：\"))\n",
    "dbp=int(input(\"請輸入舒張壓：\"))\n",
    "\n",
    "if sbp>=140 or dbp>90:\n",
    "    a=\"高血壓一期\"\n",
    "elif sbp>=130 and dbp<80:\n",
    "    a=\"單純收縮期：高血壓\"\n",
    "elif sbp>=130 or dbp>=80:\n",
    "    a=\"高血壓二期\"\n",
    "elif sbp>=120 and dbp<80:\n",
    "    a=\"升高\"\n",
    "else:\n",
    "    a=\"正常\"\n",
    "\n",
    "print(f\"您的血壓{a}\")"
   ]
  }
 ],
 "metadata": {
  "kernelspec": {
   "display_name": ".venv",
   "language": "python",
   "name": "python3"
  },
  "language_info": {
   "codemirror_mode": {
    "name": "ipython",
    "version": 3
   },
   "file_extension": ".py",
   "mimetype": "text/x-python",
   "name": "python",
   "nbconvert_exporter": "python",
   "pygments_lexer": "ipython3",
   "version": "3.10.8"
  },
  "orig_nbformat": 4
 },
 "nbformat": 4,
 "nbformat_minor": 2
}
