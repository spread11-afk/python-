{
 "cells": [
  {
   "cell_type": "markdown",
   "metadata": {},
   "source": [
    "# 條件分析\n",
    "## 關係運算子 = 比較運算子\n",
    "*傳出來的值都是bool。\n",
    "|符號|描述|\n",
    "|---|---|\n",
    "|`<`|小於|\n",
    "|`<=`|小於等於|\n",
    "|`>`|大於|\n",
    "|`>=`|大於等於|\n",
    "|`==`|兩邊相等與否|\n",
    "|`!=`|兩邊不相等與否|"
   ]
  },
  {
   "cell_type": "code",
   "execution_count": 1,
   "metadata": {},
   "outputs": [
    {
     "name": "stdout",
     "output_type": "stream",
     "text": [
      "True\n",
      "False\n",
      "True\n",
      "False\n",
      "True\n",
      "False\n"
     ]
    }
   ],
   "source": [
    "print(1<3,11<=8,4>3,5>=16,4==4,4!=4,sep=f\"\\n\")"
   ]
  },
  {
   "cell_type": "markdown",
   "metadata": {},
   "source": [
    "## if\n",
    "語法1：\n",
    "\n",
    "`if condition(條件成立):`\n",
    "\n",
    "        statement(執行此程式)"
   ]
  },
  {
   "cell_type": "code",
   "execution_count": 4,
   "metadata": {},
   "outputs": [
    {
     "name": "stdout",
     "output_type": "stream",
     "text": [
      "大於18\n"
     ]
    }
   ],
   "source": [
    "a=21\n",
    "if a>18:\n",
    "\tprint(\"大於18\")"
   ]
  },
  {
   "cell_type": "markdown",
   "metadata": {},
   "source": [
    "語法2：巢狀判斷\n",
    "\n",
    "`if condition(條件成立):`\n",
    "\n",
    "        statement1 for True condition(執行此程式)\n",
    "\n",
    "`else(上面條件不成立):`\n",
    "\n",
    "        statement2 for False condition(執行此程式)"
   ]
  },
  {
   "cell_type": "code",
   "execution_count": 16,
   "metadata": {},
   "outputs": [
    {
     "name": "stdout",
     "output_type": "stream",
     "text": [
      "格式錯誤\n"
     ]
    }
   ],
   "source": [
    "#學生總分為300\n",
    "#有些學生可以加分5%(老師自己決定)\n",
    "#如果加分超過300,就以300分為準\n",
    "\n",
    "try:\n",
    "    score = int(input(\"請輸入學生分數(最高300分):\"))\n",
    "    if score <= 300:\n",
    "        is_add = input(\"學生是否符合加分條件?(y,n)\")\n",
    "\n",
    "        if(is_add == \"y\"):\n",
    "            score *= 1.05\n",
    "            if score > 300:\n",
    "                score = 300\n",
    "\n",
    "        print(f\"學生分數是{round(score)}\")\n",
    "    else:\n",
    "        print(\"學生分數不可以大於300\")\n",
    "except:\n",
    "    print(\"格式錯誤\")"
   ]
  },
  {
   "cell_type": "code",
   "execution_count": 29,
   "metadata": {},
   "outputs": [
    {
     "name": "stdout",
     "output_type": "stream",
     "text": [
      "請輸入學生分數(最高300分):Number must be at maximum 300.\n",
      "請輸入學生分數(最高300分):'y' is not an integer.\n",
      "請輸入學生分數(最高300分):'ag' is not an integer.\n",
      "請輸入學生分數(最高300分):'y' is not an integer.\n",
      "請輸入學生分數(最高300分):學生分數是280\n"
     ]
    }
   ],
   "source": [
    "#用外部套件：PyInputPlus的寫法\n",
    "import pyinputplus as pyip\n",
    "\n",
    "score = pyip.inputInt(\"請輸入學生分數(最高300分):\",min=0,max=300)\n",
    "is_add = input(\"學生是否符合加分條件?(y,n)\")\n",
    "\n",
    "if(is_add == \"y\"):\n",
    "    score *= 1.05\n",
    "    if score > 300:\n",
    "        score = 300\n",
    "print(f\"學生分數是{round(score)}\")"
   ]
  },
  {
   "cell_type": "code",
   "execution_count": 30,
   "metadata": {},
   "outputs": [
    {
     "name": "stdout",
     "output_type": "stream",
     "text": [
      "root= 0.0\n"
     ]
    }
   ],
   "source": [
    "#如果x不是負數，則傳回值為 x ** (1 / y)。\n",
    "#如果x是負數而且為偶數，則傳回值為\"虛數\"。\n",
    "#如果x是負數而且為奇數，則傳回值為 -(-x) ** (1 / y)。\n",
    "\n",
    "x = int(input('請輸入x:'))\n",
    "y = int(input('請輸入y:'))\n",
    "\n",
    "if x >= 0:\n",
    "    root = x ** (1 / y)\n",
    "else:\n",
    "    if x % 2 == 0:\n",
    "        root = \"虛數\"\n",
    "    else:\n",
    "        root = -(-x) ** (1 / y)\n",
    "print('root=',root)"
   ]
  },
  {
   "cell_type": "code",
   "execution_count": 32,
   "metadata": {},
   "outputs": [
    {
     "name": "stdout",
     "output_type": "stream",
     "text": [
      "請輸入x:5\n",
      "請輸入y:8\n",
      "root=1.2228445449938519\n"
     ]
    }
   ],
   "source": [
    "#用外部套件：PyInputPlus的寫法\n",
    "import pyinputplus as pyip\n",
    "\n",
    "x = pyip.inputInt('請輸入x:')\n",
    "print(x)\n",
    "y = pyip.inputInt('請輸入y:')\n",
    "\n",
    "if x >= 0:\n",
    "    root = x ** (1 / y)\n",
    "else:\n",
    "    if x % 2 == 0:\n",
    "        root = \"虛數\"\n",
    "    else:\n",
    "        root = -(-x) ** (1 / y)\n",
    "print(f'{y}\\nroot={root}')"
   ]
  },
  {
   "cell_type": "markdown",
   "metadata": {},
   "source": [
    "語法3：多項選擇\n",
    "\n",
    "*elif可以超多個\n",
    "\n",
    "`if condition1(條件1為真):`\n",
    "\n",
    "        statement1 for True Condition1(執行程式1)\n",
    "\n",
    "`elif condition2(條件2為真) :`\n",
    "\n",
    "        statement2 for True Condition2(執行程式2)\n",
    "\n",
    "`else(上面條件皆不成立):`\n",
    "\n",
    "        statements for Each Condition False(執行此程式)"
   ]
  },
  {
   "cell_type": "code",
   "execution_count": 33,
   "metadata": {},
   "outputs": [
    {
     "name": "stdout",
     "output_type": "stream",
     "text": [
      "請輸入學生分數:丁\n"
     ]
    }
   ],
   "source": [
    "#90(含)~100分為「優」\n",
    "#80(含)~89分為「甲」\n",
    "#70(含)~79分為「乙」\n",
    "#60(含)~69分為「丙」\n",
    "#0(含)~59分為「丁」\n",
    "\n",
    "import pyinputplus as pyip\n",
    "score = pyip.inputInt(\"請輸入學生分數:\",min=0,max=100)\n",
    "if score>=90:\n",
    "    print(\"優\")\n",
    "elif  score>=80:\n",
    "    print(\"甲\")\n",
    "elif  score>=70:\n",
    "    print(\"乙\")\n",
    "elif  score>=60:\n",
    "    print(\"丙\")\n",
    "else:\n",
    "    print(\"丁\")"
   ]
  },
  {
   "cell_type": "markdown",
   "metadata": {},
   "source": [
    "## 邏輯運算符號\n",
    "|符號|意義|範例|JS範例|\n",
    "|---|---|---|---|\n",
    "|`and`|兩者皆True|if a >= 90 and \"y\":|`if(a >= 90 && \"y\"){}`|\n",
    "|`or`| 一個True|if a >= 100 or \"y\":|`if(a >= 90 || \"y\"){}`|\n",
    "|`not`| 非True/False|if not a >= 100:|`if(!(a >= 100)){}`|\n",
    "\n",
    "範例：\n",
    "\n",
    "前提：國文&數學分數皆100分，可領獎金1000元\n",
    "\n",
    "國文&數學分數其中一個100分，可領獎金500元\n",
    "\n",
    "若皆沒100分，獎金為0\n",
    "\n",
    "執行內容：國文分數：99分、數學分數：100分。獎金：500元"
   ]
  },
  {
   "cell_type": "code",
   "execution_count": 20,
   "metadata": {},
   "outputs": [
    {
     "name": "stdout",
     "output_type": "stream",
     "text": [
      "請輸入國文分數：99分\n",
      "請輸入數學分數：100分\n",
      "獎金:500元\n"
     ]
    }
   ],
   "source": [
    "import pyinputplus as pyip\n",
    "\n",
    "chinese = pyip.inputInt(f\"請輸入國文分數：{chinese}分\\n\",min=0,max=100)\n",
    "math = pyip.inputInt(f\"請輸入數學分數：{math}分\\n\",min=0,max=100)\n",
    "\n",
    "if chinese == 100 and math == 100:\n",
    "    bonus = 1000\n",
    "elif chinese == 100 or math == 100:\n",
    "    bonus = 500\n",
    "else:\n",
    "    bonus = 0\n",
    "\n",
    "print(f\"獎金:{bonus}元\")"
   ]
  },
  {
   "cell_type": "markdown",
   "metadata": {},
   "source": [
    "## 練習題\n",
    "1. 請問執行後最後輸出的結果是哪一個?\n",
    "\n",
    "a = 15\n",
    "\n",
    "if a >= 14:\n",
    "\n",
    "\t\ta -= 2 \n",
    "\n",
    "\t\tprint(a)\n",
    "    \n",
    "(1) 14\n",
    "\n",
    "(2) 15\n",
    "\n",
    "(3) 13\n",
    "\n",
    "A：(3)13\n",
    "\n",
    "a>=14時，a=a-2，15-2=13\n",
    "\n",
    "\n",
    "2. 前提：輸入顧客購買金額，若金額在\n",
    "100,000元打8折\n",
    "50,000打85折\n",
    "30,000打9折\n",
    "10,000打95折\n",
    "\n",
    "執行內容：請輸入購買金額:130,000，實付金額是: 104,000.0 元"
   ]
  },
  {
   "cell_type": "code",
   "execution_count": 5,
   "metadata": {},
   "outputs": [
    {
     "name": "stdout",
     "output_type": "stream",
     "text": [
      "實付金額是：104,000.0元\n"
     ]
    }
   ],
   "source": [
    "a=int(input(\"請輸入顧客購買金額：\"))\n",
    "\n",
    "if a >= 100000:\n",
    "    a*=0.8\n",
    "elif a>=50000:\n",
    "    a*=0.85\n",
    "elif a>=30000:\n",
    "    a*=0.9\n",
    "elif a>=10000:\n",
    "    a*=0.95\n",
    "\n",
    "print(f\"實付金額是：{a:,}元\")"
   ]
  },
  {
   "cell_type": "code",
   "execution_count": 14,
   "metadata": {},
   "outputs": [
    {
     "name": "stdout",
     "output_type": "stream",
     "text": [
      "實付金額是：93,777.6元\n"
     ]
    }
   ],
   "source": [
    "#延伸：買千送百再打折\n",
    "#執行內容：請輸入購買金額:130,222，實付金額是: 93,777.6 元\n",
    "a=int(input(\"請輸入顧客購買金額：\"))\n",
    "\n",
    "if a >= 100000:\n",
    "    a=(a-a//1000*100)*.8\n",
    "elif a>=50000:\n",
    "    a=(a-a//1000*100)*.85\n",
    "elif a>=30000:\n",
    "    a=(a-a//1000*100)*.9\n",
    "elif a>=10000:\n",
    "    a=(a-a//1000*100)*.95\n",
    "\n",
    "print(f\"實付金額是：{a:,}元\")"
   ]
  },
  {
   "cell_type": "code",
   "execution_count": 13,
   "metadata": {},
   "outputs": [
    {
     "name": "stdout",
     "output_type": "stream",
     "text": [
      "實付金額是：93,777.6元\n"
     ]
    }
   ],
   "source": [
    "#可以整理成：\n",
    "a=int(input(\"請輸入顧客購買金額：\"))\n",
    "\n",
    "b=a//1000*100\n",
    "a-=b\n",
    "\n",
    "if a >= 100000:\n",
    "    a=a*.8\n",
    "elif a>=50000:\n",
    "    a=a*.85\n",
    "elif a>=30000:\n",
    "    a=a*.9\n",
    "elif a>=10000:\n",
    "    a=a*.95\n",
    "\n",
    "print(f\"實付金額是：{a:,}元\")"
   ]
  }
 ],
 "metadata": {
  "kernelspec": {
   "display_name": ".venv",
   "language": "python",
   "name": "python3"
  },
  "language_info": {
   "codemirror_mode": {
    "name": "ipython",
    "version": 3
   },
   "file_extension": ".py",
   "mimetype": "text/x-python",
   "name": "python",
   "nbconvert_exporter": "python",
   "pygments_lexer": "ipython3",
   "version": "3.10.8"
  },
  "orig_nbformat": 4
 },
 "nbformat": 4,
 "nbformat_minor": 2
}
