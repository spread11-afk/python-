{
 "cells": [
  {
   "cell_type": "code",
   "execution_count": 12,
   "metadata": {},
   "outputs": [
    {
     "name": "stdout",
     "output_type": "stream",
     "text": [
      "15 的因數: 1 3 5 15 "
     ]
    }
   ],
   "source": [
    "#求所有因數\n",
    "num = int(input(\"請輸入整數，求所有因數:\"))\n",
    "print (num,\"的因數:\",end=\" \")\n",
    "for  i in range(1,num+1,1) :\n",
    "    if num % i == 0 :\n",
    "        print (i, end=\" \")\n"
   ]
  },
  {
   "cell_type": "code",
   "execution_count": 3,
   "metadata": {},
   "outputs": [
    {
     "name": "stdout",
     "output_type": "stream",
     "text": [
      "請輸入2數,求2數公因數: 25 5 公因數: 1 5 "
     ]
    }
   ],
   "source": [
    "#求公因數\n",
    "print(\"請輸入2數,求2數公因數:\",end=\" \")\n",
    "n = int(input('請輸入第1個數:'))\n",
    "m = int(input('請輸入第2個數:'))\n",
    "print(n,m,\"公因數:\",end=\" \")\n",
    "\n",
    "for i in range(1,min(n,m)+1):\n",
    "    if (n % i == 0 ) and (m % i == 0) :\n",
    "        print(i,end=\" \")\n"
   ]
  },
  {
   "cell_type": "code",
   "execution_count": 64,
   "metadata": {},
   "outputs": [
    {
     "name": "stdout",
     "output_type": "stream",
     "text": [
      "2到100的質數是: 2 3 5 7 11 13 17 19 23 29 31 37 41 43 47 53 59 61 67 71 73 79 83 89 97 "
     ]
    }
   ],
   "source": [
    "#2~100,每一個的質數\n",
    "start = int(input(\"請輸入star值:\"))\n",
    "end = int(input(\"請輸入end值:\"))\n",
    "print(f\"{start}到{end}的質數是:\",end=\" \")\n",
    "\n",
    "if start >=2:\n",
    "    print (2,end=\" \")\n",
    "\n",
    "\n",
    "for i in range(start,end+1):\n",
    "    for  j in range(2,i):\n",
    "        if  i // j > 1 :\n",
    "            if i % j == 0:\n",
    "                break          \n",
    "        else :\n",
    "            print(i,end=\" \")\n",
    "            break\n",
    "            \n",
    "    "
   ]
  },
  {
   "cell_type": "code",
   "execution_count": 56,
   "metadata": {},
   "outputs": [
    {
     "data": {
      "text/plain": [
       "False"
      ]
     },
     "execution_count": 56,
     "metadata": {},
     "output_type": "execute_result"
    }
   ],
   "source": [
    "a = 17\n",
    "n = 5\n",
    "\n",
    "\n",
    "\n",
    "\n",
    "\n"
   ]
  }
 ],
 "metadata": {
  "kernelspec": {
   "display_name": ".venv",
   "language": "python",
   "name": "python3"
  },
  "language_info": {
   "codemirror_mode": {
    "name": "ipython",
    "version": 3
   },
   "file_extension": ".py",
   "mimetype": "text/x-python",
   "name": "python",
   "nbconvert_exporter": "python",
   "pygments_lexer": "ipython3",
   "version": "3.10.8"
  },
  "orig_nbformat": 4
 },
 "nbformat": 4,
 "nbformat_minor": 2
}
