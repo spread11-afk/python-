{
 "cells": [
  {
   "cell_type": "code",
<<<<<<< HEAD
   "execution_count": null,
   "metadata": {},
   "outputs": [],
   "source": [
=======
   "execution_count": 5,
   "metadata": {},
   "outputs": [
    {
     "name": "stdout",
     "output_type": "stream",
     "text": [
      "連線成功\n",
      "<connection object at 0x0000029543B60D00; dsn: 'user=mercury password=xxx dbname=maindb_5qg1 host=dpg-cl5g6is72pts73elln20-a.singapore-postgres.render.com port=5432', closed: 0>\n"
     ]
    }
   ],
   "source": [
    "\n",
>>>>>>> 0a52691eb8bd5cca6fe98772c8b0248a2f805fb6
    "#密碼不能上傳GITHUT 故另外匯入\n",
    "\n",
    "import password as pw\n",
    "import psycopg2\n",
    "\n",
    "try:\n",
    "    conn = psycopg2.connect(database=\"\", user=\"\", \n",
    "                            password=\"\", host=\"\", \n",
    "                            port=\"5432\")\n",
    "except psycopg2.Error as e:\n",
    "    print('error')\n",
    "    print(e)\n",
    "else:\n",
    "    print('連線成功')\n",
    "    print(conn)\n",
<<<<<<< HEAD
    "   "
=======
    "    "
>>>>>>> 0a52691eb8bd5cca6fe98772c8b0248a2f805fb6
   ]
  },
  {
   "cell_type": "code",
   "execution_count": 1,
   "metadata": {},
<<<<<<< HEAD
   "outputs": [],
   "source": [
    "import password as pw\n",
    "import psycopg2"
   ]
  },
  {
   "cell_type": "code",
   "execution_count": 4,
   "metadata": {},
=======
>>>>>>> 0a52691eb8bd5cca6fe98772c8b0248a2f805fb6
   "outputs": [
    {
     "name": "stdout",
     "output_type": "stream",
     "text": [
      "連線成功\n",
<<<<<<< HEAD
      "<connection object at 0x000001FC3A891580; dsn: 'user=mercury password=xxx dbname=maindb_5qg1 host=dpg-cl5g6is72pts73elln20-a.singapore-postgres.render.com port=5432', closed: 0>\n"
=======
      "<connection object at 0x00000151D4D9A8A0; dsn: 'user=mercury password=xxx dbname=maindb_5qg1 host=dpg-cl5g6is72pts73elln20-a.singapore-postgres.render.com port=5432', closed: 0>\n"
>>>>>>> 0a52691eb8bd5cca6fe98772c8b0248a2f805fb6
     ]
    }
   ],
   "source": [
    "import password as pw\n",
    "import psycopg2\n",
<<<<<<< HEAD
    "\n",
    "try:\n",
    "    conn = psycopg2.connect(database=pw.DATABASE,\n",
    "                            user=pw.USER,\n",
=======
    "import pandas as pd\n",
    "\n",
    "try:\n",
    "    conn = psycopg2.connect(database=pw.DATABASE, \n",
    "                            user=pw.USER, \n",
>>>>>>> 0a52691eb8bd5cca6fe98772c8b0248a2f805fb6
    "                            password=pw.PASSWORD, host=pw.HOST,\n",
    "                            port=\"5432\")\n",
    "except psycopg2.Error as e:\n",
    "    print('error')\n",
    "    print(e)\n",
    "else:\n",
    "    print('連線成功')\n",
<<<<<<< HEAD
    "    print(conn)"
=======
    "    print(conn)\n",
    "    "
>>>>>>> 0a52691eb8bd5cca6fe98772c8b0248a2f805fb6
   ]
  },
  {
   "cell_type": "code",
<<<<<<< HEAD
   "execution_count": 5,
=======
   "execution_count": 18,
   "metadata": {},
   "outputs": [
    {
     "name": "stdout",
     "output_type": "stream",
     "text": [
      "[(1, 'YouBike2.0_一壽橋', '2023-11-08 10:08:17', '文山區', '樟新街64號前方', 16, 0, 14)]\n"
     ]
    }
   ],
   "source": [
    "sql = \"select * from 台北市youbike\"\n",
    "with conn.cursor() as cursor:\n",
    "    cursor.execute(sql)\n",
    "    records = cursor.fetchall()      #使用with資料執行完cursor.fetchall()即關閉\n",
    "print (records)"
   ]
  },
  {
   "cell_type": "code",
   "execution_count": 19,
>>>>>>> 0a52691eb8bd5cca6fe98772c8b0248a2f805fb6
   "metadata": {},
   "outputs": [
    {
     "name": "stdout",
     "output_type": "stream",
     "text": [
      "[(1, 'YouBike2.0_一壽橋', '2023-11-08 10:08:17', '文山區', '樟新街64號前方', 16, 0, 14), (3, 'YouBike2.0_一壽橋', '文山區', '2023-11-08 10:43:18', '樟新街64號前方', 100, 100, 15)]\n"
     ]
    }
   ],
   "source": [
<<<<<<< HEAD
    "sql = \"select * from 台北市youbike\"\n",
    "with conn.cursor() as cursor:\n",
    "    cursor.execute(sql)\n",
    "    records = cursor.fetchall()  # 使用with資料執行完cursor.fetchall()即關閉\n",
    "print(records)"
   ]
  },
  {
   "cell_type": "code",
   "execution_count": 6,
   "metadata": {},
   "outputs": [
    {
     "name": "stdout",
     "output_type": "stream",
     "text": [
      "[(1, 'YouBike2.0_一壽橋', '2023-11-08 10:08:17', '文山區', '樟新街64號前方', 16, 0, 14), (3, 'YouBike2.0_一壽橋', '文山區', '2023-11-08 10:43:18', '樟新街64號前方', 100, 100, 15), (5, 'YouBike2.0_一壽橋', '文山區', '2023-11-08 10:44:18', '樟新街64號前方', 100, 100, 15)]\n"
     ]
    }
   ],
   "source": [
    "sql = '''\n",
    "INSERT INTO 台北市youbike(站點名稱,行政區,更新時間,地址,總車輛數,可借,可還)\n",
    "VALUES('YouBike2.0_一壽橋','文山區','2023-11-08 10:44:18','樟新街64號前方',100,100,15)\n",
=======
    "sql = '''\n",
    "INSERT INTO 台北市youbike(站點名稱,行政區,更新時間,地址,總車輛數,可借,可還)\n",
    "VALUES('YouBike2.0_一壽橋','文山區','2023-11-08 10:43:18','樟新街64號前方',100,100,15)\n",
>>>>>>> 0a52691eb8bd5cca6fe98772c8b0248a2f805fb6
    "'''\n",
    "with conn.cursor() as cursor:\n",
    "    cursor.execute(sql)\n",
    "    conn.commit()\n",
    "\n",
    "sql1 = '''\n",
    "select * \n",
    "from 台北市youbike\n",
    "where 站點名稱 = 'YouBike2.0_一壽橋'\n",
    "'''\n",
    "\n",
    "with conn.cursor() as cursor:\n",
    "    cursor.execute(sql1)\n",
    "    records = cursor.fetchall()\n",
    "\n",
    "print(records)"
   ]
<<<<<<< HEAD
  },
  {
   "cell_type": "code",
   "execution_count": 6,
   "metadata": {},
   "outputs": [
    {
     "name": "stdout",
     "output_type": "stream",
     "text": [
      "連線成功\n",
      "<connection object at 0x000001F452BB8AE0; dsn: 'user=mercury password=xxx dbname=maindb_5qg1 host=dpg-cl5g6is72pts73elln20-a.singapore-postgres.render.com port=5432', closed: 0>\n"
     ]
    },
    {
     "name": "stderr",
     "output_type": "stream",
     "text": [
      "C:\\Users\\user\\AppData\\Local\\Temp\\ipykernel_10628\\3155243980.py:26: FutureWarning: Series.__getitem__ treating keys as positions is deprecated. In a future version, integer keys will always be treated as labels (consistent with DataFrame behavior). To access a value by position, use `ser.iloc[pos]`\n",
      "  cur.execute(sql,row)\n"
     ]
    },
    {
     "ename": "UniqueViolation",
     "evalue": "duplicate key value violates unique constraint \"台北市youbike_站點名稱_更新時間_key\"\nDETAIL:  Key (\"站點名稱\", \"更新時間\")=(YouBike2.0_一江公園, 2023-11-09 00:25:16) already exists.\n",
     "output_type": "error",
     "traceback": [
      "\u001b[1;31m---------------------------------------------------------------------------\u001b[0m",
      "\u001b[1;31mUniqueViolation\u001b[0m                           Traceback (most recent call last)",
      "\u001b[1;32mc:\\Users\\user\\Documents\\GitHub2\\11209_python_school\\youbike_render\\test1.ipynb Cell 6\u001b[0m line \u001b[0;36m2\n\u001b[0;32m     <a href='vscode-notebook-cell:/c%3A/Users/user/Documents/GitHub2/11209_python_school/youbike_render/test1.ipynb#W5sZmlsZQ%3D%3D?line=19'>20</a>\u001b[0m sql \u001b[39m=\u001b[39m \u001b[39m'''\u001b[39m\n\u001b[0;32m     <a href='vscode-notebook-cell:/c%3A/Users/user/Documents/GitHub2/11209_python_school/youbike_render/test1.ipynb#W5sZmlsZQ%3D%3D?line=20'>21</a>\u001b[0m \u001b[39mINSERT INTO 台北市youbike(站點名稱,更新時間,行政區,地址,總車輛數,可借,可還)\u001b[39m\n\u001b[0;32m     <a href='vscode-notebook-cell:/c%3A/Users/user/Documents/GitHub2/11209_python_school/youbike_render/test1.ipynb#W5sZmlsZQ%3D%3D?line=21'>22</a>\u001b[0m \u001b[39mVALUES(\u001b[39m\u001b[39m%s\u001b[39;00m\u001b[39m,\u001b[39m\u001b[39m%s\u001b[39;00m\u001b[39m,\u001b[39m\u001b[39m%s\u001b[39;00m\u001b[39m,\u001b[39m\u001b[39m%s\u001b[39;00m\u001b[39m,\u001b[39m\u001b[39m%s\u001b[39;00m\u001b[39m,\u001b[39m\u001b[39m%s\u001b[39;00m\u001b[39m,\u001b[39m\u001b[39m%s\u001b[39;00m\u001b[39m)\u001b[39m\n\u001b[0;32m     <a href='vscode-notebook-cell:/c%3A/Users/user/Documents/GitHub2/11209_python_school/youbike_render/test1.ipynb#W5sZmlsZQ%3D%3D?line=22'>23</a>\u001b[0m \u001b[39m'''\u001b[39m\n\u001b[0;32m     <a href='vscode-notebook-cell:/c%3A/Users/user/Documents/GitHub2/11209_python_school/youbike_render/test1.ipynb#W5sZmlsZQ%3D%3D?line=24'>25</a>\u001b[0m \u001b[39mfor\u001b[39;00m i,row \u001b[39min\u001b[39;00m file\u001b[39m.\u001b[39miterrows():\n\u001b[1;32m---> <a href='vscode-notebook-cell:/c%3A/Users/user/Documents/GitHub2/11209_python_school/youbike_render/test1.ipynb#W5sZmlsZQ%3D%3D?line=25'>26</a>\u001b[0m     cur\u001b[39m.\u001b[39;49mexecute(sql,row)\n\u001b[0;32m     <a href='vscode-notebook-cell:/c%3A/Users/user/Documents/GitHub2/11209_python_school/youbike_render/test1.ipynb#W5sZmlsZQ%3D%3D?line=26'>27</a>\u001b[0m conn\u001b[39m.\u001b[39mcommit()\n\u001b[0;32m     <a href='vscode-notebook-cell:/c%3A/Users/user/Documents/GitHub2/11209_python_school/youbike_render/test1.ipynb#W5sZmlsZQ%3D%3D?line=27'>28</a>\u001b[0m cur\u001b[39m.\u001b[39mclose()\n",
      "\u001b[1;31mUniqueViolation\u001b[0m: duplicate key value violates unique constraint \"台北市youbike_站點名稱_更新時間_key\"\nDETAIL:  Key (\"站點名稱\", \"更新時間\")=(YouBike2.0_一江公園, 2023-11-09 00:25:16) already exists.\n"
     ]
    }
   ],
   "source": [
    "import password as pw\n",
    "import pandas as pd\n",
    "import psycopg2\n",
    "import csv\n",
    "try:\n",
    "    conn = psycopg2.connect(database=pw.DATABASE,\n",
    "                            user=pw.USER,\n",
    "                            password=pw.PASSWORD, host=pw.HOST,\n",
    "                            port=\"5432\")\n",
    "except psycopg2.Error as e:\n",
    "    print('error')\n",
    "    print(e)\n",
    "else:\n",
    "    print('連線成功')\n",
    "    print(conn)\n",
    "\n",
    "file = pd.read_csv('台北市youbike.csv')\n",
    "cur =conn.cursor()\n",
    "\n",
    "sql = '''\n",
    "INSERT INTO 台北市youbike(站點名稱,更新時間,行政區,地址,總車輛數,可借,可還)\n",
    "VALUES(%s,%s,%s,%s,%s,%s,%s)\n",
    "'''\n",
    "\n",
    "for i,row in file.iterrows():\n",
    "    cur.execute(sql,row)\n",
    "conn.commit()\n",
    "cur.close()\n",
    "conn.close()"
   ]
  },
  {
   "cell_type": "code",
   "execution_count": null,
   "metadata": {},
   "outputs": [],
   "source": []
=======
>>>>>>> 0a52691eb8bd5cca6fe98772c8b0248a2f805fb6
  }
 ],
 "metadata": {
  "kernelspec": {
<<<<<<< HEAD
   "display_name": ".venv",
=======
   "display_name": "vene_py38",
>>>>>>> 0a52691eb8bd5cca6fe98772c8b0248a2f805fb6
   "language": "python",
   "name": "python3"
  },
  "language_info": {
   "codemirror_mode": {
    "name": "ipython",
    "version": 3
   },
   "file_extension": ".py",
   "mimetype": "text/x-python",
   "name": "python",
   "nbconvert_exporter": "python",
   "pygments_lexer": "ipython3",
   "version": "3.10.8"
  }
 },
 "nbformat": 4,
 "nbformat_minor": 2
}
