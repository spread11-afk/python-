{
 "cells": [
  {
   "cell_type": "code",
   "execution_count": 2,
   "metadata": {},
   "outputs": [
    {
     "name": "stdout",
     "output_type": "stream",
     "text": [
      "連線成功\n",
      "<connection object at 0x0000019924E6BBC0; dsn: 'user=mercury password=xxx dbname=maindb_5qg1 host=dpg-cl5g6is72pts73elln20-a.singapore-postgres.render.com port=5432', closed: 0>\n"
     ]
    },
    {
     "name": "stderr",
     "output_type": "stream",
     "text": [
      "C:\\Users\\user\\AppData\\Local\\Temp\\ipykernel_8792\\2537748512.py:26: FutureWarning: Series.__getitem__ treating keys as positions is deprecated. In a future version, integer keys will always be treated as labels (consistent with DataFrame behavior). To access a value by position, use `ser.iloc[pos]`\n",
      "  cur.execute(sql, row)\n"
     ]
    }
   ],
   "source": [
    "import password as pw\n",
    "import pandas as pd\n",
    "import psycopg2\n",
    "import csv\n",
    "try:\n",
    "    conn = psycopg2.connect(database=pw.DATABASE,\n",
    "                            user=pw.USER,\n",
    "                            password=pw.PASSWORD, host=pw.HOST,\n",
    "                            port=\"5432\")\n",
    "except psycopg2.Error as e:\n",
    "    print('error')\n",
    "    print(e)\n",
    "else:\n",
    "    print('連線成功')\n",
    "    print(conn)\n",
    "\n",
    "file = pd.read_csv('台北市youbike.csv')\n",
    "cur = conn.cursor()\n",
    "\n",
    "sql = '''\n",
    "INSERT INTO 台北市youbike(站點名稱,更新時間,行政區,地址,總車輛數,可借,可還)\n",
    "VALUES(%s,%s,%s,%s,%s,%s,%s)\n",
    "'''\n",
    "\n",
    "for i, row in file.iterrows():\n",
    "    cur.execute(sql, row)\n",
    "conn.commit()\n",
    "cur.close()\n",
    "conn.close()"
   ]
  }
 ],
 "metadata": {
  "kernelspec": {
   "display_name": ".venv",
   "language": "python",
   "name": "python3"
  },
  "language_info": {
   "codemirror_mode": {
    "name": "ipython",
    "version": 3
   },
   "file_extension": ".py",
   "mimetype": "text/x-python",
   "name": "python",
   "nbconvert_exporter": "python",
   "pygments_lexer": "ipython3",
   "version": "3.10.8"
  }
 },
 "nbformat": 4,
 "nbformat_minor": 2
}
