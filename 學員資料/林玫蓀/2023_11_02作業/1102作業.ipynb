{
 "cells": [
  {
   "cell_type": "code",
   "execution_count": 3,
   "metadata": {},
   "outputs": [
    {
     "ename": "",
     "evalue": "",
     "output_type": "error",
     "traceback": [
      "\u001b[1;31m在目前儲存格或上一個儲存格中執行程式碼時，Kernel 已損毀。請檢閱儲存格中的程式碼，找出失敗的可能原因。如需詳細資訊，請按一下<a href='https://aka.ms/vscodeJupyterKernelCrash'>這裡</a>。檢視 Jupyter <a href='command:jupyter.viewOutput'>記錄</a>，以取得進一步的詳細資料。"
     ]
    }
   ],
   "source": [
    "import tkinter as tk\n",
    "import tkintermapview as tkmap\n",
    "\n",
    "class Window(tk.Tk):\n",
    "    def __init__(self):\n",
    "        super().__init__()\n",
    "        #建立地圖\n",
    "        map_widget = tkmap.TkinterMapView(self,\n",
    "                                          width=800,\n",
    "                                          height=600,\n",
    "                                          corner_radius=1,\n",
    "                                          )\n",
    "        map_widget.place(relx=0.5, rely=0.5, anchor=tk.CENTER)\n",
    "        marker_1 = map_widget.set_position(25.0249590, 121.4771745,marker=True) \n",
    "        map_widget.set_zoom(15) #設定顯示大小\n",
    "        marker_1.set_text(\"板橋永安公園\")\n",
    "        # marker_1.set_position(48.860381, 2.338594)  # 改變位置\n",
    "        # marker_1.delete()刪除\n",
    "\n",
    "if __name__ == \"__main__\":\n",
    "    window = Window()\n",
    "    window.geometry(\"800x600\")\n",
    "    window.title(\"地圖\")\n",
    "    window.mainloop()"
   ]
  }
 ],
 "metadata": {
  "kernelspec": {
   "display_name": ".venv",
   "language": "python",
   "name": "python3"
  },
  "language_info": {
   "codemirror_mode": {
    "name": "ipython",
    "version": 3
   },
   "file_extension": ".py",
   "mimetype": "text/x-python",
   "name": "python",
   "nbconvert_exporter": "python",
   "pygments_lexer": "ipython3",
   "version": "3.10.8"
  }
 },
 "nbformat": 4,
 "nbformat_minor": 2
}
