{
 "cells": [
  {
   "cell_type": "code",
   "execution_count": 1,
   "metadata": {},
   "outputs": [
    {
     "data": {
      "text/plain": [
       "True"
      ]
     },
     "execution_count": 1,
     "metadata": {},
     "output_type": "execute_result"
    }
   ],
   "source": [
    "#python 純值\n",
    "'Hello! Python!'\n",
    "30\n",
    "30.0\n",
    "True"
   ]
  },
  {
   "cell_type": "code",
   "execution_count": 2,
   "metadata": {},
   "outputs": [
    {
     "name": "stdout",
     "output_type": "stream",
     "text": [
      "Hello! Python!\n",
      "30\n",
      "30.0\n",
      "True\n"
     ]
    }
   ],
   "source": [
    "#print()\n",
    "print('Hello! Python!')\n",
    "print(30)\n",
    "print(30.0)\n",
    "print(True)"
   ]
  },
  {
   "cell_type": "code",
   "execution_count": 3,
   "metadata": {},
   "outputs": [
    {
     "name": "stdout",
     "output_type": "stream",
     "text": [
      "13\n",
      "80\n",
      "28\n",
      "3.0\n",
      "3\n",
      "1\n",
      "980188864829534682605802224588165892518744500843860189980001\n"
     ]
    }
   ],
   "source": [
    "#整數運算\n",
    "print(5 + 8)\n",
    "print(90 - 10)\n",
    "print(4 * 7)\n",
    "print(6 / 2)\n",
    "print(7 // 2)\n",
    "print(7 % 3)\n",
    "print(999 ** 20)"
   ]
  },
  {
   "cell_type": "code",
   "execution_count": 4,
   "metadata": {},
   "outputs": [
    {
     "name": "stdout",
     "output_type": "stream",
     "text": [
      "13.0\n",
      "23.0\n",
      "21.0\n",
      "10\n"
     ]
    }
   ],
   "source": [
    "#浮點數和整數運算\n",
    "print(5.0 + 8)\n",
    "print(5.0 + 8 + 10)\n",
    "print(5.0 + 8 * 2)\n",
    "print(2 * (1 + 2) ** 2 - 2 ** 2 * 2)"
   ]
  },
  {
   "cell_type": "code",
   "execution_count": 5,
   "metadata": {},
   "outputs": [
    {
     "data": {
      "text/plain": [
       "'abcefg'"
      ]
     },
     "execution_count": 5,
     "metadata": {},
     "output_type": "execute_result"
    }
   ],
   "source": [
    "#字串的加法運算\n",
    "\"abc\" + \"efg\""
   ]
  },
  {
   "cell_type": "code",
   "execution_count": 6,
   "metadata": {},
   "outputs": [],
   "source": [
    "#字串+數值 -> 出錯\n",
    "#\"abc\" + 13"
   ]
  },
  {
   "cell_type": "code",
   "execution_count": 7,
   "metadata": {},
   "outputs": [
    {
     "data": {
      "text/plain": [
       "'abc13'"
      ]
     },
     "execution_count": 7,
     "metadata": {},
     "output_type": "execute_result"
    }
   ],
   "source": [
    "#str() -> 轉為字串\n",
    "\"abc\" + str(13)"
   ]
  },
  {
   "cell_type": "code",
   "execution_count": 9,
   "metadata": {},
   "outputs": [
    {
     "data": {
      "text/plain": [
       "38"
      ]
     },
     "execution_count": 9,
     "metadata": {},
     "output_type": "execute_result"
    }
   ],
   "source": [
    "#int() -> 轉為整數\n",
    "int(\"13\") + int(\"25\")"
   ]
  },
  {
   "cell_type": "code",
   "execution_count": 8,
   "metadata": {},
   "outputs": [
    {
     "data": {
      "text/plain": [
       "35.2"
      ]
     },
     "execution_count": 8,
     "metadata": {},
     "output_type": "execute_result"
    }
   ],
   "source": [
    "#float() -> 轉為浮點數\n",
    "float(\"13.5\") + float(\"21.7\")"
   ]
  },
  {
   "cell_type": "code",
   "execution_count": 10,
   "metadata": {},
   "outputs": [],
   "source": [
    "openedx=100"
   ]
  },
  {
   "cell_type": "code",
   "execution_count": 1,
   "metadata": {},
   "outputs": [],
   "source": [
    "taiwan, years = '台灣', 2018"
   ]
  },
  {
   "cell_type": "code",
   "execution_count": 2,
   "metadata": {},
   "outputs": [],
   "source": [
    "del years"
   ]
  },
  {
   "cell_type": "code",
   "execution_count": null,
   "metadata": {},
   "outputs": [],
   "source": [
    "#question: 請問以下哪一個變數命名是錯的?(選擇題)\n",
    "#answer (1)\n",
    "# (1) 5well\n",
    "# (2) pcschool\n",
    "#(3)  巨匠"
   ]
  },
  {
   "cell_type": "code",
   "execution_count": null,
   "metadata": {},
   "outputs": [],
   "source": [
    "#question: 請問以下哪一個變數命名是錯的?(複選題)\n",
    "# answer (1)(2)(3(4)\n",
    "#(1) 7eleven\n",
    "#(2) pcschool&python\n",
    "#(3) Pcschool python\n",
    "#(4) if"
   ]
  },
  {
   "cell_type": "code",
   "execution_count": null,
   "metadata": {},
   "outputs": [],
   "source": [
    "#question: 若要建立 x 變數內容為 15，請問哪一行是對的? (選擇題)\n",
    "#answer (4)\n",
    "#(1) x equals 15\n",
    "#(2) x is 15\n",
    "#(3) 15 = x\n",
    "#(4) x = 15\n",
    "\n"
   ]
  },
  {
   "cell_type": "code",
   "execution_count": 15,
   "metadata": {},
   "outputs": [
    {
     "name": "stdout",
     "output_type": "stream",
     "text": [
      "3\n",
      "3.12\n",
      "Hello! World!\n",
      "5\n"
     ]
    }
   ],
   "source": [
    "#一個參數\n",
    "print(3)\n",
    "print(3.12)\n",
    "print(\"Hello! World!\")\n",
    "print(3+2)"
   ]
  },
  {
   "cell_type": "code",
   "execution_count": 16,
   "metadata": {},
   "outputs": [
    {
     "name": "stdout",
     "output_type": "stream",
     "text": [
      "a= 100\n",
      "b= 50\n",
      "a+b= 150\n"
     ]
    }
   ],
   "source": [
    "#多個參數\n",
    "a = 100\n",
    "print('a=',a)\n",
    "b = 50\n",
    "print('b=', b)\n",
    "print(\"a+b=\", a+b)"
   ]
  },
  {
   "cell_type": "code",
   "execution_count": 18,
   "metadata": {},
   "outputs": [],
   "source": [
    "#question:關於輸出語法哪一個是對的?(選擇題)\n",
    "#answer (2)\n",
    "#(2) print(3 + 4)\n",
    "#(3) print 3 + 4\n",
    "#(4) put(3 + 4)\n",
    "\n"
   ]
  },
  {
   "cell_type": "code",
   "execution_count": null,
   "metadata": {},
   "outputs": [],
   "source": [
    "#question:請問 Python 檔案副檔名哪一個是對的?(選擇題)\n",
    "#answer(3)\n",
    "#(1) .script\n",
    "#(2) .pyscript\n",
    "#(3) .py\n",
    "#(4) .python"
   ]
  },
  {
   "cell_type": "code",
   "execution_count": null,
   "metadata": {},
   "outputs": [],
   "source": [
    "#question: 請問執行這一行後的說明哪一個是對的?(選擇題)\n",
    "#answer(1)\n",
    "\n",
    "#print(x1)\n",
    "\n",
    "#(1) 產生錯誤\n",
    "#(2) 輸出空白\n",
    "#(3) 輸出 0"
   ]
  },
  {
   "cell_type": "code",
   "execution_count": null,
   "metadata": {},
   "outputs": [],
   "source": [
    "#question: 請問執行後的說明哪一個是對的?(選擇題)\n",
    "#answer (2)輸出'test'\n",
    "\n",
    "x=50 \n",
    "x='test' \n",
    "print(x)\n",
    "\n",
    "#(1) 產生錯誤\n",
    "#(2) 輸出 test\n",
    "#(3) 輸出 5\n"
   ]
  },
  {
   "cell_type": "code",
   "execution_count": 3,
   "metadata": {},
   "outputs": [
    {
     "name": "stdout",
     "output_type": "stream",
     "text": [
      "<class 'int'>\n",
      "<class 'float'>\n",
      "<class 'str'>\n",
      "<class 'bool'>\n"
     ]
    }
   ],
   "source": [
    "a = 100\n",
    "print(type(a))\n",
    "\n",
    "a = 100.0\n",
    "print(type(a))\n",
    "\n",
    "a = '100.0'\n",
    "print(type(a))\n",
    "\n",
    "a = True\n",
    "print(type(a))"
   ]
  },
  {
   "cell_type": "code",
   "execution_count": 4,
   "metadata": {},
   "outputs": [
    {
     "name": "stdout",
     "output_type": "stream",
     "text": [
      "7\n"
     ]
    }
   ],
   "source": [
    "#下面2行，將7給變數a, 並且輸出變數a的內容\n",
    "a=7\n",
    "print(a)"
   ]
  },
  {
   "cell_type": "code",
   "execution_count": 5,
   "metadata": {},
   "outputs": [
    {
     "name": "stdout",
     "output_type": "stream",
     "text": [
      "7\n"
     ]
    }
   ],
   "source": [
    "#將a的參考給b,並且輸出變數b的內容\n",
    "b=a\n",
    "print(b)"
   ]
  },
  {
   "cell_type": "code",
   "execution_count": 10,
   "metadata": {},
   "outputs": [
    {
     "name": "stdout",
     "output_type": "stream",
     "text": [
      "<class 'int'>\n",
      "<class 'int'>\n",
      "<class 'int'>\n",
      "<class 'float'>\n",
      "<class 'str'>\n"
     ]
    }
   ],
   "source": [
    "#使用type function輸出目前的資料型別\n",
    "print(type(a))\n",
    "print(type(b))\n",
    "print(type(58))\n",
    "print(type(99.9))\n",
    "print(type('abc'))"
   ]
  },
  {
   "cell_type": "code",
   "execution_count": 11,
   "metadata": {},
   "outputs": [
    {
     "name": "stdout",
     "output_type": "stream",
     "text": [
      "<class 'int'>\n",
      "<class 'float'>\n",
      "<class 'bool'>\n",
      "<class 'str'>\n"
     ]
    }
   ],
   "source": [
    "var1=20 \n",
    "print(type(var1))\n",
    "var2=123.45\n",
    "print(type(var2))\n",
    "var3=True \n",
    "print(type(var3)) \n",
    "var4='string1' \n",
    "print(type(var4)) "
   ]
  },
  {
   "cell_type": "code",
   "execution_count": 12,
   "metadata": {},
   "outputs": [
    {
     "name": "stdout",
     "output_type": "stream",
     "text": [
      "2373813928784\n",
      "2373820001968\n"
     ]
    }
   ],
   "source": [
    "a=5\n",
    "a=20\n",
    "print(id(a))\n",
    "a=\"test\" \n",
    "print(id(a)) "
   ]
  },
  {
   "cell_type": "code",
   "execution_count": null,
   "metadata": {},
   "outputs": [],
   "source": [
    "#question:請問執行這兩行後記憶體位址會相同嗎?(選擇題)\n",
    "#answer: (2)不同\n",
    "\n",
    "a=5.4\n",
    "a=20.3\n",
    "\n",
    "#(1) 相同\n",
    "#(2) 不同"
   ]
  },
  {
   "cell_type": "code",
   "execution_count": 14,
   "metadata": {},
   "outputs": [
    {
     "data": {
      "text/plain": [
       "'A B C'"
      ]
     },
     "execution_count": 14,
     "metadata": {},
     "output_type": "execute_result"
    }
   ],
   "source": [
    "#不指定位置，依序輸出\n",
    "\"{} {} {}\".format(\"A\", \"B\", \"C\")\n"
   ]
  },
  {
   "cell_type": "code",
   "execution_count": 15,
   "metadata": {},
   "outputs": [
    {
     "data": {
      "text/plain": [
       "'C A B'"
      ]
     },
     "execution_count": 15,
     "metadata": {},
     "output_type": "execute_result"
    }
   ],
   "source": [
    "#用數字指定位置\n",
    "\"{2} {0} {1}\".format(\"A\", \"B\", \"C\") \n"
   ]
  },
  {
   "cell_type": "code",
   "execution_count": 16,
   "metadata": {},
   "outputs": [
    {
     "data": {
      "text/plain": [
       "'A C B'"
      ]
     },
     "execution_count": 16,
     "metadata": {},
     "output_type": "execute_result"
    }
   ],
   "source": [
    "#用名稱指定位置\n",
    "\"{a} {c} {b}\".format(a=\"A\", b=\"B\", c=\"C\")"
   ]
  },
  {
   "cell_type": "code",
   "execution_count": 4,
   "metadata": {},
   "outputs": [
    {
     "name": "stdout",
     "output_type": "stream",
     "text": [
      "|     123||456     |\n",
      "|   +4.32|\n"
     ]
    },
    {
     "ename": "ValueError",
     "evalue": "Unknown format code '>' for object of type 'float'",
     "output_type": "error",
     "traceback": [
      "\u001b[1;31m---------------------------------------------------------------------------\u001b[0m",
      "\u001b[1;31mValueError\u001b[0m                                Traceback (most recent call last)",
      "\u001b[1;32mc:\\GitHub\\11209_python_school\\2023_09_11作業\\python基礎與資料輸出.ipynb 儲存格 32\u001b[0m line \u001b[0;36m4\n\u001b[0;32m      <a href='vscode-notebook-cell:/c%3A/GitHub/11209_python_school/2023_09_11%E4%BD%9C%E6%A5%AD/python%E5%9F%BA%E7%A4%8E%E8%88%87%E8%B3%87%E6%96%99%E8%BC%B8%E5%87%BA.ipynb#X43sZmlsZQ%3D%3D?line=1'>2</a>\u001b[0m \u001b[39mprint\u001b[39m (\u001b[39m\"\u001b[39m\u001b[39m|\u001b[39m\u001b[39m{0:8d}\u001b[39;00m\u001b[39m||\u001b[39m\u001b[39m{1:<8d}\u001b[39;00m\u001b[39m|\u001b[39m\u001b[39m\"\u001b[39m\u001b[39m.\u001b[39mformat(\u001b[39m123\u001b[39m, \u001b[39m456\u001b[39m))\n\u001b[0;32m      <a href='vscode-notebook-cell:/c%3A/GitHub/11209_python_school/2023_09_11%E4%BD%9C%E6%A5%AD/python%E5%9F%BA%E7%A4%8E%E8%88%87%E8%B3%87%E6%96%99%E8%BC%B8%E5%87%BA.ipynb#X43sZmlsZQ%3D%3D?line=2'>3</a>\u001b[0m \u001b[39mprint\u001b[39m(\u001b[39m\"\u001b[39m\u001b[39m|\u001b[39m\u001b[39m{0:+8.2f}\u001b[39;00m\u001b[39m|\u001b[39m\u001b[39m\"\u001b[39m\u001b[39m.\u001b[39mformat(\u001b[39m4.32\u001b[39m))\n\u001b[1;32m----> <a href='vscode-notebook-cell:/c%3A/GitHub/11209_python_school/2023_09_11%E4%BD%9C%E6%A5%AD/python%E5%9F%BA%E7%A4%8E%E8%88%87%E8%B3%87%E6%96%99%E8%BC%B8%E5%87%BA.ipynb#X43sZmlsZQ%3D%3D?line=3'>4</a>\u001b[0m \u001b[39mprint\u001b[39m(\u001b[39m\"\u001b[39;49m\u001b[39m|\u001b[39;49m\u001b[39m{\u001b[39;49m\u001b[39m0:8.2>}}|\u001b[39;49m\u001b[39m\"\u001b[39;49m\u001b[39m.\u001b[39;49mformat(\u001b[39m0.8\u001b[39;49m))\n",
      "\u001b[1;31mValueError\u001b[0m: Unknown format code '>' for object of type 'float'"
     ]
    }
   ],
   "source": [
    "#‘:’ 前方的數值如基本操作，代表後方參數的位置\n",
    "print (\"|{0:8d}||{1:<8d}|\".format(123, 456))\n",
    "print(\"|{0:+8.2f}|\".format(4.32))\n",
    "print(\"|{0:8.2>}}|\".format(0.8))\n"
   ]
  },
  {
   "cell_type": "code",
   "execution_count": 20,
   "metadata": {},
   "outputs": [
    {
     "name": "stdout",
     "output_type": "stream",
     "text": [
      "|     123|\n",
      "|abc     |\n"
     ]
    }
   ],
   "source": [
    "#字串與數值輸出預設對齊方式的比較\n",
    "print(\"|{0:8}|\".format(123))\n",
    "print(\"|{0:8}|\".format(\"abc\"))"
   ]
  },
  {
   "cell_type": "code",
   "execution_count": 21,
   "metadata": {},
   "outputs": [
    {
     "name": "stdout",
     "output_type": "stream",
     "text": [
      "Hello, world\n"
     ]
    }
   ],
   "source": [
    "text = 'world'\n",
    "print(f'Hello, {text}')"
   ]
  },
  {
   "cell_type": "code",
   "execution_count": 22,
   "metadata": {},
   "outputs": [
    {
     "name": "stdout",
     "output_type": "stream",
     "text": [
      "x + y = 37\n"
     ]
    }
   ],
   "source": [
    "x = 10\n",
    "y = 27\n",
    "\n",
    "print(f'x + y = {x + y}')"
   ]
  },
  {
   "cell_type": "code",
   "execution_count": null,
   "metadata": {},
   "outputs": [],
   "source": [
    "def hello(text, name):\n",
    "    return f'hello {text}, hello {name}'"
   ]
  }
 ],
 "metadata": {
  "kernelspec": {
   "display_name": ".venv",
   "language": "python",
   "name": "python3"
  },
  "language_info": {
   "codemirror_mode": {
    "name": "ipython",
    "version": 3
   },
   "file_extension": ".py",
   "mimetype": "text/x-python",
   "name": "python",
   "nbconvert_exporter": "python",
   "pygments_lexer": "ipython3",
   "version": "3.10.8"
  },
  "orig_nbformat": 4
 },
 "nbformat": 4,
 "nbformat_minor": 2
}
