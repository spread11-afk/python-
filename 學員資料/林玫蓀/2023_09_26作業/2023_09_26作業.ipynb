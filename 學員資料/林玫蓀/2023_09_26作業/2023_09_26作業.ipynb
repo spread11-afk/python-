{
 "cells": [
  {
   "cell_type": "markdown",
   "metadata": {},
   "source": [
    "#擲骰子遊戲\n",
    "\n",
    ">1.至少要有兩個骰子點數相同，另兩個骰子才加總計算點數。\n",
    "\n",
    ">  -例:[1,2,3,4]->0點   [1,1,2,3]->5點\n",
    "\n",
    ">2.兩兩相同以點數高者計算。\n",
    "\n",
    ">  -例:[1,1,6,6]->12點\n",
    "\n",
    ">3.4個骰子相同，點數乘10倍。\n",
    "\n",
    ">  -例:[1,1,1,1]->40點\n",
    "\n",
    ">4.其餘不計算點數。\n",
    "\n",
    ">5.與電腦點數相同者電腦羸。"
   ]
  },
  {
   "cell_type": "code",
   "execution_count": 5,
   "metadata": {},
   "outputs": [
    {
     "name": "stdout",
     "output_type": "stream",
     "text": [
      "\n",
      "===============擲骰子遊戲=================:\n",
      "\n",
      "[4, 6, 3, 6] 電腦擲骰子點數:7點\n",
      "[3, 2, 6, 3] 您擲骰子點數:8點\n",
      "you win\n",
      "還要繼續嗎?(y,n)\n",
      "===============擲骰子遊戲=================:\n",
      "\n",
      "[4, 3, 5, 5] 電腦擲骰子點數:7點\n",
      "[4, 6, 1, 5] 您擲骰子點數:0點\n",
      "you lose\n",
      "還要繼續嗎?(y,n)\n",
      "===============擲骰子遊戲=================:\n",
      "\n",
      "[2, 6, 3, 6] 電腦擲骰子點數:5點\n",
      "[6, 4, 2, 1] 您擲骰子點數:0點\n",
      "you lose\n",
      "還要繼續嗎?(y,n)\n",
      "===============擲骰子遊戲=================:\n",
      "\n",
      "[4, 4, 2, 2] 電腦擲骰子點數:8點\n",
      "[2, 2, 2, 2] 您擲骰子點數:80點\n",
      "you win\n",
      "還要繼續嗎?(y,n)\n",
      "遊戲結束\n"
     ]
    }
   ],
   "source": [
    "import random\n",
    "import pyinputplus as pyip\n",
    "\n",
    "def diceGame():    \n",
    "    j = 0\n",
    "    t = 0\n",
    "    score_t = 0 \n",
    "\n",
    "    num = [random.randint(1,6) for i in range(4) ]  \n",
    "    #num = [2,2,6,6]\n",
    "    print(num,end=\" \")\n",
    "    for x in range(4):\n",
    "        for j in range(x+1,4) :\n",
    "            if num[x] == num[j] :\n",
    "                t += 1\n",
    "                score_t += num[j]            \n",
    "    if t == 1 :\n",
    "        point = sum(num)-score_t*2\n",
    "        return point\n",
    "    elif  t == 2:\n",
    "        point = int(max(num)*2)\n",
    "        return point\n",
    "    elif  t == 6:\n",
    "        point = int(sum(num)*10)\n",
    "        return point\n",
    "    else :\n",
    "        point = 0\n",
    "        return point \n",
    "\n",
    "\n",
    "while True:\n",
    "    print()\n",
    "    print(\"===============擲骰子遊戲=================:\\n\")     \n",
    "    a = diceGame()\n",
    "    print(f\"電腦擲骰子點數:{a}點\")    \n",
    "    b = diceGame()    \n",
    "    print(f\"您擲骰子點數:{b}點\")\n",
    "    if b > a:\n",
    "        print(\"you win\") \n",
    "    else :\n",
    "        print(\"you lose\")\n",
    "    answer = pyip.inputYesNo(prompt=\"還要繼續嗎?(y,n)\",yesVal='y',noVal='n')\n",
    "    if not (answer == 'y'):\n",
    "        print()\n",
    "        break\n",
    "print(\"遊戲結束\")\n",
    "\n",
    "\n"
   ]
  }
 ],
 "metadata": {
  "kernelspec": {
   "display_name": ".venv",
   "language": "python",
   "name": "python3"
  },
  "language_info": {
   "codemirror_mode": {
    "name": "ipython",
    "version": 3
   },
   "file_extension": ".py",
   "mimetype": "text/x-python",
   "name": "python",
   "nbconvert_exporter": "python",
   "pygments_lexer": "ipython3",
   "version": "3.10.8"
  },
  "orig_nbformat": 4
 },
 "nbformat": 4,
 "nbformat_minor": 2
}
