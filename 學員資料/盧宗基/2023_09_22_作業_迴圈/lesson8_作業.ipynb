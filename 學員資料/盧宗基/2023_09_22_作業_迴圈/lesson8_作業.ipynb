{
 "cells": [
  {
   "cell_type": "code",
   "execution_count": 20,
   "metadata": {},
   "outputs": [
    {
     "name": "stdout",
     "output_type": "stream",
     "text": [
      "9 的因數:\n",
      "num的因數:1\n",
      "num的因數:3\n",
      "num的因數:9\n"
     ]
    }
   ],
   "source": [
    "##求所有因數\n",
    "###num = int(input(\"請輸入整數，求所有因數:\"))\n",
    "###print(num,\"的因數:\")\n",
    "\n",
    "num = int(input(\"請輸入整數，求所有因數:\"))\n",
    "print(num,\"的因數:\")\n",
    "ftr=1\n",
    "while ftr<=num:\n",
    "    if (num%ftr)==0:\n",
    "       print(f\"num的因數:{ftr}\")\n",
    "       ftr+=1\n",
    "    else:\n",
    "       ftr+=1\n",
    "\n",
    "       \n"
   ]
  },
  {
   "cell_type": "code",
   "execution_count": 27,
   "metadata": {},
   "outputs": [
    {
     "name": "stdout",
     "output_type": "stream",
     "text": [
      "請輸入2數,求2數公因數:\n",
      " -->輸入2數: 6 9\n",
      "6及9的公因數:1\n",
      "6及9的公因數:3\n"
     ]
    }
   ],
   "source": [
    "#求公因數1\n",
    "print(\"請輸入2數,求2數公因數:\")\n",
    "n = int(input('請輸入第1個數:'))\n",
    "m = int(input('請輸入第2個數:'))\n",
    "print(\" -->輸入2數:\",n,m)\n",
    "ftr=1\n",
    "\n",
    "if n<m:\n",
    "   while ftr<n:\n",
    "       if (n%ftr)==0 and (m%ftr)==0 :\n",
    "          print(f\"{n}及{m}的公因數:{ftr}\")\n",
    "          ftr+=1\n",
    "       else:\n",
    "          ftr+=1\n",
    "else:\n",
    "   while ftr<m:\n",
    "       if ((n%ftr)==0 and (m%ftr)==0):\n",
    "          print(f\"{n}及{m}的公因數:{ftr}\")\n",
    "          ftr+=1\n",
    "       else:\n",
    "          ftr+=1"
   ]
  },
  {
   "cell_type": "code",
   "execution_count": 7,
   "metadata": {},
   "outputs": [
    {
     "name": "stdout",
     "output_type": "stream",
     "text": [
      "請輸入數值:   輸入數值= 15\n",
      "2\n",
      "3\n",
      "5\n",
      "7\n",
      "11\n",
      "13\n"
     ]
    }
   ],
   "source": [
    "## 2~100,每一個的質數\n",
    "\n",
    "import pyinputplus as pyip\n",
    "\n",
    "ending_nm=pyip.inputInt(prompt=\"請輸入數值:\")\n",
    "\n",
    "print(\"   輸入數值=\",ending_nm)\n",
    "\n",
    "pn=2\n",
    "\n",
    "for nn in range(2,ending_nm+1):\n",
    "\n",
    "    for pn in range(2,nn+1):\n",
    "       \n",
    "       if nn%pn == 0 and pn < nn:\n",
    "          break\n",
    "       elif nn%pn != 0 and pn < nn:\n",
    "          continue\n",
    "       else:\n",
    "          print(nn)"
   ]
  }
 ],
 "metadata": {
  "kernelspec": {
   "display_name": ".venv",
   "language": "python",
   "name": "python3"
  },
  "language_info": {
   "codemirror_mode": {
    "name": "ipython",
    "version": 3
   },
   "file_extension": ".py",
   "mimetype": "text/x-python",
   "name": "python",
   "nbconvert_exporter": "python",
   "pygments_lexer": "ipython3",
   "version": "3.10.8"
  },
  "orig_nbformat": 4
 },
 "nbformat": 4,
 "nbformat_minor": 2
}
