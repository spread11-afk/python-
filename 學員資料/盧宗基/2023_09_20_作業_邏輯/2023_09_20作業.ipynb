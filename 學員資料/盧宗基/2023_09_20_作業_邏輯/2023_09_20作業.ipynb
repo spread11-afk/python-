{
 "cells": [
  {
   "cell_type": "markdown",
   "metadata": {},
   "source": [
    "![作業1](./pic1.png)\n",
    "![作業2](./pic2.png)"
   ]
  },
  {
   "cell_type": "code",
   "execution_count": 21,
   "metadata": {},
   "outputs": [
    {
     "name": "stdout",
     "output_type": "stream",
     "text": [
      "請輸入重量(Kg):請輸入身高(cm):\n",
      "重量(Kg) 83\n",
      "身高(cm): 175\n",
      "您的BMI是27.1\n",
      "您的體重 過重\n"
     ]
    }
   ],
   "source": [
    "#作業1\n",
    "\n",
    "import pyinputplus as pyip\n",
    "\n",
    "weight = pyip.inputInt(prompt=\"請輸入重量(Kg):\",min=0)\n",
    "height = pyip.inputInt(prompt=\"請輸入身高(cm):\",min=0)\n",
    "BMI =round(weight/(height/100)**2,1)\n",
    "print()\n",
    "print(\"重量(Kg)\",weight)\n",
    "print(\"身高(cm):\",height)\n",
    "\n",
    "state = \"\"\n",
    "if BMI > 30:\n",
    "    state = \"肥胖\"\n",
    "elif BMI >= 25:    \n",
    "    state = \"過重\"\n",
    "elif BMI >= 18.5:     \n",
    "    state = \"正常\"\n",
    "else:\n",
    "    state = \"太輕\"\n",
    "print(f\"您的BMI是{BMI}\")\n",
    "print(f\"您的體重 {state}\")"
   ]
  },
  {
   "cell_type": "code",
   "execution_count": 3,
   "metadata": {},
   "outputs": [
    {
     "name": "stdout",
     "output_type": "stream",
     "text": [
      "您的收縮壓是 130\n",
      "您的舒張壓是 90\n",
      "您的血壓是 高血壓第1期\n"
     ]
    }
   ],
   "source": [
    "#作業2\n",
    "\n",
    "sbp=int(input(\"請輸入收縮壓\"))\n",
    "dbp=int(input(\"請輸入舒張壓\"))\n",
    "print(\"您的收縮壓是\",sbp)\n",
    "print(\"您的舒張壓是\",dbp)\n",
    "AAPA=\"\"\n",
    "\n",
    "if sbp<120 and dbp<80:\n",
    "    AAPA=\"正常\"\n",
    "\n",
    "elif sbp<130 and dbp<80:\n",
    "    AAPA=\"血壓升高\"\n",
    "\n",
    "elif sbp>=130 and dbp<80:\n",
    "    AAPA=\"單純收縮型高血壓\"\n",
    "\n",
    "elif sbp<140 or dbp<90:\n",
    "    AAPA=\"高血壓第1期\"\n",
    "\n",
    "elif sbp>=140 or dbp>=90:\n",
    "    AAPA=\"高血壓第2期\"\n",
    "\n",
    "else:\n",
    "     AAPA=AAPA\n",
    "print(\"您的血壓是\",AAPA)\n",
    "    "
   ]
  }
 ],
 "metadata": {
  "kernelspec": {
   "display_name": ".venv",
   "language": "python",
   "name": "python3"
  },
  "language_info": {
   "codemirror_mode": {
    "name": "ipython",
    "version": 3
   },
   "file_extension": ".py",
   "mimetype": "text/x-python",
   "name": "python",
   "nbconvert_exporter": "python",
   "pygments_lexer": "ipython3",
   "version": "3.10.8"
  },
  "orig_nbformat": 4
 },
 "nbformat": 4,
 "nbformat_minor": 2
}
