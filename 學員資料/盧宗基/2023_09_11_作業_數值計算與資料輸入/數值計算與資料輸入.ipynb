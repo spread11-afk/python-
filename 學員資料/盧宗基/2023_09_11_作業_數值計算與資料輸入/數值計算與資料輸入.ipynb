{
 "cells": [
  {
   "cell_type": "code",
   "execution_count": 3,
   "metadata": {},
   "outputs": [
    {
     "data": {
      "text/plain": [
       "0"
      ]
     },
     "execution_count": 3,
     "metadata": {},
     "output_type": "execute_result"
    }
   ],
   "source": [
    "#python的整數\n",
    "#\n",
    "\n",
    "5\n",
    "0"
   ]
  },
  {
   "cell_type": "code",
   "execution_count": null,
   "metadata": {},
   "outputs": [],
   "source": [
    "5\n",
    "\n",
    "0\n",
    "\n",
    "#數字前不可以加0\n",
    "\n",
    "05 #SyntaxError: invalid token #python的語法錯誤\n",
    "\n",
    "\n",
    "#正整數\n",
    "123\n",
    "\n",
    "+123\n",
    "    \n",
    "#負整數\n",
    "-123\n",
    "\n",
    "#整數運算\n",
    "5+9 \n",
    "100-7 \n",
    "4-10 \n",
    "   \n",
    "#多個數值運算\n",
    "5+9+3\n",
    "4+3-2-1+6 \n",
    "\t \n",
    "#乘法運算\n",
    "6*7\n",
    "7*6\n",
    "6*7*2*3 \n",
    "   \n",
    "#浮點數除法\n",
    "9/5 \n",
    "# =1.8\n",
    "\n",
    "#整數除法\n",
    "9//5 \n",
    "# =   1\n",
    "\n",
    "#除數不可以為零\n",
    "#5/0\n",
    "# Traceback (most recent call last):\n",
    "# File \"<stdin>\", line 1, in <module> ZeroDivisionError: division by zero >>>7//0\n",
    "# Traceback (most recent call last):\n",
    "# File \"<stdin>\", line 1, in <module> ZeroDivisionError: integer division or modulo by z\n",
    "\n",
    "\n",
    "#變數可以運算\n",
    "a=95 \n",
    "a\n",
    "# =95 \n",
    "a-3 \n",
    "# =92\n",
    "\n",
    "#將變數自已的內容減3   \n",
    "a=a-3 \n",
    "a\n",
    "# =92\n",
    "\n",
    "a=95 \n",
    "temp=a-3 \n",
    "a=temp\n",
    "a\n",
    "# =92\n",
    "\n",
    "#上面敘述式，可以使用下面這行替代\n",
    "a=a-3\n",
    "print(a)\n",
    "# a=89\n",
    "\n",
    "#餘數\n",
    "9%5 \n",
    "# 4\n",
    "   \n",
    "divmod(9,5)\n",
    "#(1, 4)\n",
    "\n",
    "9//5 \n",
    "#1 \n",
    "\n",
    "9%5 \n",
    "#4\n"
   ]
  },
  {
   "cell_type": "code",
   "execution_count": null,
   "metadata": {},
   "outputs": [],
   "source": [
    "#數學運算子優先順序\n",
    "\n",
    "##優先順序由上而下\n",
    "### ()\n",
    "### **\n",
    "### 正負\n",
    "### * / % //\n",
    "### + -\n",
    "### =\n",
    "\n",
    "2+3*4 \n",
    "#14\n",
    "   \n",
    "(2+3)*4\n",
    "#20\n",
    "\n",
    "2 * (1 + 2) ** 2 - 2 ** 2 * 2 \n",
    "#10\n"
   ]
  },
  {
   "cell_type": "code",
   "execution_count": 2,
   "metadata": {},
   "outputs": [
    {
     "data": {
      "text/plain": [
       "12345"
      ]
     },
     "execution_count": 2,
     "metadata": {},
     "output_type": "execute_result"
    }
   ],
   "source": [
    "#類型轉換\n",
    "\n",
    "int(True)\n",
    "# 1\n",
    "\n",
    "int(False)\n",
    "# 0\n",
    "  \n",
    "int(98.6) \n",
    "# 98\n",
    "\n",
    "int(1.0e4) \n",
    "# 10000\n",
    "    \n",
    "int('99') \n",
    "# 99\n",
    "\n",
    "int('-23') \n",
    "# -23\n",
    "\n",
    "int('+12')\n",
    "# 12\n",
    "\n",
    "int(12345)\n",
    "# 12345"
   ]
  },
  {
   "cell_type": "code",
   "execution_count": 3,
   "metadata": {},
   "outputs": [
    {
     "ename": "ValueError",
     "evalue": "invalid literal for int() with base 10: '99 bottles of beer on the wall'",
     "output_type": "error",
     "traceback": [
      "\u001b[1;31m---------------------------------------------------------------------------\u001b[0m",
      "\u001b[1;31mValueError\u001b[0m                                Traceback (most recent call last)",
      "\u001b[1;32mc:\\Users\\user\\Documents\\GitHub\\11209python_school\\2023_09_11\\數值計算與資料輸入.ipynb 儲存格 5\u001b[0m line \u001b[0;36m1\n\u001b[1;32m----> <a href='vscode-notebook-cell:/c%3A/Users/user/Documents/GitHub/11209python_school/2023_09_11/%E6%95%B8%E5%80%BC%E8%A8%88%E7%AE%97%E8%88%87%E8%B3%87%E6%96%99%E8%BC%B8%E5%85%A5.ipynb#W4sZmlsZQ%3D%3D?line=0'>1</a>\u001b[0m \u001b[39mint\u001b[39;49m(\u001b[39m'\u001b[39;49m\u001b[39m99 bottles of beer on the wall\u001b[39;49m\u001b[39m'\u001b[39;49m)\n",
      "\u001b[1;31mValueError\u001b[0m: invalid literal for int() with base 10: '99 bottles of beer on the wall'"
     ]
    }
   ],
   "source": [
    "int('99 bottles of beer on the wall')"
   ]
  },
  {
   "cell_type": "code",
   "execution_count": 4,
   "metadata": {},
   "outputs": [
    {
     "ename": "ValueError",
     "evalue": "invalid literal for int() with base 10: '98.6'",
     "output_type": "error",
     "traceback": [
      "\u001b[1;31m---------------------------------------------------------------------------\u001b[0m",
      "\u001b[1;31mValueError\u001b[0m                                Traceback (most recent call last)",
      "\u001b[1;32mc:\\Users\\user\\Documents\\GitHub\\11209python_school\\2023_09_11\\數值計算與資料輸入.ipynb 儲存格 6\u001b[0m line \u001b[0;36m1\n\u001b[1;32m----> <a href='vscode-notebook-cell:/c%3A/Users/user/Documents/GitHub/11209python_school/2023_09_11/%E6%95%B8%E5%80%BC%E8%A8%88%E7%AE%97%E8%88%87%E8%B3%87%E6%96%99%E8%BC%B8%E5%85%A5.ipynb#W5sZmlsZQ%3D%3D?line=0'>1</a>\u001b[0m \u001b[39mint\u001b[39;49m(\u001b[39m'\u001b[39;49m\u001b[39m98.6\u001b[39;49m\u001b[39m'\u001b[39;49m)\n",
      "\u001b[1;31mValueError\u001b[0m: invalid literal for int() with base 10: '98.6'"
     ]
    }
   ],
   "source": [
    "int('98.6')"
   ]
  },
  {
   "cell_type": "code",
   "execution_count": 5,
   "metadata": {},
   "outputs": [
    {
     "data": {
      "text/plain": [
       "5.0"
      ]
     },
     "execution_count": 5,
     "metadata": {},
     "output_type": "execute_result"
    }
   ],
   "source": [
    "#類型轉換\n",
    "\n",
    "4+7.0 \n",
    "#11.0\n",
    "\n",
    "True+2\n",
    "# 3\n",
    "\n",
    "False + 5.0 \n",
    "#5.0"
   ]
  },
  {
   "cell_type": "code",
   "execution_count": 6,
   "metadata": {},
   "outputs": [
    {
     "data": {
      "text/plain": [
       "10000000000000000000000000000000000000000000000000000000000000000000000000000000000000000000000000000"
      ]
     },
     "execution_count": 6,
     "metadata": {},
     "output_type": "execute_result"
    }
   ],
   "source": [
    "#int的範圍\n",
    "googol = 10**100\n",
    "googol"
   ]
  },
  {
   "cell_type": "code",
   "execution_count": 1,
   "metadata": {},
   "outputs": [
    {
     "ename": "NameError",
     "evalue": "name 'googol' is not defined",
     "output_type": "error",
     "traceback": [
      "\u001b[1;31m---------------------------------------------------------------------------\u001b[0m",
      "\u001b[1;31mNameError\u001b[0m                                 Traceback (most recent call last)",
      "\u001b[1;32mc:\\Users\\User\\Documents\\GitHub\\2023_09_11\\數值計算與資料輸入.ipynb 儲存格 9\u001b[0m line \u001b[0;36m2\n\u001b[0;32m      <a href='vscode-notebook-cell:/c%3A/Users/User/Documents/GitHub/2023_09_11/%E6%95%B8%E5%80%BC%E8%A8%88%E7%AE%97%E8%88%87%E8%B3%87%E6%96%99%E8%BC%B8%E5%85%A5.ipynb#X11sZmlsZQ%3D%3D?line=0'>1</a>\u001b[0m \u001b[39m#int的範圍\u001b[39;00m\n\u001b[1;32m----> <a href='vscode-notebook-cell:/c%3A/Users/User/Documents/GitHub/2023_09_11/%E6%95%B8%E5%80%BC%E8%A8%88%E7%AE%97%E8%88%87%E8%B3%87%E6%96%99%E8%BC%B8%E5%85%A5.ipynb#X11sZmlsZQ%3D%3D?line=1'>2</a>\u001b[0m googol\u001b[39m*\u001b[39mgoogol \n\u001b[0;32m      <a href='vscode-notebook-cell:/c%3A/Users/User/Documents/GitHub/2023_09_11/%E6%95%B8%E5%80%BC%E8%A8%88%E7%AE%97%E8%88%87%E8%B3%87%E6%96%99%E8%BC%B8%E5%85%A5.ipynb#X11sZmlsZQ%3D%3D?line=2'>3</a>\u001b[0m googol\n",
      "\u001b[1;31mNameError\u001b[0m: name 'googol' is not defined"
     ]
    }
   ],
   "source": [
    "#int的範圍\n",
    "googol*googol \n",
    "googol"
   ]
  },
  {
   "cell_type": "code",
   "execution_count": 8,
   "metadata": {},
   "outputs": [
    {
     "data": {
      "text/plain": [
       "10000.0"
      ]
     },
     "execution_count": 8,
     "metadata": {},
     "output_type": "execute_result"
    }
   ],
   "source": [
    "#float浮點數\n",
    "float(True) \n",
    "# 1.0\n",
    "\n",
    "float(False)\n",
    "# 0.0\n",
    "\n",
    "float(98) \n",
    "# 98.0\n",
    "\n",
    "float('99') \n",
    "# 99.0\n",
    "\n",
    "float('98.6')\n",
    "# 98.6\n",
    "\n",
    "float('-1.5')\n",
    "# -1.5\n",
    "\n",
    "float('1.0e4')\n",
    "# 10000.0\n"
   ]
  },
  {
   "cell_type": "code",
   "execution_count": 10,
   "metadata": {},
   "outputs": [
    {
     "data": {
      "text/plain": [
       "\"'There's the man that shot my paw!' cried the limping hound.'There's the man that shot my paw!' cried the limping hound.\""
      ]
     },
     "execution_count": 10,
     "metadata": {},
     "output_type": "execute_result"
    }
   ],
   "source": [
    "#字串\n",
    "'Snap'\n",
    "# 'Snap'\n",
    "    \n",
    "\"Crackle\"\n",
    "# 'Crackle'\n",
    "\n",
    "\"'Nay,' said the naysayer.\"\n",
    "# \"'Nay,' said the naysayer.\"\n",
    "\n",
    "'The rare double quote in captivity: \".'\n",
    "# 'The rare double quote in captivity: \".'\n",
    "\n",
    "'A \"two by four\" is actually 1 1⁄2\" × 3 1⁄2\".'\n",
    "#'A \"two by four is\" actually 1 1⁄2\" × 3 1⁄2\".'\n",
    "\n",
    "\"'There's the man that shot my paw!' cried the limping hound.\" \"'There's the man that shot my paw!' cried the limping hound.\"\n",
    " "
   ]
  },
  {
   "cell_type": "code",
   "execution_count": 14,
   "metadata": {},
   "outputs": [
    {
     "name": "stdout",
     "output_type": "stream",
     "text": [
      "Apple Arcade 推出的最新遊戲《Next Stop Nowhere》，由位於洛杉磯的開發商 Night School Studio 出品。這款遊戲是太空公路之旅的夥伴冒險，其中不同角色間展開了一些精彩的劇情。在銀河系的外圍，每個人和所有事物之間都有充分的空間，Night School 希望這款遊戲可為近來可能感到孤立的玩家提供一些慰藉。\n",
      "Apple Arcade 推出的最新遊戲《Next Stop Nowhere》，由位於洛杉磯的開發商 Night School Studio 出品。這款遊戲是太空公路之旅的夥伴冒險，其中不同角色間展開了一些精彩的劇情。在銀河系的外圍，每個人和所有事物之間都有充分的空間，Night School 希望這款遊戲可為近來可能感到孤立的玩家提供一些慰藉。Apple Arcade 推出的最新遊戲《Next Stop Nowhere》，由位於洛杉磯的開發商 Night School Studio 出品。\n",
      "\n",
      "這款遊戲是太空公路之旅的夥伴冒險，其中不同角色間展開了一些精彩的劇情。\n",
      "\n",
      "在銀河系的外圍，每個人和所有事物之間都有充分的空間，Night School 希望這款遊戲可為近來可能感到孤立的玩家提供一些慰藉。 \n",
      "99 bottles would be enough.\n"
     ]
    },
    {
     "data": {
      "text/plain": [
       "'True'"
      ]
     },
     "execution_count": 14,
     "metadata": {},
     "output_type": "execute_result"
    }
   ],
   "source": [
    "#多行文字\n",
    "\n",
    "\n",
    "'''Boom!'''\n",
    "# 'Boom'\n",
    "    \n",
    "\"\"\"Eek!\"\"\"\n",
    "# 'Eek!'\n",
    "\n",
    "#單行文字    \n",
    "poem = \"Apple Arcade 推出的最新遊戲《Next Stop Nowhere》，由位於洛杉磯的開發商 Night School Studio 出品。這款遊戲是太空公路之旅的夥伴冒險，其中不同角色間展開了一些精彩的劇情。在銀河系的外圍，每個人和所有事物之間都有充分的空間，Night School 希望這款遊戲可為近來可能感到孤立的玩家提供一些慰藉。\"\n",
    "print(poem)\n",
    "\n",
    "#單行文字\n",
    "poem2 = '''Apple Arcade 推出的最新遊戲《Next Stop Nowhere》，由位於洛杉磯的開發商 Night School Studio 出品。\n",
    "\n",
    "這款遊戲是太空公路之旅的夥伴冒險，其中不同角色間展開了一些精彩的劇情。\n",
    "\n",
    "在銀河系的外圍，每個人和所有事物之間都有充分的空間，Night School 希望這款遊戲可為近來可能感到孤立的玩家提供一些慰藉。 '''\n",
    "\n",
    "print(poem+poem2)\n",
    "\n",
    "print(99, 'bottles', 'would be enough.') \n",
    "# 99 bottles would be enough.\n",
    "    \n",
    "\n",
    "#使用str()轉換為字串型別\n",
    "str(98.6) \n",
    "# '98.6'\n",
    "\n",
    "str(1.0e4) \n",
    "# '10000.0'\n",
    "str(True)\n",
    "#'True'\n",
    "  "
   ]
  },
  {
   "cell_type": "code",
   "execution_count": 24,
   "metadata": {},
   "outputs": [
    {
     "name": "stdout",
     "output_type": "stream",
     "text": [
      "1\n",
      "2\n",
      "3\n",
      "4\n",
      "12\n",
      "7\n",
      "<class 'str'>\n",
      "<class 'str'>\n",
      "<class 'int'>\n"
     ]
    },
    {
     "data": {
      "text/plain": [
       "int"
      ]
     },
     "execution_count": 24,
     "metadata": {},
     "output_type": "execute_result"
    }
   ],
   "source": [
    "#資料輸入\n",
    "##input 代表資料輸入\n",
    "a = input(\"輸入整數1a: \")\n",
    "b = input(\"輸入整數1b: \") \n",
    "c = int(input(\"int輸入c:\")) \n",
    "d = int(input(\"int輸入d:\")) \n",
    "f=a+b\n",
    "g=c+d \n",
    "print(a)\n",
    "print(b)\n",
    "print(c)\n",
    "print(d)\n",
    "print(f)\n",
    "print(g)\n",
    "print(a.__class__)\n",
    "print(b.__class__)\n",
    "print(c.__class__)\n",
    "d.__class__"
   ]
  },
  {
   "cell_type": "code",
   "execution_count": 27,
   "metadata": {},
   "outputs": [
    {
     "name": "stdout",
     "output_type": "stream",
     "text": [
      "2\n",
      "3\n",
      "5\n",
      "4.5\n",
      "6.5\n",
      "11.0\n"
     ]
    }
   ],
   "source": [
    "#資料輸出入:請動手操作，並留意輸出結果\n",
    "# input02.py\n",
    "\n",
    "c = int(input(\"int輸入c:\"))\n",
    "d = int(input(\"int輸入d:\")) \n",
    "g=c+d\n",
    "print(c)\n",
    "print(d)\n",
    "print(g)\n",
    "h = float(input(\"float輸入h:\"))\n",
    "i = float(input(\"float輸入i:\"))\n",
    "print(h)\n",
    "print(i)\n",
    "j=h+i\n",
    "print(j)"
   ]
  },
  {
   "cell_type": "code",
   "execution_count": 28,
   "metadata": {},
   "outputs": [
    {
     "name": "stdout",
     "output_type": "stream",
     "text": [
      "ABC <class 'str'>\n",
      "50 <class 'str'>\n",
      "50.5 <class 'float'>\n",
      "100 <class 'int'>\n",
      "50 <class 'int'>\n"
     ]
    }
   ],
   "source": [
    "#資料輸出入:請動手操作，並留意輸出結果\n",
    "# input03.py\n",
    "\n",
    "a = input(\"輸入字串: \")\n",
    "print(a,a.__class__ )\n",
    "a = input(\"輸入整數: \")\n",
    "print(a,a.__class__ )\n",
    "a = float(input(\"float輸入浮點數: \"))\n",
    "print(a,a.__class__ )\n",
    "a = int(input(\"int輸入整數:\"))\n",
    "print(a,a.__class__ )\n",
    "a = int(input(\"int輸入字串:\"))\n",
    "print(a,a.__class__ )"
   ]
  },
  {
   "cell_type": "code",
   "execution_count": 43,
   "metadata": {},
   "outputs": [
    {
     "name": "stdout",
     "output_type": "stream",
     "text": [
      "2.5\n",
      "5\n",
      "30\n",
      "30.0degree\n"
     ]
    }
   ],
   "source": [
    "#高中數學\n",
    "##請輸入對邊:2.5\n",
    "##請輸入斜邊:5\n",
    "##直角三角形的角度為:30degree\n",
    "import math\n",
    "A = float(input(\"請輸入對邊:\"))\n",
    "B = int(input(\"請輸入斜邊\"))\n",
    "# C= (math.asin(2.5/5)/3.14*180)\n",
    "C=round(math.degrees(math.asin(2.5/5)))\n",
    "D=float(C)\n",
    "print(A)\n",
    "print(B)\n",
    "print(C)\n",
    "print(str(D)+\"degree\")"
   ]
  },
  {
   "cell_type": "code",
   "execution_count": null,
   "metadata": {},
   "outputs": [],
   "source": [
    "\"\"\"\"\"\""
   ]
  }
 ],
 "metadata": {
  "kernelspec": {
   "display_name": ".venv",
   "language": "python",
   "name": "python3"
  },
  "language_info": {
   "codemirror_mode": {
    "name": "ipython",
    "version": 3
   },
   "file_extension": ".py",
   "mimetype": "text/x-python",
   "name": "python",
   "nbconvert_exporter": "python",
   "pygments_lexer": "ipython3",
   "version": "3.10.8"
  },
  "orig_nbformat": 4
 },
 "nbformat": 4,
 "nbformat_minor": 2
}
