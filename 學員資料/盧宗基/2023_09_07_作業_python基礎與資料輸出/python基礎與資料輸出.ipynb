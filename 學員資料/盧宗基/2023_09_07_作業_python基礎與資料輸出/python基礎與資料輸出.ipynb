{
 "cells": [
  {
   "cell_type": "code",
   "execution_count": 1,
   "metadata": {},
   "outputs": [
    {
     "name": "stdout",
     "output_type": "stream",
     "text": [
      "hello Python\n"
     ]
    }
   ],
   "source": [
    "print(\"hello Python\")\n"
   ]
  },
  {
   "cell_type": "code",
   "execution_count": 46,
   "metadata": {},
   "outputs": [
    {
     "data": {
      "text/plain": [
       "True"
      ]
     },
     "execution_count": 46,
     "metadata": {},
     "output_type": "execute_result"
    }
   ],
   "source": [
    "'Hello! Python!' #str\n",
    "30 #int\n",
    "30.0 #float\n",
    "True #bool"
   ]
  },
  {
   "cell_type": "code",
   "execution_count": 5,
   "metadata": {},
   "outputs": [
    {
     "name": "stdout",
     "output_type": "stream",
     "text": [
      "Hello! Python!\n",
      "30\n",
      "30.0\n",
      "True\n"
     ]
    }
   ],
   "source": [
    "#built-in function -> print()\n",
    "\n",
    "print('Hello! Python!')\n",
    "print(30)\n",
    "print(30.0)\n",
    "print(True)"
   ]
  },
  {
   "cell_type": "code",
   "execution_count": 6,
   "metadata": {},
   "outputs": [
    {
     "name": "stdout",
     "output_type": "stream",
     "text": [
      "13\n",
      "80\n",
      "28\n",
      "3.0\n",
      "3\n",
      "1\n",
      "980188864829534682605802224588165892518744500843860189980001\n"
     ]
    }
   ],
   "source": [
    "#整數運算\n",
    "\n",
    "print(5 + 8)\n",
    "print(90 - 10)\n",
    "print(4 * 7)\n",
    "print(6 / 2)\n",
    "print(7 // 2)\n",
    "print(7 % 3)\n",
    "print(999 ** 20)"
   ]
  },
  {
   "cell_type": "code",
   "execution_count": 7,
   "metadata": {},
   "outputs": [
    {
     "name": "stdout",
     "output_type": "stream",
     "text": [
      "13.0\n",
      "23.0\n",
      "21.0\n",
      "10\n"
     ]
    }
   ],
   "source": [
    "#浮點數和整數運算\n",
    "#float+int\n",
    "print(5.0 + 8)\n",
    "print(5.0 + 8 + 10)\n",
    "print(5.0 + 8 * 2)\n",
    "print(2 * (1 + 2) ** 2 - 2 ** 2 * 2)"
   ]
  },
  {
   "cell_type": "code",
   "execution_count": 8,
   "metadata": {},
   "outputs": [
    {
     "data": {
      "text/plain": [
       "'abcefg'"
      ]
     },
     "execution_count": 8,
     "metadata": {},
     "output_type": "execute_result"
    }
   ],
   "source": [
    "#字串的加法運算\n",
    "\n",
    "\"abc\" + \"efg\""
   ]
  },
  {
   "cell_type": "code",
   "execution_count": 15,
   "metadata": {},
   "outputs": [
    {
     "ename": "TypeError",
     "evalue": "can only concatenate str (not \"int\") to str",
     "output_type": "error",
     "traceback": [
      "\u001b[1;31m---------------------------------------------------------------------------\u001b[0m",
      "\u001b[1;31mTypeError\u001b[0m                                 Traceback (most recent call last)",
      "Cell \u001b[1;32mIn[15], line 3\u001b[0m\n\u001b[0;32m      1\u001b[0m \u001b[39m#字串+數值 -> 出錯\u001b[39;00m\n\u001b[1;32m----> 3\u001b[0m \u001b[39m\"\u001b[39;49m\u001b[39mabc\u001b[39;49m\u001b[39m\"\u001b[39;49m \u001b[39m+\u001b[39;49m \u001b[39m13\u001b[39;49m\n\u001b[0;32m      5\u001b[0m \u001b[39m#字串+數值 -> 出錯\u001b[39;00m\n\u001b[0;32m      6\u001b[0m \u001b[39m\"\u001b[39m\u001b[39mabc\u001b[39m\u001b[39m\"\u001b[39m \u001b[39m+\u001b[39m \u001b[39m\"\u001b[39m\u001b[39m13\u001b[39m\u001b[39m\"\u001b[39m\n",
      "\u001b[1;31mTypeError\u001b[0m: can only concatenate str (not \"int\") to str"
     ]
    }
   ],
   "source": [
    "#字串+數值 -> 出錯\n",
    "\n",
    "\"abc\" + 13\n",
    "\n",
    "#字串+\"數值\" -> 手動改變資料類型\n",
    "\"abc\" + \"13\""
   ]
  },
  {
   "cell_type": "code",
   "execution_count": 12,
   "metadata": {},
   "outputs": [
    {
     "data": {
      "text/plain": [
       "'abc13'"
      ]
     },
     "execution_count": 12,
     "metadata": {},
     "output_type": "execute_result"
    }
   ],
   "source": [
    "#str() -> 轉為字串\n",
    "#手動改變資料類型\n",
    "\"abc\" + str(13)"
   ]
  },
  {
   "cell_type": "code",
   "execution_count": 13,
   "metadata": {},
   "outputs": [
    {
     "data": {
      "text/plain": [
       "38"
      ]
     },
     "execution_count": 13,
     "metadata": {},
     "output_type": "execute_result"
    }
   ],
   "source": [
    "#int() -> 轉為整數\n",
    "\n",
    "int(\"13\") + int(\"25\")"
   ]
  },
  {
   "cell_type": "code",
   "execution_count": 14,
   "metadata": {},
   "outputs": [
    {
     "data": {
      "text/plain": [
       "35.2"
      ]
     },
     "execution_count": 14,
     "metadata": {},
     "output_type": "execute_result"
    }
   ],
   "source": [
    "#float() -> 轉為浮點數\n",
    "\n",
    "float(\"13.5\") + float(\"21.7\")\n"
   ]
  },
  {
   "cell_type": "code",
   "execution_count": 17,
   "metadata": {},
   "outputs": [
    {
     "name": "stdout",
     "output_type": "stream",
     "text": [
      "14\n"
     ]
    }
   ],
   "source": [
    "#建立變數\n",
    "\n",
    "n1=2+3*4 #=不會傳出值\n",
    "n1 # or 寫成print(n1)"
   ]
  },
  {
   "cell_type": "code",
   "execution_count": 3,
   "metadata": {},
   "outputs": [],
   "source": [
    "taiwan, years = '台灣', 2018\n",
    "del years"
   ]
  },
  {
   "cell_type": "code",
   "execution_count": 8,
   "metadata": {},
   "outputs": [
    {
     "ename": "SyntaxError",
     "evalue": "invalid decimal literal (3126865880.py, line 1)",
     "output_type": "error",
     "traceback": [
      "\u001b[1;36m  Cell \u001b[1;32mIn[8], line 1\u001b[1;36m\u001b[0m\n\u001b[1;33m    5well.=2+3\u001b[0m\n\u001b[1;37m    ^\u001b[0m\n\u001b[1;31mSyntaxError\u001b[0m\u001b[1;31m:\u001b[0m invalid decimal literal\n"
     ]
    }
   ],
   "source": [
    "#請問以下哪一個變數命名是錯的?(選擇題)\n",
    "\n",
    "5well.=2+3 #開頭第一個字不能是數字\n",
    "pcschool=2+3\n",
    "巨匠=\"巨匠\""
   ]
  },
  {
   "cell_type": "code",
   "execution_count": 18,
   "metadata": {},
   "outputs": [
    {
     "ename": "SyntaxError",
     "evalue": "cannot assign to expression here. Maybe you meant '==' instead of '='? (509556739.py, line 4)",
     "output_type": "error",
     "traceback": [
      "\u001b[1;36m  Cell \u001b[1;32mIn[18], line 4\u001b[1;36m\u001b[0m\n\u001b[1;33m    pcschool&python=2+3\u001b[0m\n\u001b[1;37m    ^\u001b[0m\n\u001b[1;31mSyntaxError\u001b[0m\u001b[1;31m:\u001b[0m cannot assign to expression here. Maybe you meant '==' instead of '='?\n"
     ]
    }
   ],
   "source": [
    "#請問以下哪一個變數命名是錯的?(複選題)\n",
    "\n",
    "7eleven=2+3 #開頭第一個字不能是數字\n",
    "pcschool&python=2+3 #不可與內建保留字同名\n",
    "Pcschool python=2+3 #不可以出現特殊字元或空白。\n",
    "if=2+3 #不可與內建保留字同名"
   ]
  },
  {
   "cell_type": "code",
   "execution_count": 15,
   "metadata": {},
   "outputs": [
    {
     "ename": "SyntaxError",
     "evalue": "invalid syntax (1759179460.py, line 3)",
     "output_type": "error",
     "traceback": [
      "\u001b[1;36m  Cell \u001b[1;32mIn[15], line 3\u001b[1;36m\u001b[0m\n\u001b[1;33m    x equals 15\u001b[0m\n\u001b[1;37m      ^\u001b[0m\n\u001b[1;31mSyntaxError\u001b[0m\u001b[1;31m:\u001b[0m invalid syntax\n"
     ]
    }
   ],
   "source": [
    "#若要建立 x 變數內容為 15，請問哪一行是對的? (選擇題)\n",
    "\n",
    "x equals 15\n",
    "x is 15\n",
    "15 = x\n",
    "x = 15 #變數名稱 = 變數內容"
   ]
  },
  {
   "cell_type": "code",
   "execution_count": 27,
   "metadata": {},
   "outputs": [
    {
     "name": "stdout",
     "output_type": "stream",
     "text": [
      "3\n",
      "3.12\n",
      "Hello! World!\n",
      "5\n",
      "a= 100\n",
      "b= 50\n",
      "a+b= 150\n"
     ]
    }
   ],
   "source": [
    "#變數給值與輸出\n",
    "##一個參數\n",
    "\n",
    "print(3)\n",
    "print(3.12)\n",
    "print(\"Hello! World!\")\n",
    "print(3+2)\n",
    "\n",
    "##多個參數\n",
    "\n",
    "a = 100\n",
    "print('a=',a)\n",
    "b = 50\n",
    "print('b=',b)\n",
    "print('a+b=',a+b)"
   ]
  },
  {
   "cell_type": "code",
   "execution_count": 29,
   "metadata": {},
   "outputs": [
    {
     "name": "stdout",
     "output_type": "stream",
     "text": [
      "7\n"
     ]
    }
   ],
   "source": [
    "#關於輸出語法哪一個是對的?(選擇題)\n",
    "\n",
    "print(3 + 4)"
   ]
  },
  {
   "cell_type": "code",
   "execution_count": 30,
   "metadata": {},
   "outputs": [
    {
     "ename": "NameError",
     "evalue": "name 'x1' is not defined",
     "output_type": "error",
     "traceback": [
      "\u001b[1;31m---------------------------------------------------------------------------\u001b[0m",
      "\u001b[1;31mNameError\u001b[0m                                 Traceback (most recent call last)",
      "Cell \u001b[1;32mIn[30], line 3\u001b[0m\n\u001b[0;32m      1\u001b[0m \u001b[39m#請問執行這一行後的說明哪一個是對的?(選擇題)\u001b[39;00m\n\u001b[1;32m----> 3\u001b[0m \u001b[39mprint\u001b[39m(x1)\n",
      "\u001b[1;31mNameError\u001b[0m: name 'x1' is not defined"
     ]
    }
   ],
   "source": [
    "#請問執行這一行後的說明哪一個是對的?(選擇題)\n",
    "\n",
    "print(x1) #存取未定義變數會發生變數的錯誤"
   ]
  },
  {
   "cell_type": "code",
   "execution_count": 31,
   "metadata": {},
   "outputs": [
    {
     "name": "stdout",
     "output_type": "stream",
     "text": [
      "test\n"
     ]
    }
   ],
   "source": [
    "#請問執行後的說明哪一個是對的?(選擇題)\n",
    "x=50\n",
    "x='test'\n",
    "print(x)"
   ]
  },
  {
   "cell_type": "code",
   "execution_count": 32,
   "metadata": {},
   "outputs": [
    {
     "name": "stdout",
     "output_type": "stream",
     "text": [
      "<class 'int'>\n",
      "<class 'float'>\n",
      "<class 'str'>\n",
      "<class 'bool'>\n"
     ]
    }
   ],
   "source": [
    "#資料型態 - 可使用 type( ) 指令顯示\n",
    "\n",
    "a1=100\n",
    "print(type(a1))\n",
    "\n",
    "a2=100.0\n",
    "print(type(a2))\n",
    "\n",
    "a3='100.0'\n",
    "print(type(a3))\n",
    "\n",
    "a4=True\n",
    "print(type(a4))"
   ]
  },
  {
   "cell_type": "code",
   "execution_count": 33,
   "metadata": {},
   "outputs": [
    {
     "name": "stdout",
     "output_type": "stream",
     "text": [
      "7\n",
      "7\n"
     ]
    }
   ],
   "source": [
    "#下面2行，將7給變數a, 並且輸出變數a的內容\n",
    "\n",
    "a=7\n",
    "print(a)\n",
    "b=a\n",
    "print(b)"
   ]
  },
  {
   "cell_type": "code",
   "execution_count": 37,
   "metadata": {},
   "outputs": [
    {
     "name": "stdout",
     "output_type": "stream",
     "text": [
      "<class 'int'>\n",
      "<class 'int'>\n",
      "<class 'int'>\n",
      "<class 'float'>\n",
      "<class 'str'>\n"
     ]
    }
   ],
   "source": [
    "#使用type function輸出目前的資料型別\n",
    "\n",
    "a=7\n",
    "b=a\n",
    "print(type(a))\n",
    "print(type(b) )\n",
    "print(type(58))\n",
    "print(type(99.9) )\n",
    "print(type('abc') )"
   ]
  },
  {
   "cell_type": "code",
   "execution_count": 38,
   "metadata": {},
   "outputs": [
    {
     "name": "stdout",
     "output_type": "stream",
     "text": [
      "<class 'int'>\n",
      "<class 'float'>\n",
      "<class 'bool'>\n",
      "<class 'str'>\n"
     ]
    }
   ],
   "source": [
    "#資料型態:請動手操作，並留意輸出結果(type1.py)\n",
    "\n",
    "var1=20\n",
    "print(type(var1))\n",
    "var2=123.45\n",
    "print(type(var2))\n",
    "var3=True\n",
    "print(type(var3))\n",
    "var4='string1'\n",
    "print(type(var4))"
   ]
  },
  {
   "cell_type": "code",
   "execution_count": 44,
   "metadata": {},
   "outputs": [
    {
     "name": "stdout",
     "output_type": "stream",
     "text": [
      "1891072082768\n",
      "20\n",
      "1891077420272\n"
     ]
    }
   ],
   "source": [
    "#資料型態:請動手操作，並留意輸出結果(type2.py)\n",
    "\n",
    "a=5\n",
    "a=20\n",
    "print(id(a))\n",
    "print(a)\n",
    "a='test'\n",
    "print(id(a))"
   ]
  },
  {
   "cell_type": "code",
   "execution_count": 45,
   "metadata": {},
   "outputs": [
    {
     "name": "stdout",
     "output_type": "stream",
     "text": [
      "Hello, world\n",
      "x + y = 37\n"
     ]
    }
   ],
   "source": [
    "#字串插補(快速寫法)\n",
    "\n",
    "text = 'world'\n",
    "print(f'Hello, {text}')\n",
    "\n",
    "x = 10\n",
    "y = 27\n",
    "print(f'x + y = {x + y}')\n",
    "\n",
    "def hello(text, name):\n",
    "    return f'hello {text}, hello {name}'\n"
   ]
  }
 ],
 "metadata": {
  "kernelspec": {
   "display_name": ".venv",
   "language": "python",
   "name": "python3"
  },
  "language_info": {
   "codemirror_mode": {
    "name": "ipython",
    "version": 3
   },
   "file_extension": ".py",
   "mimetype": "text/x-python",
   "name": "python",
   "nbconvert_exporter": "python",
   "pygments_lexer": "ipython3",
   "version": "3.10.8"
  },
  "orig_nbformat": 4
 },
 "nbformat": 4,
 "nbformat_minor": 2
}
