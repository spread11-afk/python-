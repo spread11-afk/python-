{
 "cells": [
  {
   "cell_type": "markdown",
   "metadata": {},
   "source": [
    "- 猜中要告知猜了幾次\n",
    "- 沒猜中要有提醒\n",
    "import random\n",
    "min = 1\n",
    "max = 100\n",
    "count = 0\n",
    "target = random.randint(min, max)\n",
    "print(\"===============猜數字遊戲=================:\\n\")\n",
    "while(True):\n",
    "   keyin = input(f\"猜數字範圍{min}~{max}\")\n",
    "例如:\n",
    "\n",
    "要猜的數值是:34\n",
    "\n",
    "猜數字範圍1~100:50\n",
    "提示:\n",
    "再小一點\n",
    "您已經猜了1次\n",
    "\n",
    "猜數字範圍1~49:10\n",
    "提示:\n",
    "再大一點\n",
    "您已經猜了2次\n",
    "猜數字範圍11~49:34\n",
    "\n",
    "您猜中了,答案是34\n",
    "您總共猜了3次"
   ]
  },
  {
   "cell_type": "code",
   "execution_count": 2,
   "metadata": {},
   "outputs": [
    {
     "name": "stdout",
     "output_type": "stream",
     "text": [
      "===============猜數字遊戲=================:\n",
      "\n",
      "再大一點\n",
      "您已經猜了{count}次\n",
      "再大一點\n",
      "您已經猜了{count}次\n",
      "再小一點\n",
      "您已經猜了{count}次\n",
      "再小一點\n",
      "您已經猜了{count}次\n",
      "再大一點\n",
      "您已經猜了{count}次\n",
      "再大一點\n",
      "您已經猜了{count}次\n",
      "再小一點\n",
      "您已經猜了{count}次\n",
      "再小一點\n",
      "您已經猜了{count}次\n",
      "再小一點\n",
      "您已經猜了{count}次\n",
      "再大一點\n",
      "您已經猜了{count}次\n",
      "再大一點\n",
      "您已經猜了{count}次\n",
      "再大一點\n",
      "您已經猜了{count}次\n",
      "您猜中了,答案是{target}\n",
      "您總共猜了{count}次\n"
     ]
    }
   ],
   "source": [
    "import random\n",
    "min = 1\n",
    "max = 100\n",
    "count = 0\n",
    "target = random.randint(min, max)\n",
    "keyin = 0\n",
    "print(\"===============猜數字遊戲=================:\\n\")\n",
    "while(True):\n",
    "   keyin = input(f\"猜數字範圍{min}~{max}\")\n",
    "   a = int(keyin)-int(target)\n",
    "   if a > 0:\n",
    "      print(\"再小一點\")\n",
    "      count += 1\n",
    "      print(f\"您已經猜了{count}次\")\n",
    "   elif a < 0 :\n",
    "      print(\"再大一點\")\n",
    "      count += 1\n",
    "      print(f\"您已經猜了{count}次\")\n",
    "   else:\n",
    "      print(f\"您猜中了,答案是{target}\")\n",
    "      count += 1\n",
    "      print(f\"您總共猜了{count}次\")\n",
    "      break\n"
   ]
  },
  {
   "cell_type": "code",
   "execution_count": 2,
   "metadata": {},
   "outputs": [
    {
     "name": "stdout",
     "output_type": "stream",
     "text": [
      "===============猜數字遊戲=================:\n",
      "\n",
      "再大一點\n",
      "您已經猜了1次\n",
      "再小一點\n",
      "您已經猜了2次\n",
      "再大一點\n",
      "您已經猜了3次\n",
      "您猜中了,答案是70\n",
      "您總共猜了4次\n",
      "遊戲結束!\n"
     ]
    }
   ],
   "source": [
    "#修訂濟\n",
    "import random\n",
    "min = 1\n",
    "max = 100\n",
    "count = 0\n",
    "target = random.randint(min, max)\n",
    "keyin = 0\n",
    "print(\"===============猜數字遊戲=================:\\n\")\n",
    "while(True):\n",
    "   keyin = int(input(f\"猜數字範圍{min}~{max}\"))\n",
    "   a = int(keyin)-int(target)\n",
    "   count += 1\n",
    "   if a > 0:\n",
    "      print(\"再小一點\")\n",
    "      max = keyin -1\n",
    "      print(f\"您已經猜了{count}次\")\n",
    "   elif a < 0 :\n",
    "      print(\"再大一點\")\n",
    "      min = keyin + 1\n",
    "      print(f\"您已經猜了{count}次\")\n",
    "   else:\n",
    "      print(f\"您猜中了,答案是{target}\")\n",
    "      print(f\"您總共猜了{count}次\")\n",
    "      break\n",
    "print(\"遊戲結束!\")"
   ]
  },
  {
   "cell_type": "code",
   "execution_count": null,
   "metadata": {},
   "outputs": [],
   "source": [
    "#修訂中\n",
    "import random\n",
    "min = 1\n",
    "max = 100\n",
    "count = 0\n",
    "target = random.randint(min, max)\n",
    "keyin = 0\n",
    "print(\"===============猜數字遊戲=================:\\n\")\n",
    "while(True):\n",
    "   keyin = int(input(f\"猜數字範圍{min}~{max}\"))\n",
    "   a = int(keyin)-int(target)\n",
    "   count += 1\n",
    "   if a > 0:\n",
    "      print(\"再小一點\")\n",
    "      max = keyin -1\n",
    "      print(f\"您已經猜了{count}次\")\n",
    "   elif a < 0 :\n",
    "      print(\"再大一點\")\n",
    "      min = keyin + 1\n",
    "      print(f\"您已經猜了{count}次\")\n",
    "   else:\n",
    "      print(f\"您猜中了,答案是{target}\")\n",
    "      print(f\"您總共猜了{count}次\")\n",
    "      break\n",
    "print(\"遊戲結束!\")"
   ]
  }
 ],
 "metadata": {
  "kernelspec": {
   "display_name": ".venv",
   "language": "python",
   "name": "python3"
  },
  "language_info": {
   "codemirror_mode": {
    "name": "ipython",
    "version": 3
   },
   "file_extension": ".py",
   "mimetype": "text/x-python",
   "name": "python",
   "nbconvert_exporter": "python",
   "pygments_lexer": "ipython3",
   "version": "3.10.8"
  },
  "orig_nbformat": 4
 },
 "nbformat": 4,
 "nbformat_minor": 2
}
