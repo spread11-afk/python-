{
 "cells": [
  {
   "cell_type": "code",
   "execution_count": 5,
   "metadata": {},
   "outputs": [
    {
     "name": "stdout",
     "output_type": "stream",
     "text": [
      "請輸入身高cm:190\n",
      "請輸入體重kg:90\n",
      "24.930747922437675 正常\n"
     ]
    }
   ],
   "source": [
    "#BML 計算後分析\n",
    "import pyinputplus as pyip\n",
    " \n",
    "height_cm = pyip.inputInt(\"請輸入身高cm:\")\n",
    "print(height_cm)\n",
    "weight_kg= pyip.inputInt(\"請輸入體重kg:\")\n",
    "print(weight_kg)\n",
    "\n",
    "\n",
    "height_m = height_cm / 100 \n",
    "bmi = weight_kg / (height_m ** 2)\n",
    "\n",
    "if bmi < 18.5:\n",
    "  message = \"太輕\"\n",
    "elif 18.5 <= bmi < 25:\n",
    "    message = \"正常\"\n",
    "elif 25 <= bmi < 30:\n",
    "    message = \"過重\" \n",
    "else:\n",
    "    message = \"肥胖\"\n",
    "    \n",
    "\n",
    "print(bmi,message)  \n",
    "\n",
    "        \n",
    "    "
   ]
  },
  {
   "cell_type": "code",
   "execution_count": 6,
   "metadata": {},
   "outputs": [
    {
     "name": "stdout",
     "output_type": "stream",
     "text": [
      "130\n",
      "90\n",
      "請輸入收縮壓: 130 請輸入舒張壓: 90\n",
      "高血壓一期\n"
     ]
    }
   ],
   "source": [
    "#高血壓（做完會先低血壓）\n",
    "\n",
    "\n",
    "sbp = int (input(\"請輸入收縮壓:\"))\n",
    "print(sbp)\n",
    "dbp = int (input(\"請輸入舒張壓:\"))\n",
    "print(dbp)\n",
    "\n",
    "\n",
    "if sbp < 120 and dbp < 80:\n",
    "  message = \"正常\"\n",
    "  \n",
    "elif sbp <= 129 and dbp < 80:\n",
    "    message = \"血壓升高\"\n",
    "    \n",
    "elif sbp <= 139 or dbp <= 89:\n",
    "    \n",
    "    message = \"高血壓一期\" \n",
    "else:\n",
    "    message = \"高血壓二期\"\n",
    "    \n",
    "if sbp > 130 and dbp < 80 :\n",
    "    message =\"單純收縮期高血壓\"   \n",
    "     \n",
    "\n",
    "        \n",
    "print('請輸入收縮壓:',sbp,'請輸入舒張壓:',dbp)\n",
    "print(message) \n",
    "        \n"
   ]
  },
  {
   "cell_type": "code",
   "execution_count": 11,
   "metadata": {},
   "outputs": [
    {
     "name": "stdout",
     "output_type": "stream",
     "text": [
      "請輸入收縮壓140\n",
      "請輸入舒張壓90\n",
      "高血壓二期\n",
      "請輸入收縮壓: 140 請輸入舒張壓: 90\n"
     ]
    }
   ],
   "source": [
    "#老師的答案\n",
    "\n",
    "import pyinputplus as pyip\n",
    "\n",
    "sbp = pyip.inputInt(prompt=\"請輸入收縮壓\")\n",
    "print(sbp)\n",
    "dbp = pyip.inputInt(prompt=\"請輸入舒張壓\") \n",
    "print(dbp)\n",
    "\n",
    "status = \"\"\n",
    "if sbp < 120 and dbp < 80:\n",
    "    status= '正常'\n",
    "elif sbp < 130 and dbp < 80:\n",
    "    status = '血壓升高'\n",
    "elif sbp >= 130 and dbp< 80:    \n",
    "    status ='單純收縮高血壓'   \n",
    "elif sbp < 140 or (dbp>=80 and dbp <90):\n",
    "    status = '高血壓一期'\n",
    "else:\n",
    "    sbp >= 140 or dbp >= 90 \n",
    "    status = '高血壓二期'\n",
    "    \n",
    " \n",
    "    \n",
    "    print(status)\n",
    "    print('請輸入收縮壓:',sbp,'請輸入舒張壓:',dbp)\n"
   ]
  }
 ],
 "metadata": {
  "kernelspec": {
   "display_name": ".venv",
   "language": "python",
   "name": "python3"
  },
  "language_info": {
   "codemirror_mode": {
    "name": "ipython",
    "version": 3
   },
   "file_extension": ".py",
   "mimetype": "text/x-python",
   "name": "python",
   "nbconvert_exporter": "python",
   "pygments_lexer": "ipython3",
   "version": "3.10.8"
  },
  "orig_nbformat": 4
 },
 "nbformat": 4,
 "nbformat_minor": 2
}
