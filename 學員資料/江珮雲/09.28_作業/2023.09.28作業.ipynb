{
 "cells": [
  {
   "cell_type": "markdown",
   "metadata": {},
   "source": [
    "＃徐國堂_骰子GAME"
   ]
  },
  {
   "cell_type": "code",
   "execution_count": null,
   "metadata": {},
   "outputs": [],
   "source": [
    "import random\n",
    "while(True):\n",
    "    dice1 = random.randint(1, 6)\n",
    "    dice2 = random.randint(1, 6)\n",
    "    dice3 = random.randint(1, 6)\n",
    "    dice4 = random.randint(1, 6)\n",
    "    class Player:\n",
    "        def __init__(self,name:str):\n",
    "            self.name=name\n",
    "            self.dice_rolls = [dice1, 3, 5, 5]\n",
    "            self.score = 15\n",
    "\n",
    "        def __play() -> int:\n",
    "            pass\n",
    "\n",
    "        @property\n",
    "        def value(self) -> int:\n",
    "            #呼叫self.__play()\n",
    "            pass\n",
    "\n",
    "        def __repr__(self) -> str:\n",
    "            descript = \"\"\n",
    "            descript += \"徐國堂\\n\"\n",
    "            descript += \"骰子1=5\\n\"\n",
    "            descript += \"骰子2=3\\n\"\n",
    "            descript += \"骰子3=5\\n\"\n",
    "            descript += \"骰子4=5\\n\"\n",
    "            descript += \"得分=15分\"\n",
    "            return descript\n",
    "        \n",
    "    if __name__ == \"__main__\":\n",
    "        p1 = Player(\"robert\")  #p1當作實體player名稱控制 \n",
    "        print(p1.value)       #執行自己 self的意思就是自己p1\n",
    "        print(p1)\n",
    "\n",
    "        p2 = Player(\"robert\")\n",
    "        print(p2.value)\n",
    "        print(p2)"
   ]
  },
  {
   "cell_type": "markdown",
   "metadata": {},
   "source": [
    "＃妹妹的"
   ]
  },
  {
   "cell_type": "code",
   "execution_count": 2,
   "metadata": {},
   "outputs": [
    {
     "name": "stdout",
     "output_type": "stream",
     "text": [
      "徐國堂\n",
      "骰子1=5\n",
      "骰子2=3\n",
      "骰子3=5\n",
      "骰子4=5\n",
      "得分=15分\n"
     ]
    }
   ],
   "source": [
    "class MyClass:\n",
    "    def __init__(self):\n",
    "        self.name = \"徐國堂\"\n",
    "        self.dice_rolls = [5, 3, 5, 5]\n",
    "        self.score = 15\n",
    "\n",
    "    def __repr__(self) -> str:\n",
    "        descript = \"\"\n",
    "        descript += f\"{self.name}\\n\"\n",
    "        for i, roll in enumerate(self.dice_rolls, 1):\n",
    "            descript += f\"骰子{i}={roll}\\n\"\n",
    "        descript += f\"得分={self.score}分\"\n",
    "        return descript\n",
    "\n",
    "# Create an object of MyClass\n",
    "obj = MyClass()\n",
    "\n",
    "# Call __repr__ to get the string representation\n",
    "description = repr(obj)\n",
    "\n",
    "# Print the description\n",
    "print(description)"
   ]
  },
  {
   "cell_type": "markdown",
   "metadata": {},
   "source": [
    "＃哥哥的"
   ]
  },
  {
   "cell_type": "code",
   "execution_count": 5,
   "metadata": {},
   "outputs": [
    {
     "name": "stdout",
     "output_type": "stream",
     "text": [
      "\n",
      "姓名:AA\n",
      "骰子一:6\n",
      "骰子二:6\n",
      "骰子三:6\n",
      "骰子四:6\n",
      "得分:18\n",
      "\n",
      "姓名:BB\n",
      "骰子一:5\n",
      "骰子二:5\n",
      "骰子三:3\n",
      "骰子四:3\n",
      "得分:10\n"
     ]
    }
   ],
   "source": [
    "import random\n",
    "\n",
    "class Player:\n",
    "#attribute\n",
    "    def __init__(self, name:str):\n",
    "        self.name = name\n",
    "#method\n",
    "    def __play(self):\n",
    "        double=triple=quad=None\n",
    "        numbers = ''\n",
    "        while numbers == '':   \n",
    "            numbers =[random.randint(1, 6) for _ in range(4)]\n",
    "            numbers=sorted(numbers,reverse=True)\n",
    "            for num in numbers:\n",
    "                if numbers.count(num) == 4:\n",
    "                    quad = num\n",
    "                elif numbers.count(num) == 3:\n",
    "                    triple = num\n",
    "                elif numbers.count(num) == 2:\n",
    "                    double = num\n",
    "            if quad is not None :\n",
    "                score = numbers[0]+12\n",
    "            elif triple is not None:\n",
    "                numbers = ''\n",
    "            elif double is not None:\n",
    "                other=[num for num in numbers if num!=double]\n",
    "                score = sum(other)\n",
    "            else:\n",
    "                numbers = ''\n",
    "        \n",
    "        return f'姓名:{self.name}\\n骰子一:{numbers[0]}\\n骰子二:{numbers[1]}\\n骰子三:{numbers[2]}\\n骰子四:{numbers[3]}\\n得分:{score}'\n",
    "\n",
    "#property\n",
    "    @property\n",
    "    def value(self):\n",
    "        return self.__play()\n",
    "\n",
    "#被呼叫時傳出字串\n",
    "    def __repr__(self) -> str:\n",
    "        descript = \"\"\n",
    "        #descript += f\"姓名:{self.name}\\n\"\n",
    "        #descript += f'骰子一:{numbers[0]}\\n'\n",
    "        #descript += f'骰子二:{numbers[1]}\\n'\n",
    "        #descript += f'骰子三:{numbers[2]}\\n'\n",
    "        #descript += f'骰子四:{numbers[3]}\\n'\n",
    "\n",
    "        return descript\n",
    "if __name__ == \"__main__\": \n",
    "    p1 = Player('AA')   \n",
    "    print(p1)         \n",
    "    print(p1.value)    \n",
    "\n",
    "\n",
    "    p2 = Player('BB')\n",
    "    print(p2)\n",
    "    print(p2.value)"
   ]
  }
 ],
 "metadata": {
  "kernelspec": {
   "display_name": ".venv",
   "language": "python",
   "name": "python3"
  },
  "language_info": {
   "codemirror_mode": {
    "name": "ipython",
    "version": 3
   },
   "file_extension": ".py",
   "mimetype": "text/x-python",
   "name": "python",
   "nbconvert_exporter": "python",
   "pygments_lexer": "ipython3",
   "version": "3.10.8"
  },
  "orig_nbformat": 4
 },
 "nbformat": 4,
 "nbformat_minor": 2
}
