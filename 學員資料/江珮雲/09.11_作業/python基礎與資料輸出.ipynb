{
 "cells": [
  {
   "cell_type": "code",
   "execution_count": 1,
   "metadata": {},
   "outputs": [
    {
     "data": {
      "text/plain": [
       "True"
      ]
     },
     "execution_count": 1,
     "metadata": {},
     "output_type": "execute_result"
    }
   ],
   "source": [
    "#python 純值\n",
    "'Hello! Python!'\n",
    "30\n",
    "30.0\n",
    "True"
   ]
  },
  {
   "cell_type": "code",
   "execution_count": 2,
   "metadata": {},
   "outputs": [
    {
     "name": "stdout",
     "output_type": "stream",
     "text": [
      "Hello! Python!\n",
      "30\n",
      "30.0\n",
      "True\n"
     ]
    }
   ],
   "source": [
    "#print()\n",
    "print('Hello! Python!')\n",
    "print(30)\n",
    "print(30.0)\n",
    "print(True)"
   ]
  },
  {
   "cell_type": "code",
   "execution_count": 3,
   "metadata": {},
   "outputs": [
    {
     "name": "stdout",
     "output_type": "stream",
     "text": [
      "13\n",
      "80\n",
      "28\n",
      "3.0\n",
      "3\n",
      "1\n",
      "980188864829534682605802224588165892518744500843860189980001\n"
     ]
    }
   ],
   "source": [
    "#整數運算\n",
    "print(5 + 8)\n",
    "print(90 - 10)\n",
    "print(4 * 7)\n",
    "print(6 / 2)\n",
    "print(7 // 2)\n",
    "print (7 % 3)\n",
    "print (999 ** 20)"
   ]
  },
  {
   "cell_type": "code",
   "execution_count": 4,
   "metadata": {},
   "outputs": [
    {
     "name": "stdout",
     "output_type": "stream",
     "text": [
      "13.0\n",
      "23.0\n",
      "21.0\n",
      "10\n"
     ]
    }
   ],
   "source": [
    "#浮點數和整數運算\n",
    "print(5.0 + 8)\n",
    "print(5.0 + 8 + 10)\n",
    "print(5.0 + 8 * 2)\n",
    "print(2 *(1 + 2) **2 - 2 ** 2 * 2)"
   ]
  },
  {
   "cell_type": "code",
   "execution_count": 5,
   "metadata": {},
   "outputs": [
    {
     "data": {
      "text/plain": [
       "'abcefg'"
      ]
     },
     "execution_count": 5,
     "metadata": {},
     "output_type": "execute_result"
    }
   ],
   "source": [
    "#字串的加法運算\n",
    "\"abc\" + \"efg\""
   ]
  },
  {
   "cell_type": "code",
   "execution_count": 6,
   "metadata": {},
   "outputs": [],
   "source": [
    "#字串+數值-> 出錯\n",
    "# \"abc\" + 13\n"
   ]
  },
  {
   "cell_type": "code",
   "execution_count": 7,
   "metadata": {},
   "outputs": [
    {
     "data": {
      "text/plain": [
       "'abc13'"
      ]
     },
     "execution_count": 7,
     "metadata": {},
     "output_type": "execute_result"
    }
   ],
   "source": [
    "#str() -> 轉為字串\n",
    "\"abc\" + str(13)\n"
   ]
  },
  {
   "cell_type": "code",
   "execution_count": 8,
   "metadata": {},
   "outputs": [
    {
     "data": {
      "text/plain": [
       "38"
      ]
     },
     "execution_count": 8,
     "metadata": {},
     "output_type": "execute_result"
    }
   ],
   "source": [
    "#int()-> 轉為整數\n",
    "int(\"13\") + int (\"25\")\n"
   ]
  },
  {
   "cell_type": "code",
   "execution_count": 9,
   "metadata": {},
   "outputs": [
    {
     "data": {
      "text/plain": [
       "35.2"
      ]
     },
     "execution_count": 9,
     "metadata": {},
     "output_type": "execute_result"
    }
   ],
   "source": [
    "#float()-> 轉為浮點數\n",
    "float(\"13.5\") + float(\"21.7\")"
   ]
  },
  {
   "cell_type": "code",
   "execution_count": 10,
   "metadata": {},
   "outputs": [],
   "source": [
    "openex=100\n"
   ]
  },
  {
   "cell_type": "code",
   "execution_count": 1,
   "metadata": {},
   "outputs": [],
   "source": [
    "taiwan, years = '台灣', 2018\n",
    "#例如建立變數 pcschool 內容為台灣，years 內容為 2018"
   ]
  },
  {
   "cell_type": "code",
   "execution_count": 17,
   "metadata": {},
   "outputs": [
    {
     "ename": "NameError",
     "evalue": "name 'years' is not defined",
     "output_type": "error",
     "traceback": [
      "\u001b[0;31m---------------------------------------------------------------------------\u001b[0m",
      "\u001b[0;31mNameError\u001b[0m                                 Traceback (most recent call last)",
      "\u001b[1;32m/Users/mugen/Documents/11209_python_school/GitHub/11209-python-school/2023.09.11/python基礎與資料輸出.ipynb 儲存格 12\u001b[0m line \u001b[0;36m1\n\u001b[0;32m----> <a href='vscode-notebook-cell:/Users/mugen/Documents/11209_python_school/GitHub/11209-python-school/2023.09.11/python%E5%9F%BA%E7%A4%8E%E8%88%87%E8%B3%87%E6%96%99%E8%BC%B8%E5%87%BA.ipynb#X22sZmlsZQ%3D%3D?line=0'>1</a>\u001b[0m \u001b[39mdel\u001b[39;00m years\n",
      "\u001b[0;31mNameError\u001b[0m: name 'years' is not defined"
     ]
    }
   ],
   "source": [
    "del years"
   ]
  },
  {
   "cell_type": "code",
   "execution_count": 21,
   "metadata": {},
   "outputs": [
    {
     "ename": "SyntaxError",
     "evalue": "invalid character '。' (U+3002) (1295157073.py, line 2)",
     "output_type": "error",
     "traceback": [
      "\u001b[0;36m  Cell \u001b[0;32mIn[21], line 2\u001b[0;36m\u001b[0m\n\u001b[0;31m    開頭第一個字不能是數字。\u001b[0m\n\u001b[0m               ^\u001b[0m\n\u001b[0;31mSyntaxError\u001b[0m\u001b[0;31m:\u001b[0m invalid character '。' (U+3002)\n"
     ]
    }
   ],
   "source": [
    "變數命名的規則\n",
    "開頭第一個字不能是數字。\n",
    "可使用大小寫字母或「_」。\n",
    "不可與內建保留字 (右邊表格所列) 同名。\n",
    "Python 3 可以使用中文名稱。\n",
    "大小寫視為不同的變數。\n",
    "不可以出現特殊字元或空白。"
   ]
  },
  {
   "cell_type": "code",
   "execution_count": null,
   "metadata": {},
   "outputs": [],
   "source": [
    "合法命名\n",
    "• a  \n",
    "• a1  \n",
    "• a_b_c___95  \n",
    "• _abc  \n",
    "• _1a  "
   ]
  },
  {
   "cell_type": "code",
   "execution_count": null,
   "metadata": {},
   "outputs": [],
   "source": [
    "不合法命名\n",
    "• 1 \n",
    "• 1a  \n",
    "• 1_  "
   ]
  },
  {
   "cell_type": "code",
   "execution_count": null,
   "metadata": {},
   "outputs": [],
   "source": [
    "請問以下哪一個變數命名是錯的?(選擇題)\n",
    "(1) 5well.\n",
    "(2) pcschool\n",
    "(3) 巨匠\n",
    "\n",
    "#1"
   ]
  },
  {
   "cell_type": "code",
   "execution_count": null,
   "metadata": {},
   "outputs": [],
   "source": [
    "請問以下哪一個變數命名是錯的?(複選題)\n",
    "(1) 7eleven\n",
    "(2) pcschool&python\n",
    "(3) Pcschool python\n",
    "(4) if\n",
    "\n",
    "#1"
   ]
  },
  {
   "cell_type": "code",
   "execution_count": null,
   "metadata": {},
   "outputs": [],
   "source": [
    "若要建立 x 變數內容為 15，請問哪一行是對的? (選擇題)\n",
    "(1) x equals 15\n",
    "(2) x is 15\n",
    "(3) 15 = x\n",
    "(4) x = 15\n",
    "\n",
    "#4\n",
    "#變數名稱放在等號的左邊，然後將值放在等號的右邊\n"
   ]
  },
  {
   "cell_type": "code",
   "execution_count": null,
   "metadata": {},
   "outputs": [],
   "source": [
    "變數給值與輸出\n",
    "如何給值?\n",
    "請使用「=」這個符號，「=」代表右邊丟給左邊，而左邊得接受這個資料。\n",
    "在建立變數之前，也就是給變數內容之前，嘗試存取某個變數會發生變 數未定義的錯誤。\n",
    "print 代表資料輸出，也是存取內容的動作，基本語法為 print(變數) 或者 print(內容)。\n",
    "內容會被雙引號或者單引號包夾起來。"
   ]
  },
  {
   "cell_type": "code",
   "execution_count": 19,
   "metadata": {},
   "outputs": [
    {
     "name": "stdout",
     "output_type": "stream",
     "text": [
      "3\n",
      "3.12\n",
      "Hello! World!\n",
      "5\n"
     ]
    }
   ],
   "source": [
    "#一個參數\n",
    "print(3)\n",
    "print(3.12)\n",
    "print(\"Hello! World!\")\n",
    "print(3+2)"
   ]
  },
  {
   "cell_type": "code",
   "execution_count": 20,
   "metadata": {},
   "outputs": [
    {
     "name": "stdout",
     "output_type": "stream",
     "text": [
      "a= 100\n",
      "b= 50\n",
      "a+b= 150\n"
     ]
    }
   ],
   "source": [
    "#多個參數\n",
    "a = 100\n",
    "print('a=',a)\n",
    "b = 50\n",
    "print('b=', b)\n",
    "print(\"a+b=\", a+b)\n"
   ]
  },
  {
   "cell_type": "code",
   "execution_count": null,
   "metadata": {},
   "outputs": [],
   "source": [
    "關於輸出語法哪一個是對的?(選擇題)\n",
    "(1) print 3 + 4\n",
    "(2) print(3 + 4)\n",
    "(3) print 3 + 4\n",
    "(4) put(3 + 4)\n",
    "\n",
    "#2"
   ]
  },
  {
   "cell_type": "code",
   "execution_count": null,
   "metadata": {},
   "outputs": [],
   "source": [
    "請問 Python 檔案副檔名哪一個是對的?(選擇題)\n",
    "(1) .script\n",
    "(2) .pyscript\n",
    "(3) .py\n",
    "(4) .python\n",
    "\n",
    "#3"
   ]
  },
  {
   "cell_type": "code",
   "execution_count": null,
   "metadata": {},
   "outputs": [],
   "source": [
    "請問執行這一行後的說明哪一個是對的?(選擇題)\n",
    "\n",
    "print(x1)\n",
    "\n",
    "(1) 產生錯誤\n",
    "(2) 輸出空白\n",
    "(3) 輸出 0\n",
    "\n",
    "#1\n",
    "#在程式中嘗試列印一個未定義的變數（在這個情況下是 x1），通常會導致錯誤，因為該變數未被定義或初始化"
   ]
  },
  {
   "cell_type": "code",
   "execution_count": 22,
   "metadata": {},
   "outputs": [
    {
     "ename": "NameError",
     "evalue": "name 'x1' is not defined",
     "output_type": "error",
     "traceback": [
      "\u001b[0;31m---------------------------------------------------------------------------\u001b[0m",
      "\u001b[0;31mNameError\u001b[0m                                 Traceback (most recent call last)",
      "\u001b[1;32m/Users/mugen/Documents/11209_python_school/GitHub/11209-python-school/2023.09.11/python基礎與資料輸出.ipynb 儲存格 25\u001b[0m line \u001b[0;36m1\n\u001b[0;32m----> <a href='vscode-notebook-cell:/Users/mugen/Documents/11209_python_school/GitHub/11209-python-school/2023.09.11/python%E5%9F%BA%E7%A4%8E%E8%88%87%E8%B3%87%E6%96%99%E8%BC%B8%E5%87%BA.ipynb#X41sZmlsZQ%3D%3D?line=0'>1</a>\u001b[0m \u001b[39mprint\u001b[39m(x1)\n",
      "\u001b[0;31mNameError\u001b[0m: name 'x1' is not defined"
     ]
    }
   ],
   "source": [
    "print(x1)"
   ]
  },
  {
   "cell_type": "code",
   "execution_count": null,
   "metadata": {},
   "outputs": [],
   "source": [
    "請問執行後的說明哪一個是對的?(選擇題)\n",
    "\n",
    "x=50 \n",
    "x='test' \n",
    "print(x)\n",
    "\n",
    "(1) 產生錯誤\n",
    "(2) 輸出 test\n",
    "(3) 輸出 5\n",
    "\n",
    "#2\n",
    "#將變數 x 的值設定為整數 50，然後將其值重新賦值為字串 'test'。最後，使用 print(x) 將變數 x 的值列印出來，所以會輸出 'test' "
   ]
  },
  {
   "cell_type": "code",
   "execution_count": null,
   "metadata": {},
   "outputs": [],
   "source": [
    "Python內建資料型別\n",
    "Python 的變數並沒有設定固定型態。\n",
    "變數型態有整數、浮點數、布林值、字串。\n",
    "\n",
    "• booleans (True or False) #布林值\n",
    "• integers (42 and 100000000) #整數\n",
    "• floats (3.14159） #浮點數\n",
    "• string #字串\n",
    "\n"
   ]
  },
  {
   "cell_type": "code",
   "execution_count": null,
   "metadata": {},
   "outputs": [],
   "source": [
    "-\t-\n",
    "var1=20\tvar1 是整數，也就是 int 型態。\n",
    "var2=123.45\tvar2 是浮點數，也就是 float 型態。\n",
    "var3=True\tvar3 是布林值，也就是 True 或者 False。\n",
    "var4=‘string1’\tvar4 是字串 str，可用單引號或雙引號包起來。\n"
   ]
  },
  {
   "cell_type": "code",
   "execution_count": null,
   "metadata": {},
   "outputs": [],
   "source": [
    "#資料型態\n",
    "如何知道變數的資料型態?\n",
    "可使用 type( ) 指令顯示。\n",
    "變數內容變更後會儲存於不同的記憶體位址。那要如何查詢位址呢?\n",
    "可使用 id( ) 指令顯示"
   ]
  },
  {
   "cell_type": "code",
   "execution_count": 23,
   "metadata": {},
   "outputs": [
    {
     "name": "stdout",
     "output_type": "stream",
     "text": [
      "<class 'int'>\n",
      "<class 'float'>\n",
      "<class 'str'>\n",
      "<class 'bool'>\n"
     ]
    }
   ],
   "source": [
    "a = 100\n",
    "print(type(a))\n",
    "\n",
    "a = 100.0\n",
    "print(type(a))\n",
    "\n",
    "a = '100.0'\n",
    "print(type(a))\n",
    "\n",
    "a = True\n",
    "print(type(a))"
   ]
  },
  {
   "cell_type": "code",
   "execution_count": null,
   "metadata": {},
   "outputs": [],
   "source": [
    "#下面2行，將7給變數a, 並且輸出變數a的內容\n",
    ">>> a=7\n",
    ">>> print(a)\n",
    "\n",
    "#將a的參考給b,並且輸出變數b的內容\n",
    ">>> b=a\n",
    ">>> print(b)\n",
    "\n",
    "#使用type function輸出目前的資料型別\n",
    ">>> type(a) \n",
    "<class 'int'>\n",
    "\n",
    ">>> type(b)\n",
    "<class 'int'>\n",
    "\n",
    ">>> type(58)\n",
    "<class 'int'>\n",
    "\n",
    ">>> type(99.9)\n",
    "<class 'float'>\n",
    "\n",
    ">>> type('abc')\n",
    "<class 'str'>"
   ]
  },
  {
   "cell_type": "code",
   "execution_count": 41,
   "metadata": {},
   "outputs": [
    {
     "name": "stdout",
     "output_type": "stream",
     "text": [
      "<class 'int'>\n",
      "<class 'float'>\n",
      "<class 'bool'>\n",
      "<class 'int'>\n"
     ]
    }
   ],
   "source": [
    "\n",
    "\n",
    "var1 = 20 \n",
    "print(type( 20 ))\n",
    "var2 = 123.45\n",
    "print(type( 123.45 ))\n",
    "var3 = True \n",
    "print(type( True )) \n",
    "var4 = 'string1' \n",
    "print(type( 1 )) \n"
   ]
  },
  {
   "cell_type": "code",
   "execution_count": 42,
   "metadata": {},
   "outputs": [
    {
     "name": "stdout",
     "output_type": "stream",
     "text": [
      "4473406288\n",
      "4477860976\n"
     ]
    }
   ],
   "source": [
    "a = 5\n",
    "a = 20\n",
    "print(id(a))\n",
    "a = \"test\" \n",
    "print(id(a)) "
   ]
  },
  {
   "cell_type": "code",
   "execution_count": 43,
   "metadata": {},
   "outputs": [],
   "source": [
    "#請問執行這兩行後記憶體位址會相同嗎?(選擇題)\n",
    "a = 5.4\n",
    "a = 20.3\n",
    "\n",
    "#相同"
   ]
  },
  {
   "cell_type": "code",
   "execution_count": null,
   "metadata": {},
   "outputs": [],
   "source": [
    "字串輸出格式化\n",
    "舊的語法:\n",
    "字串 % (變數,變數)\n",
    "\n",
    "符號\t說明\n",
    "%%\t在字串 中顯示%\n",
    "%d\t以10 進位整數方式輸出\n",
    "%f\t將浮點 數以10進位方式輸出\n",
    "%e, %E\t將浮點 數以10進位方式輸出，並使用科學記號\n",
    "%o\t以8進 位整數方式輸出\n",
    "%x, %X\t將整數以16進位方式輸出\n",
    "%s\t使用str()將字串輸出\n",
    "%c\t以字元方式輸出\n",
    "\n"
   ]
  },
  {
   "cell_type": "code",
   "execution_count": 44,
   "metadata": {},
   "outputs": [
    {
     "data": {
      "text/plain": [
       "'Justin is caterpillar!!'"
      ]
     },
     "execution_count": 44,
     "metadata": {},
     "output_type": "execute_result"
    }
   ],
   "source": [
    "#可以在輸出浮點數時指定精度 \n",
    ">>> 'example:%.2f' % 19.234\n",
    "'example:19.23'\n",
    "\n",
    "#也可以指定輸出時，至少要預留的字元寬度\n",
    "#由於預留了6個字元寬度，不足的部份要由空白字元補上。使用%運算子來格式化字串，會產生新的字串物件。\n",
    ">>> \"example:%6.2f\" % 19.234\n",
    "'example: 19.23'\n",
    ">>>\n",
    "\n",
    "#在格式化時，也可以使用關鍵字來指定\n",
    ">>> '%(real)s is %(nick)s!!' % ({'real' : 'Justin', 'nick' : 'caterpillar'})\n",
    "'Justin is caterpillar!!'\n",
    ">>>"
   ]
  },
  {
   "cell_type": "code",
   "execution_count": null,
   "metadata": {},
   "outputs": [],
   "source": [
    "新的語法:\n",
    "    字串.format(變數,變數...)  "
   ]
  },
  {
   "cell_type": "code",
   "execution_count": null,
   "metadata": {},
   "outputs": [],
   "source": [
    "#不指定位置，依序輸出\n",
    ">>> \"{} {} {}\".format(\"A\", \"B\", \"C\")\n",
    "A B C\n",
    "\n",
    "#用數字指定位置\n",
    "\"{2} {0} {1}\".format(\"A\", \"B\", \"C\") \n",
    "C A B\n",
    "\n",
    "#用名稱指定位置\n",
    "\"{a} {c} {b}\".format(a=\"A\", b=\"B\", c=\"C\")\n",
    "A C B"
   ]
  },
  {
   "cell_type": "code",
   "execution_count": null,
   "metadata": {},
   "outputs": [],
   "source": [
    "數值格式化及對齊\n",
    "格式化的方式是在後方加上”:“及”格式符”，可用的格式符如下\n",
    "{:d}        : 整數\n",
    "{:f}        : 浮點數\n",
    "{:e} {:E}   : 科學記號，例如 1.020000e+01，大小寫就代表 \"e\" 顯示的大小寫\n",
    "{:x} {:X}   : 十六進位，大小寫分別表示 A ~ F 要顯示的大小寫\n",
    "{:o}        : 八進位\n",
    "{:b}        : 二進位\n",
    "{:>}}        : 以百分比的方式輸出"
   ]
  },
  {
   "cell_type": "code",
   "execution_count": null,
   "metadata": {},
   "outputs": [],
   "source": [
    "另外可以使用 > ^ < 這三種符號以及數值來搭配佔位及對齊。注意: 數值型別預設是靠右對齊，字串型別預設是靠左對齊\n",
    "\n",
    "{:>8d}      : 整數靠右對齊，寬度為 8\n",
    "{:^8d}      : 整數置中對齊，寬度為 8\n",
    "{:<8d}      : 整數靠左對齊，寬度為 8\n",
    "{:8.3f}     : 小數點後保留 3 位，總寬度為 8 (含小數點)\n",
    "{:+8.3f}    : 小數點後保留 3 位，帶正負號，總寬度為 8 (含小數點及正負號)"
   ]
  },
  {
   "cell_type": "code",
   "execution_count": null,
   "metadata": {},
   "outputs": [],
   "source": [
    "#‘:’ 前方的數值如基本操作，代表後方參數的位置\n",
    "print \"|{0:8d}||{1:<8d}|\".format(123, 456)\n",
    " |     123||456     |\n",
    "print(\"|{0:+8.2f}|\".format(4.32))\n",
    " |   +4.32|\n",
    "print(\"|{0:8.2>}}|\".format(0.8))\n",
    " |  80.00%|\n",
    " \n",
    "字串與數值輸出預設對齊方式的比較\n",
    "print(\"|{0:8}|\".format(123))\n",
    " |     123|\n",
    "print(\"|{0:8}|\".format(\"abc\"))\n",
    " |abc     | "
   ]
  },
  {
   "cell_type": "code",
   "execution_count": null,
   "metadata": {},
   "outputs": [],
   "source": [
    "字串插補(快速寫法)"
   ]
  },
  {
   "cell_type": "code",
   "execution_count": 46,
   "metadata": {},
   "outputs": [
    {
     "name": "stdout",
     "output_type": "stream",
     "text": [
      "Hello, world\n"
     ]
    }
   ],
   "source": [
    "text = 'world'\n",
    "print(f'Hello, {text}')"
   ]
  },
  {
   "cell_type": "code",
   "execution_count": 47,
   "metadata": {},
   "outputs": [
    {
     "name": "stdout",
     "output_type": "stream",
     "text": [
      "x + y = 37\n"
     ]
    }
   ],
   "source": [
    "x = 10\n",
    "y = 27\n",
    "\n",
    "print(f'x + y = {x + y}')"
   ]
  },
  {
   "cell_type": "code",
   "execution_count": 48,
   "metadata": {},
   "outputs": [],
   "source": [
    "def hello(text, name):\n",
    "    return f'hello {text}, hello {name}'"
   ]
  }
 ],
 "metadata": {
  "kernelspec": {
   "display_name": ".venv",
   "language": "python",
   "name": "python3"
  },
  "language_info": {
   "codemirror_mode": {
    "name": "ipython",
    "version": 3
   },
   "file_extension": ".py",
   "mimetype": "text/x-python",
   "name": "python",
   "nbconvert_exporter": "python",
   "pygments_lexer": "ipython3",
   "version": "3.10.8"
  },
  "orig_nbformat": 4
 },
 "nbformat": 4,
 "nbformat_minor": 2
}
