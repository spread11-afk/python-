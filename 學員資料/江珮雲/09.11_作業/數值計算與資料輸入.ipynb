{
 "cells": [
  {
   "cell_type": "code",
   "execution_count": 3,
   "metadata": {},
   "outputs": [
    {
     "ename": "SyntaxError",
     "evalue": "leading zeros in decimal integer literals are not permitted; use an 0o prefix for octal integers (1539605483.py, line 7)",
     "output_type": "error",
     "traceback": [
      "\u001b[1;36m  Cell \u001b[1;32mIn[3], line 7\u001b[1;36m\u001b[0m\n\u001b[1;33m    05\u001b[0m\n\u001b[1;37m    ^\u001b[0m\n\u001b[1;31mSyntaxError\u001b[0m\u001b[1;31m:\u001b[0m leading zeros in decimal integer literals are not permitted; use an 0o prefix for octal integers\n"
     ]
    }
   ],
   "source": [
    ">>> 5\n",
    "\n",
    "\n",
    ">>> 0\n",
    "\n",
    "#數字前不可以加0\n",
    ">>> 05\n",
    " File \"<stdin>\", line 1\n",
    "\n",
    "^\n",
    "SyntaxError: invalid token #python的語法錯誤"
   ]
  },
  {
   "cell_type": "code",
   "execution_count": 1,
   "metadata": {},
   "outputs": [
    {
     "data": {
      "text/plain": [
       "123"
      ]
     },
     "execution_count": 1,
     "metadata": {},
     "output_type": "execute_result"
    }
   ],
   "source": [
    "#正整數\n",
    ">>> 123\n",
    "\n",
    ">>> +123\n",
    "   "
   ]
  },
  {
   "cell_type": "code",
   "execution_count": 2,
   "metadata": {},
   "outputs": [
    {
     "data": {
      "text/plain": [
       "-123"
      ]
     },
     "execution_count": 2,
     "metadata": {},
     "output_type": "execute_result"
    }
   ],
   "source": [
    "#負整數\n",
    ">>> -123 \n"
   ]
  },
  {
   "cell_type": "code",
   "execution_count": 8,
   "metadata": {},
   "outputs": [
    {
     "data": {
      "text/plain": [
       "-6"
      ]
     },
     "execution_count": 8,
     "metadata": {},
     "output_type": "execute_result"
    }
   ],
   "source": [
    "\n",
    "#整數運算\n",
    ">>> 5+9 \n",
    "   \n",
    ">>> 100-7 \n",
    "  \n",
    ">>> 4-10 \n",
    "  "
   ]
  },
  {
   "cell_type": "code",
   "execution_count": 7,
   "metadata": {},
   "outputs": [
    {
     "data": {
      "text/plain": [
       "10"
      ]
     },
     "execution_count": 7,
     "metadata": {},
     "output_type": "execute_result"
    }
   ],
   "source": [
    "#多個數值運算\n",
    ">>> 5 + 9 + 3\n",
    "\n",
    ">>> 4 + 3 - 2 - 1 + 6 \n"
   ]
  },
  {
   "cell_type": "code",
   "execution_count": 9,
   "metadata": {},
   "outputs": [
    {
     "data": {
      "text/plain": [
       "252"
      ]
     },
     "execution_count": 9,
     "metadata": {},
     "output_type": "execute_result"
    }
   ],
   "source": [
    "#乘法運算\n",
    ">>> 6 * 7\n",
    "\n",
    ">>> 7 * 6\n",
    "\n",
    ">>> 6 * 7 * 2 * 3 \n"
   ]
  },
  {
   "cell_type": "code",
   "execution_count": 10,
   "metadata": {},
   "outputs": [
    {
     "data": {
      "text/plain": [
       "1.8"
      ]
     },
     "execution_count": 10,
     "metadata": {},
     "output_type": "execute_result"
    }
   ],
   "source": [
    "#浮點數除法\n",
    ">>> 9 / 5 \n",
    " "
   ]
  },
  {
   "cell_type": "code",
   "execution_count": 11,
   "metadata": {},
   "outputs": [
    {
     "data": {
      "text/plain": [
       "1"
      ]
     },
     "execution_count": 11,
     "metadata": {},
     "output_type": "execute_result"
    }
   ],
   "source": [
    "#整數除法\n",
    ">>> 9 // 5 \n"
   ]
  },
  {
   "cell_type": "code",
   "execution_count": 12,
   "metadata": {},
   "outputs": [
    {
     "ename": "SyntaxError",
     "evalue": "invalid syntax. Perhaps you forgot a comma? (2207559798.py, line 3)",
     "output_type": "error",
     "traceback": [
      "\u001b[1;36m  Cell \u001b[1;32mIn[12], line 3\u001b[1;36m\u001b[0m\n\u001b[1;33m    Traceback (most recent call last):\u001b[0m\n\u001b[1;37m               ^\u001b[0m\n\u001b[1;31mSyntaxError\u001b[0m\u001b[1;31m:\u001b[0m invalid syntax. Perhaps you forgot a comma?\n"
     ]
    }
   ],
   "source": [
    "#除數不可以為零\n",
    ">>> 5 / 0\n",
    "Traceback (most recent call last):\n",
    "File \"<stdin>\", line 1, in <module> ZeroDivisionError: division by zero >>> 7 // 0\n",
    "Traceback (most recent call last):\n",
    "File \"<stdin>\", line 1, in <module> ZeroDivisionError: integer division or modulo by z\n",
    "\n"
   ]
  },
  {
   "cell_type": "code",
   "execution_count": 4,
   "metadata": {},
   "outputs": [
    {
     "data": {
      "text/plain": [
       "95"
      ]
     },
     "execution_count": 4,
     "metadata": {},
     "output_type": "execute_result"
    }
   ],
   "source": [
    "#變數可以運算\n",
    ">>> a = 95\n",
    ">>> a"
   ]
  },
  {
   "cell_type": "code",
   "execution_count": 5,
   "metadata": {},
   "outputs": [
    {
     "data": {
      "text/plain": [
       "92"
      ]
     },
     "execution_count": 5,
     "metadata": {},
     "output_type": "execute_result"
    }
   ],
   "source": [
    ">>> a - 3\n"
   ]
  },
  {
   "cell_type": "code",
   "execution_count": 6,
   "metadata": {},
   "outputs": [
    {
     "data": {
      "text/plain": [
       "92"
      ]
     },
     "execution_count": 6,
     "metadata": {},
     "output_type": "execute_result"
    }
   ],
   "source": [
    "#將變數自己的內容減3\n",
    ">>> a = a - 3\n",
    ">>> a "
   ]
  },
  {
   "cell_type": "code",
   "execution_count": 8,
   "metadata": {},
   "outputs": [
    {
     "data": {
      "text/plain": [
       "89"
      ]
     },
     "execution_count": 8,
     "metadata": {},
     "output_type": "execute_result"
    }
   ],
   "source": [
    ">>> a = a - 3\n",
    ">>> a \n"
   ]
  },
  {
   "cell_type": "code",
   "execution_count": 2,
   "metadata": {},
   "outputs": [],
   "source": [
    ">>> a = 95\n",
    ">>> temp = a - 3\n",
    ">>> a = temp\n",
    "\n",
    "\n"
   ]
  },
  {
   "cell_type": "code",
   "execution_count": 15,
   "metadata": {},
   "outputs": [],
   "source": [
    "#上面敘述式，可以使用下面這行替代\n",
    ">>> a = a - 3\n"
   ]
  },
  {
   "cell_type": "code",
   "execution_count": 17,
   "metadata": {},
   "outputs": [
    {
     "data": {
      "text/plain": [
       "4"
      ]
     },
     "execution_count": 17,
     "metadata": {},
     "output_type": "execute_result"
    }
   ],
   "source": [
    "#餘數\n",
    ">>> 9 % 5"
   ]
  },
  {
   "cell_type": "code",
   "execution_count": 18,
   "metadata": {},
   "outputs": [
    {
     "data": {
      "text/plain": [
       "(1, 4)"
      ]
     },
     "execution_count": 18,
     "metadata": {},
     "output_type": "execute_result"
    }
   ],
   "source": [
    ">>> divmod(9,5)\n"
   ]
  },
  {
   "cell_type": "code",
   "execution_count": 19,
   "metadata": {},
   "outputs": [
    {
     "data": {
      "text/plain": [
       "1"
      ]
     },
     "execution_count": 19,
     "metadata": {},
     "output_type": "execute_result"
    }
   ],
   "source": [
    ">>> 9 // 5"
   ]
  },
  {
   "cell_type": "code",
   "execution_count": 21,
   "metadata": {},
   "outputs": [
    {
     "data": {
      "text/plain": [
       "4"
      ]
     },
     "execution_count": 21,
     "metadata": {},
     "output_type": "execute_result"
    }
   ],
   "source": [
    ">>> 9 % 5 \n"
   ]
  },
  {
   "cell_type": "code",
   "execution_count": 3,
   "metadata": {},
   "outputs": [
    {
     "ename": "SyntaxError",
     "evalue": "invalid syntax (182126873.py, line 3)",
     "output_type": "error",
     "traceback": [
      "\u001b[0;36m  Cell \u001b[0;32mIn[3], line 3\u001b[0;36m\u001b[0m\n\u001b[0;31m    **\u001b[0m\n\u001b[0m    ^\u001b[0m\n\u001b[0;31mSyntaxError\u001b[0m\u001b[0;31m:\u001b[0m invalid syntax\n"
     ]
    }
   ],
   "source": [
    "優先順序由上而下\n",
    "()\n",
    "**\n",
    "正負\n",
    "* / % //\n",
    "+ -\n",
    "="
   ]
  },
  {
   "cell_type": "code",
   "execution_count": 5,
   "metadata": {},
   "outputs": [
    {
     "data": {
      "text/plain": [
       "14"
      ]
     },
     "execution_count": 5,
     "metadata": {},
     "output_type": "execute_result"
    }
   ],
   "source": [
    ">>> 2 + 3 * 4\n"
   ]
  },
  {
   "cell_type": "code",
   "execution_count": 15,
   "metadata": {},
   "outputs": [
    {
     "data": {
      "text/plain": [
       "20"
      ]
     },
     "execution_count": 15,
     "metadata": {},
     "output_type": "execute_result"
    }
   ],
   "source": [
    ">>> ( 2 + 3 ) * 4\n"
   ]
  },
  {
   "cell_type": "code",
   "execution_count": 16,
   "metadata": {},
   "outputs": [
    {
     "data": {
      "text/plain": [
       "10"
      ]
     },
     "execution_count": 16,
     "metadata": {},
     "output_type": "execute_result"
    }
   ],
   "source": [
    ">>> 2 * (1 + 2) ** 2 - 2 ** 2 * 2 "
   ]
  },
  {
   "cell_type": "code",
   "execution_count": 17,
   "metadata": {},
   "outputs": [
    {
     "data": {
      "text/plain": [
       "10"
      ]
     },
     "execution_count": 17,
     "metadata": {},
     "output_type": "execute_result"
    }
   ],
   "source": [
    "#10進位\n",
    ">>> 10 "
   ]
  },
  {
   "cell_type": "code",
   "execution_count": 18,
   "metadata": {},
   "outputs": [
    {
     "data": {
      "text/plain": [
       "2"
      ]
     },
     "execution_count": 18,
     "metadata": {},
     "output_type": "execute_result"
    }
   ],
   "source": [
    "#2進位\n",
    ">>> 0b10\n"
   ]
  },
  {
   "cell_type": "code",
   "execution_count": 19,
   "metadata": {},
   "outputs": [
    {
     "data": {
      "text/plain": [
       "16"
      ]
     },
     "execution_count": 19,
     "metadata": {},
     "output_type": "execute_result"
    }
   ],
   "source": [
    "#16進位\n",
    ">>> 0x10"
   ]
  },
  {
   "cell_type": "code",
   "execution_count": null,
   "metadata": {},
   "outputs": [],
   "source": [
    "#類型轉換"
   ]
  },
  {
   "cell_type": "code",
   "execution_count": 20,
   "metadata": {},
   "outputs": [
    {
     "data": {
      "text/plain": [
       "1"
      ]
     },
     "execution_count": 20,
     "metadata": {},
     "output_type": "execute_result"
    }
   ],
   "source": [
    ">>> int(True)"
   ]
  },
  {
   "cell_type": "code",
   "execution_count": 21,
   "metadata": {},
   "outputs": [
    {
     "data": {
      "text/plain": [
       "0"
      ]
     },
     "execution_count": 21,
     "metadata": {},
     "output_type": "execute_result"
    }
   ],
   "source": [
    ">>> int(False)\n"
   ]
  },
  {
   "cell_type": "code",
   "execution_count": 22,
   "metadata": {},
   "outputs": [
    {
     "data": {
      "text/plain": [
       "98"
      ]
     },
     "execution_count": 22,
     "metadata": {},
     "output_type": "execute_result"
    }
   ],
   "source": [
    ">>> int (98.6)"
   ]
  },
  {
   "cell_type": "code",
   "execution_count": 23,
   "metadata": {},
   "outputs": [
    {
     "data": {
      "text/plain": [
       "10000"
      ]
     },
     "execution_count": 23,
     "metadata": {},
     "output_type": "execute_result"
    }
   ],
   "source": [
    ">>> int (1.0e4)"
   ]
  },
  {
   "cell_type": "code",
   "execution_count": 24,
   "metadata": {},
   "outputs": [
    {
     "data": {
      "text/plain": [
       "99"
      ]
     },
     "execution_count": 24,
     "metadata": {},
     "output_type": "execute_result"
    }
   ],
   "source": [
    ">>> int ('99')"
   ]
  },
  {
   "cell_type": "code",
   "execution_count": 25,
   "metadata": {},
   "outputs": [
    {
     "data": {
      "text/plain": [
       "-23"
      ]
     },
     "execution_count": 25,
     "metadata": {},
     "output_type": "execute_result"
    }
   ],
   "source": [
    ">>> int('-23') "
   ]
  },
  {
   "cell_type": "code",
   "execution_count": 26,
   "metadata": {},
   "outputs": [
    {
     "data": {
      "text/plain": [
       "12"
      ]
     },
     "execution_count": 26,
     "metadata": {},
     "output_type": "execute_result"
    }
   ],
   "source": [
    ">>> int('+12')\n"
   ]
  },
  {
   "cell_type": "code",
   "execution_count": 27,
   "metadata": {},
   "outputs": [
    {
     "data": {
      "text/plain": [
       "12345"
      ]
     },
     "execution_count": 27,
     "metadata": {},
     "output_type": "execute_result"
    }
   ],
   "source": [
    ">>> int(12345)"
   ]
  },
  {
   "cell_type": "code",
   "execution_count": 100,
   "metadata": {},
   "outputs": [
    {
     "ename": "ValueError",
     "evalue": "invalid literal for int() with base 10: '99 bottles of beer on the wall'",
     "output_type": "error",
     "traceback": [
      "\u001b[0;31m---------------------------------------------------------------------------\u001b[0m",
      "\u001b[0;31mValueError\u001b[0m                                Traceback (most recent call last)",
      "\u001b[1;32m/Users/mugen/Documents/11209_python_school/GitHub/11209-python-school/2023.09.11/數值計算與資料輸入.ipynb 儲存格 36\u001b[0m line \u001b[0;36m1\n\u001b[0;32m----> <a href='vscode-notebook-cell:/Users/mugen/Documents/11209_python_school/GitHub/11209-python-school/2023.09.11/%E6%95%B8%E5%80%BC%E8%A8%88%E7%AE%97%E8%88%87%E8%B3%87%E6%96%99%E8%BC%B8%E5%85%A5.ipynb#X51sZmlsZQ%3D%3D?line=0'>1</a>\u001b[0m \u001b[39mint\u001b[39;49m(\u001b[39m'\u001b[39;49m\u001b[39m99 bottles of beer on the wall\u001b[39;49m\u001b[39m'\u001b[39;49m)\n",
      "\u001b[0;31mValueError\u001b[0m: invalid literal for int() with base 10: '99 bottles of beer on the wall'"
     ]
    }
   ],
   "source": [
    ">>> int('99 bottles of beer on the wall')\n"
   ]
  },
  {
   "cell_type": "code",
   "execution_count": 99,
   "metadata": {},
   "outputs": [
    {
     "ename": "ValueError",
     "evalue": "invalid literal for int() with base 10: '98.6'",
     "output_type": "error",
     "traceback": [
      "\u001b[0;31m---------------------------------------------------------------------------\u001b[0m",
      "\u001b[0;31mValueError\u001b[0m                                Traceback (most recent call last)",
      "\u001b[1;32m/Users/mugen/Documents/11209_python_school/GitHub/11209-python-school/2023.09.11/數值計算與資料輸入.ipynb 儲存格 37\u001b[0m line \u001b[0;36m1\n\u001b[0;32m----> <a href='vscode-notebook-cell:/Users/mugen/Documents/11209_python_school/GitHub/11209-python-school/2023.09.11/%E6%95%B8%E5%80%BC%E8%A8%88%E7%AE%97%E8%88%87%E8%B3%87%E6%96%99%E8%BC%B8%E5%85%A5.ipynb#X52sZmlsZQ%3D%3D?line=0'>1</a>\u001b[0m \u001b[39mint\u001b[39;49m(\u001b[39m'\u001b[39;49m\u001b[39m98.6\u001b[39;49m\u001b[39m'\u001b[39;49m)\n",
      "\u001b[0;31mValueError\u001b[0m: invalid literal for int() with base 10: '98.6'"
     ]
    }
   ],
   "source": [
    "\n",
    ">>> int('98.6')\n"
   ]
  },
  {
   "cell_type": "code",
   "execution_count": 30,
   "metadata": {},
   "outputs": [
    {
     "data": {
      "text/plain": [
       "11.0"
      ]
     },
     "execution_count": 30,
     "metadata": {},
     "output_type": "execute_result"
    }
   ],
   "source": [
    ">>> 4+7.0 "
   ]
  },
  {
   "cell_type": "code",
   "execution_count": 31,
   "metadata": {},
   "outputs": [
    {
     "data": {
      "text/plain": [
       "3"
      ]
     },
     "execution_count": 31,
     "metadata": {},
     "output_type": "execute_result"
    }
   ],
   "source": [
    ">>> True+2"
   ]
  },
  {
   "cell_type": "code",
   "execution_count": 32,
   "metadata": {},
   "outputs": [
    {
     "data": {
      "text/plain": [
       "5.0"
      ]
     },
     "execution_count": 32,
     "metadata": {},
     "output_type": "execute_result"
    }
   ],
   "source": [
    ">>> False + 5.0 "
   ]
  },
  {
   "cell_type": "code",
   "execution_count": null,
   "metadata": {},
   "outputs": [],
   "source": [
    "#int的範圍\n"
   ]
  },
  {
   "cell_type": "code",
   "execution_count": 33,
   "metadata": {},
   "outputs": [
    {
     "data": {
      "text/plain": [
       "10000000000000000000000000000000000000000000000000000000000000000000000000000000000000000000000000000"
      ]
     },
     "execution_count": 33,
     "metadata": {},
     "output_type": "execute_result"
    }
   ],
   "source": [
    ">>>\n",
    ">>> googol = 10**100\n",
    ">>> googol"
   ]
  },
  {
   "cell_type": "code",
   "execution_count": 34,
   "metadata": {},
   "outputs": [
    {
     "data": {
      "text/plain": [
       "100000000000000000000000000000000000000000000000000000000000000000000000000000000000000000000000000000000000000000000000000000000000000000000000000000000000000000000000000000000000000000000000000000000"
      ]
     },
     "execution_count": 34,
     "metadata": {},
     "output_type": "execute_result"
    }
   ],
   "source": [
    ">>> googol * googol"
   ]
  },
  {
   "cell_type": "code",
   "execution_count": null,
   "metadata": {},
   "outputs": [],
   "source": [
    "#浮點數"
   ]
  },
  {
   "cell_type": "code",
   "execution_count": 36,
   "metadata": {},
   "outputs": [
    {
     "data": {
      "text/plain": [
       "1.0"
      ]
     },
     "execution_count": 36,
     "metadata": {},
     "output_type": "execute_result"
    }
   ],
   "source": [
    ">>> float(True) "
   ]
  },
  {
   "cell_type": "code",
   "execution_count": 37,
   "metadata": {},
   "outputs": [
    {
     "data": {
      "text/plain": [
       "0.0"
      ]
     },
     "execution_count": 37,
     "metadata": {},
     "output_type": "execute_result"
    }
   ],
   "source": [
    ">>> float(False)\n"
   ]
  },
  {
   "cell_type": "code",
   "execution_count": 38,
   "metadata": {},
   "outputs": [
    {
     "data": {
      "text/plain": [
       "98.0"
      ]
     },
     "execution_count": 38,
     "metadata": {},
     "output_type": "execute_result"
    }
   ],
   "source": [
    ">>> float(98)"
   ]
  },
  {
   "cell_type": "code",
   "execution_count": 39,
   "metadata": {},
   "outputs": [
    {
     "data": {
      "text/plain": [
       "99.0"
      ]
     },
     "execution_count": 39,
     "metadata": {},
     "output_type": "execute_result"
    }
   ],
   "source": [
    ">>> float('99') "
   ]
  },
  {
   "cell_type": "code",
   "execution_count": 40,
   "metadata": {},
   "outputs": [
    {
     "data": {
      "text/plain": [
       "98.6"
      ]
     },
     "execution_count": 40,
     "metadata": {},
     "output_type": "execute_result"
    }
   ],
   "source": [
    ">>> float('98.6')"
   ]
  },
  {
   "cell_type": "code",
   "execution_count": 41,
   "metadata": {},
   "outputs": [
    {
     "data": {
      "text/plain": [
       "-1.5"
      ]
     },
     "execution_count": 41,
     "metadata": {},
     "output_type": "execute_result"
    }
   ],
   "source": [
    ">>> float('-1.5')"
   ]
  },
  {
   "cell_type": "code",
   "execution_count": 42,
   "metadata": {},
   "outputs": [
    {
     "data": {
      "text/plain": [
       "10000.0"
      ]
     },
     "execution_count": 42,
     "metadata": {},
     "output_type": "execute_result"
    }
   ],
   "source": [
    ">>> float('1.0e4')"
   ]
  },
  {
   "cell_type": "code",
   "execution_count": null,
   "metadata": {},
   "outputs": [],
   "source": [
    "#字串"
   ]
  },
  {
   "cell_type": "code",
   "execution_count": 43,
   "metadata": {},
   "outputs": [
    {
     "data": {
      "text/plain": [
       "'Sanp'"
      ]
     },
     "execution_count": 43,
     "metadata": {},
     "output_type": "execute_result"
    }
   ],
   "source": [
    ">>> 'Sanp'"
   ]
  },
  {
   "cell_type": "code",
   "execution_count": 44,
   "metadata": {},
   "outputs": [
    {
     "data": {
      "text/plain": [
       "'Crackle'"
      ]
     },
     "execution_count": 44,
     "metadata": {},
     "output_type": "execute_result"
    }
   ],
   "source": [
    ">>> \"Crackle\""
   ]
  },
  {
   "cell_type": "code",
   "execution_count": 46,
   "metadata": {},
   "outputs": [
    {
     "data": {
      "text/plain": [
       "\"'Nay,' said the naysayer. \""
      ]
     },
     "execution_count": 46,
     "metadata": {},
     "output_type": "execute_result"
    }
   ],
   "source": [
    ">>> \"'Nay,' said the naysayer. \""
   ]
  },
  {
   "cell_type": "code",
   "execution_count": 47,
   "metadata": {},
   "outputs": [
    {
     "data": {
      "text/plain": [
       "'The rare doble quote in captivity :\".'"
      ]
     },
     "execution_count": 47,
     "metadata": {},
     "output_type": "execute_result"
    }
   ],
   "source": [
    ">>> 'The rare doble quote in captivity :\".'"
   ]
  },
  {
   "cell_type": "code",
   "execution_count": 48,
   "metadata": {},
   "outputs": [
    {
     "data": {
      "text/plain": [
       "'A \"two by four\" is actually 1 1/2\" x 3 1/2\". '"
      ]
     },
     "execution_count": 48,
     "metadata": {},
     "output_type": "execute_result"
    }
   ],
   "source": [
    ">>> 'A \"two by four\" is actually 1 1/2\" x 3 1/2\". '"
   ]
  },
  {
   "cell_type": "code",
   "execution_count": 49,
   "metadata": {},
   "outputs": [
    {
     "data": {
      "text/plain": [
       "\"'There's the man that shot my paw!' cried the limping hound.'There's the man that shot my paw!' cried the limping hound.\""
      ]
     },
     "execution_count": 49,
     "metadata": {},
     "output_type": "execute_result"
    }
   ],
   "source": [
    "\n",
    ">>> \"'There's the man that shot my paw!' cried the limping hound.\" \"'There's the man that shot my paw!' cried the limping hound.\""
   ]
  },
  {
   "cell_type": "code",
   "execution_count": null,
   "metadata": {},
   "outputs": [],
   "source": [
    "#多行文字"
   ]
  },
  {
   "cell_type": "code",
   "execution_count": 50,
   "metadata": {},
   "outputs": [
    {
     "data": {
      "text/plain": [
       "'Boom!'"
      ]
     },
     "execution_count": 50,
     "metadata": {},
     "output_type": "execute_result"
    }
   ],
   "source": [
    ">>> '''Boom!'''"
   ]
  },
  {
   "cell_type": "code",
   "execution_count": 51,
   "metadata": {},
   "outputs": [
    {
     "data": {
      "text/plain": [
       "'Eek!'"
      ]
     },
     "execution_count": 51,
     "metadata": {},
     "output_type": "execute_result"
    }
   ],
   "source": [
    ">>> \"\"\"Eek!\"\"\""
   ]
  },
  {
   "cell_type": "code",
   "execution_count": 53,
   "metadata": {},
   "outputs": [],
   "source": [
    "#單行文字\n",
    ">>> poem = \"Apple Arcade 推出的最新遊戲《Next Stop Nowhere》，由位於洛杉磯的開發商 Night School Studio 出品。這款遊戲是太空公路之旅的夥伴冒險，其中不同角色間展開了一些精彩的劇情。在銀河系的外圍，每個人和所有事物之間都有充分的空間，Night School 希望這款遊戲可為近來可能感到孤立的玩家提供一些慰藉。\"\n"
   ]
  },
  {
   "cell_type": "code",
   "execution_count": 55,
   "metadata": {},
   "outputs": [
    {
     "data": {
      "text/plain": [
       "'Apple Arcade 推出的最新遊戲《Next Stop Nowhere》，由位於洛杉磯的開發商 Night School Studio 出品。這款遊戲是太空公路之旅的夥伴冒險，其中不同角色間展開了一些精彩的劇情。在銀河系的外圍，每個人和所有事物之間都有充分的空間，Night School希望這款遊戲可為近來可能感到孤立的玩家提供一些慰藉。'"
      ]
     },
     "execution_count": 55,
     "metadata": {},
     "output_type": "execute_result"
    }
   ],
   "source": [
    "#單行文字\n",
    ">>> \"Apple Arcade 推出的最新遊戲《Next Stop Nowhere》，\\\n",
    "由位於洛杉磯的開發商 Night School Studio 出品。\\\n",
    "這款遊戲是太空公路之旅的夥伴冒險，其中不同角色間展開了一些精彩的劇情。\\\n",
    "在銀河系的外圍，每個人和所有事物之間都有充分的空間，Night School\\\n",
    "希望這款遊戲可為近來可能感到孤立的玩家提供一些慰藉。\""
   ]
  },
  {
   "cell_type": "code",
   "execution_count": 58,
   "metadata": {},
   "outputs": [],
   "source": [
    ">>> poem2 = '''Apple Arcade 推出的最新遊戲《Next Stop Nowhere》，由位於洛杉磯的開發商 Night School Studio 出品。這款遊戲是太空公路之旅的夥伴冒險，其中不同角色間展開了一些精彩的劇情。\n",
    "\n",
    "在銀河系的外圍，每個人和所有事物之間都有充分的空間，Night School 希望這款遊戲可為近來可能感到孤立的玩家提供一些慰藉。 '''"
   ]
  },
  {
   "cell_type": "code",
   "execution_count": 60,
   "metadata": {},
   "outputs": [
    {
     "name": "stdout",
     "output_type": "stream",
     "text": [
      "99 bottles would be enough.\n"
     ]
    }
   ],
   "source": [
    ">>> print(99, 'bottles', 'would be enough.') \n",
    "\n",
    "    "
   ]
  },
  {
   "cell_type": "code",
   "execution_count": 61,
   "metadata": {},
   "outputs": [
    {
     "data": {
      "text/plain": [
       "''"
      ]
     },
     "execution_count": 61,
     "metadata": {},
     "output_type": "execute_result"
    }
   ],
   "source": [
    ">>> ''"
   ]
  },
  {
   "cell_type": "code",
   "execution_count": 62,
   "metadata": {},
   "outputs": [
    {
     "data": {
      "text/plain": [
       "''"
      ]
     },
     "execution_count": 62,
     "metadata": {},
     "output_type": "execute_result"
    }
   ],
   "source": [
    ">>> \"\"\n"
   ]
  },
  {
   "cell_type": "code",
   "execution_count": 63,
   "metadata": {},
   "outputs": [
    {
     "data": {
      "text/plain": [
       "''"
      ]
     },
     "execution_count": 63,
     "metadata": {},
     "output_type": "execute_result"
    }
   ],
   "source": [
    ">>> ''''''"
   ]
  },
  {
   "cell_type": "code",
   "execution_count": 64,
   "metadata": {},
   "outputs": [
    {
     "data": {
      "text/plain": [
       "''"
      ]
     },
     "execution_count": 64,
     "metadata": {},
     "output_type": "execute_result"
    }
   ],
   "source": [
    ">>> \"\"\"\"\"\""
   ]
  },
  {
   "cell_type": "code",
   "execution_count": 65,
   "metadata": {},
   "outputs": [
    {
     "data": {
      "text/plain": [
       "'98.6'"
      ]
     },
     "execution_count": 65,
     "metadata": {},
     "output_type": "execute_result"
    }
   ],
   "source": [
    "#使用str()轉換為字串型別\n",
    ">>> str(98.6) "
   ]
  },
  {
   "cell_type": "code",
   "execution_count": 66,
   "metadata": {},
   "outputs": [
    {
     "data": {
      "text/plain": [
       "'10000.0'"
      ]
     },
     "execution_count": 66,
     "metadata": {},
     "output_type": "execute_result"
    }
   ],
   "source": [
    ">>> str(1.0e4) "
   ]
  },
  {
   "cell_type": "code",
   "execution_count": 67,
   "metadata": {},
   "outputs": [
    {
     "data": {
      "text/plain": [
       "'True'"
      ]
     },
     "execution_count": 67,
     "metadata": {},
     "output_type": "execute_result"
    }
   ],
   "source": [
    ">>> str(True)\n"
   ]
  },
  {
   "cell_type": "code",
   "execution_count": 68,
   "metadata": {},
   "outputs": [],
   "source": [
    "#用 \\ 繼續行\n",
    ">>> alphabet = ''\n",
    ">>> alphabet += 'abcdefg'\n",
    ">>> alphabet += 'hijklmnop'\n",
    ">>> alphabet += 'qrstuv'\n",
    ">>> alphabet += 'wxyz'"
   ]
  },
  {
   "cell_type": "code",
   "execution_count": 71,
   "metadata": {},
   "outputs": [],
   "source": [
    "#連結字串\n",
    ">>> alphabet = 'abcdefg' + \\\n",
    "... 'hijklmnop' + \\\n",
    "... 'qrstuv' + \\\n",
    "... 'wxyz'"
   ]
  },
  {
   "cell_type": "code",
   "execution_count": 95,
   "metadata": {},
   "outputs": [
    {
     "data": {
      "text/plain": [
       "'< 1+2+ >'"
      ]
     },
     "execution_count": 95,
     "metadata": {},
     "output_type": "execute_result"
    }
   ],
   "source": [
    ">>> \"< 1+2+ >\"\n",
    "#File \"<stdin>\", line 1"
   ]
  },
  {
   "cell_type": "code",
   "execution_count": 94,
   "metadata": {},
   "outputs": [
    {
     "data": {
      "text/plain": [
       "6"
      ]
     },
     "execution_count": 94,
     "metadata": {},
     "output_type": "execute_result"
    }
   ],
   "source": [
    "\n",
    ">>> 1 + 2 + \\\n",
    "... 3\n",
    "\n"
   ]
  },
  {
   "cell_type": "code",
   "execution_count": null,
   "metadata": {},
   "outputs": [],
   "source": [
    "#字串使用加法運算\n",
    "#字串無法自動加數值\n",
    ">>> bottles = 99\n",
    ">>> base = \"\"\n",
    ">>> base = base + 'current inventory:'\n",
    ">>> base = base + str(bottles)\n",
    "'current inventory:99'"
   ]
  },
  {
   "cell_type": "code",
   "execution_count": null,
   "metadata": {},
   "outputs": [],
   "source": [
    "\n",
    "#脫溢字元(特殊字元)\n",
    "- 反斜線作為跳脫字元，可用於引用特殊字元。\n",
    "\t- \\\\ 反斜線\n",
    "\t- \\’ 單引號\n",
    "\t- \\” 雙引號\n",
    "\t- \\n 換行\n",
    "\t- \\t 固定間隔"
   ]
  },
  {
   "cell_type": "code",
   "execution_count": 84,
   "metadata": {},
   "outputs": [],
   "source": [
    ">>> games = '遊戲：《鬼靈精大腳怪》\\n說明：今天的遊戲更新為玩家開啟了一個全新的探索環境。從城鎮下方的新碼頭出發，乘渡輪前往新的小島，然後乘坐四輪驅動車四處巡遊，或者在衝浪遊戲中盡情衝浪。玩家還可以購買新船進行升級與比賽，或是出海捕捉鹹水魚。這是調皮大腳怪的暑假！\\n\\n遊戲：《迷你公路》\\n說明：《迷你公路》推出了一項新更新，以透過 Fast Forward 模式協助加快道路網絡的建立，使玩家能選擇其遊戲速度。' "
   ]
  },
  {
   "cell_type": "code",
   "execution_count": 87,
   "metadata": {},
   "outputs": [
    {
     "name": "stdout",
     "output_type": "stream",
     "text": [
      "遊戲：《鬼靈精大腳怪》\n",
      "說明：今天的遊戲更新為玩家開啟了一個全新的探索環境。從城鎮下方的新碼頭出發，乘渡輪前往新的小島，然後乘坐四輪驅動車四處巡遊，或者在衝浪遊戲中盡情衝浪。玩家還可以購買新船進行升級與比賽，或是出海捕捉鹹水魚。這是調皮大腳怪的暑假！\n",
      "\n",
      "遊戲：《迷你公路》\n",
      "說明：《迷你公路》推出了一項新更新，以透過 Fast Forward 模式協助加快道路網絡的建立，使玩家能選擇其遊戲速度。\n"
     ]
    },
    {
     "data": {
      "text/plain": [
       "'說明：今天的遊戲更新為玩家開啟了一個全新的探索環境。從城鎮下方的新碼頭出發，乘渡輪前往新的小島，然後乘坐四輪驅動車四處巡遊，或者在衝浪遊戲中盡情衝浪。玩家還可以購買新船進行升級與比賽，或是出海捕捉鹹水魚。這是調皮大腳怪的暑假！'"
      ]
     },
     "execution_count": 87,
     "metadata": {},
     "output_type": "execute_result"
    }
   ],
   "source": [
    ">>> print(games)\n",
    "'遊戲：《鬼靈精大腳怪》'\n",
    "'說明：今天的遊戲更新為玩家開啟了一個全新的探索環境。從城鎮下方的新碼頭出發，乘渡輪前往新的小島，然後乘坐四輪驅動車四處巡遊，或者在衝浪遊戲中盡情衝浪。玩家還可以購買新船進行升級與比賽，或是出海捕捉鹹水魚。這是調皮大腳怪的暑假！'\n"
   ]
  },
  {
   "cell_type": "code",
   "execution_count": 88,
   "metadata": {},
   "outputs": [
    {
     "name": "stdout",
     "output_type": "stream",
     "text": [
      "\tabc\n"
     ]
    }
   ],
   "source": [
    ">>> print('\\tabc')"
   ]
  },
  {
   "cell_type": "code",
   "execution_count": 89,
   "metadata": {},
   "outputs": [
    {
     "name": "stdout",
     "output_type": "stream",
     "text": [
      "a\tbc\n"
     ]
    }
   ],
   "source": [
    ">>> print('a\\tbc') "
   ]
  },
  {
   "cell_type": "code",
   "execution_count": 90,
   "metadata": {},
   "outputs": [
    {
     "name": "stdout",
     "output_type": "stream",
     "text": [
      "ab\tc\n"
     ]
    }
   ],
   "source": [
    ">>> print('ab\\tc') "
   ]
  },
  {
   "cell_type": "code",
   "execution_count": 101,
   "metadata": {},
   "outputs": [
    {
     "name": "stdout",
     "output_type": "stream",
     "text": [
      "abc\t\n"
     ]
    }
   ],
   "source": [
    ">>> print('abc\\t') \n"
   ]
  },
  {
   "cell_type": "code",
   "execution_count": 102,
   "metadata": {},
   "outputs": [],
   "source": [
    ">>> testimony = \"\\\"I did nothing!\\\" he said. \\\"Not that either! Or the other thing.\\\"\""
   ]
  },
  {
   "cell_type": "code",
   "execution_count": 103,
   "metadata": {},
   "outputs": [
    {
     "name": "stdout",
     "output_type": "stream",
     "text": [
      "\"I did nothing!\" he said. \"Not that either! Or the other thing.\"\n"
     ]
    }
   ],
   "source": [
    ">>> print(testimony)"
   ]
  },
  {
   "cell_type": "code",
   "execution_count": 104,
   "metadata": {},
   "outputs": [],
   "source": [
    ">>> fact = \"The world's largest rubber duck was 54'2\\\" by 65'7\\\" by 105'\""
   ]
  },
  {
   "cell_type": "code",
   "execution_count": 106,
   "metadata": {},
   "outputs": [
    {
     "name": "stdout",
     "output_type": "stream",
     "text": [
      "The world's largest rubber duck was 54'2\" by 65'7\" by 105'\n"
     ]
    }
   ],
   "source": [
    ">>> print(fact)\n",
    "\n"
   ]
  },
  {
   "cell_type": "code",
   "execution_count": 107,
   "metadata": {},
   "outputs": [],
   "source": [
    ">>> speech = 'Today we honor our friend, the backslash: \\\\.' "
   ]
  },
  {
   "cell_type": "code",
   "execution_count": 108,
   "metadata": {},
   "outputs": [
    {
     "name": "stdout",
     "output_type": "stream",
     "text": [
      "Today we honor our friend, the backslash: \\.\n"
     ]
    }
   ],
   "source": [
    ">>> print(speech)"
   ]
  },
  {
   "cell_type": "code",
   "execution_count": 125,
   "metadata": {},
   "outputs": [
    {
     "data": {
      "text/plain": [
       "'Release the kraken! At once!'"
      ]
     },
     "execution_count": 125,
     "metadata": {},
     "output_type": "execute_result"
    }
   ],
   "source": [
    "# 使用 + 運算子\n",
    ">>> 'Release the kraken! ' + 'At once!'\n"
   ]
  },
  {
   "cell_type": "code",
   "execution_count": 132,
   "metadata": {},
   "outputs": [
    {
     "data": {
      "text/plain": [
       "'Duck.Duck.Grey Duck!'"
      ]
     },
     "execution_count": 132,
     "metadata": {},
     "output_type": "execute_result"
    }
   ],
   "source": [
    ">>> a = 'Duck.' \n",
    "\n",
    ">>> b = a\n",
    "    \n",
    ">>> c = 'Grey Duck!' \n",
    "\n",
    ">>> a+b+c \n"
   ]
  },
  {
   "cell_type": "code",
   "execution_count": 134,
   "metadata": {},
   "outputs": [
    {
     "name": "stdout",
     "output_type": "stream",
     "text": [
      "Duck. Duck. Grey Duck!\n"
     ]
    }
   ],
   "source": [
    ">>> print(a, b, c) \n",
    "   \n",
    "    "
   ]
  },
  {
   "cell_type": "code",
   "execution_count": 1,
   "metadata": {},
   "outputs": [
    {
     "name": "stdout",
     "output_type": "stream",
     "text": [
      "35\n",
      "13\n"
     ]
    }
   ],
   "source": [
    "#資料輸入\n",
    "#輸入代表數據 輸入\n",
    "#輸入數據後可利用變數。class方式查詢變數的數據類型。\n",
    "#預設輸入的數據類型為字串\n",
    "#如果整數數據您必須加入 int( ) 轉換。\n",
    "#如果輸入浮點數或者字符串都會產生錯誤消息。\n",
    "#要想浮點數小數數據您必須加入float( ) 轉換。\n",
    "#如果輸入整數會設置浮點數處理，輸入字串會產生錯誤消息。\n",
    "# input01.py\n",
    "\n",
    "a = input(\"輸入整數1a: 3 \") \n",
    "b = input(\"輸入整數1b: 5 \") \n",
    "c = int(input(\"int輸入c: 6 \")) \n",
    "d = int(input(\"int輸入d: 7 \")) \n",
    "f=a+b\n",
    "g=c+d \n",
    "print(f)\n",
    "print(g)"
   ]
  },
  {
   "cell_type": "code",
   "execution_count": 2,
   "metadata": {},
   "outputs": [
    {
     "name": "stdout",
     "output_type": "stream",
     "text": [
      "7\n",
      "9.0\n"
     ]
    }
   ],
   "source": [
    "#資料輸出入:請動手操作，並留意輸出結果\n",
    "# input02.py\n",
    "\n",
    "c = int(input(\"int輸入c:3 \"))\n",
    "d = int(input(\"int輸入d:4 \")) \n",
    "g=c+d\n",
    "print(g)\n",
    "h = float(input(\"float輸入h:5 \"))\n",
    "i = float(input(\"float輸入i:6 \"))\n",
    "j=h+d\n",
    "print(j)"
   ]
  },
  {
   "cell_type": "code",
   "execution_count": 11,
   "metadata": {},
   "outputs": [
    {
     "name": "stdout",
     "output_type": "stream",
     "text": [
      "class <class 'str'>\n",
      "3 <class 'str'>\n",
      "2.0 <class 'float'>\n",
      "2 <class 'int'>\n",
      "123 <class 'int'>\n"
     ]
    }
   ],
   "source": [
    "#資料輸出入:請動手操作，並留意輸出結果\n",
    "# input03.py\n",
    "\n",
    "a = input(\"輸入字串: class \")\n",
    "print(a,a.__class__ )\n",
    "a = input(\"輸入整數: 3 \")\n",
    "print(a,a.__class__ )\n",
    "a = float(input(\"float輸入浮點數: 2.0 \"))\n",
    "print(a,a.__class__ )\n",
    "a = int(input(\"int輸入整數: 2 \"))\n",
    "a = int(a)  \n",
    "print(a, a.__class__)\n",
    "a = int(input(\"int輸入字串: 123 \"))\n",
    "a = int(a)  \n",
    "print(a, a.__class__)"
   ]
  },
  {
   "cell_type": "code",
   "execution_count": 13,
   "metadata": {},
   "outputs": [],
   "source": [
    "問題：下列數據輸出哪一個是錯誤的？（選擇題）\n",
    "(1) “我可以將整數添加到字符串中，例如“ + str(5) + ”。”\n",
    "(2)“我說”+(“嘿”*2)+“嘿！”\n",
    "(3) “本多項選擇題的正確答案是答案編號” + 2\n",
    "(4) True + False\n",
    "\n",
    "#3"
   ]
  },
  {
   "cell_type": "code",
   "execution_count": 12,
   "metadata": {},
   "outputs": [],
   "source": [
    "問題：請執行後面的說明哪一個是對的？（選擇題）\n",
    "a,b,c=\"pcschool\",2016,3.41\n",
    "print(b)\n",
    "(1) 2016\n",
    "(2) 3.41\n",
    "(3) 電腦學校\n",
    "\n",
    "# 1"
   ]
  },
  {
   "cell_type": "code",
   "execution_count": 11,
   "metadata": {},
   "outputs": [],
   "source": [
    "請執行後面的說明哪一個是對的？（選擇題）\n",
    "test=(\"abc\"+\"!\")*2\n",
    "print(test)\n",
    "(1) abc!2\n",
    "(2) abc! abc！(3)abc+!*2\n",
    "\n",
    "# 2"
   ]
  },
  {
   "cell_type": "code",
   "execution_count": 10,
   "metadata": {},
   "outputs": [],
   "source": [
    "問題：請問計算後Z的內容哪一個是對的？（選擇題）\n",
    "x=5\n",
    "y=7 \n",
    "z=x+y+1\n",
    "(1) 571\n",
    "(2) 1\n",
    "(3) 13\n",
    "\n",
    "#13"
   ]
  },
  {
   "cell_type": "code",
   "execution_count": 9,
   "metadata": {},
   "outputs": [],
   "source": [
    "#數值計算：請進行操作，並註意輸出結果\n",
    "#num.py\n",
    "\n",
    "a,b,c=4,2,5\n",
    "d,f=3.25,5.5\n",
    "print (a*b) \n",
    "print (a**b) \n",
    "print (a % 3) \n",
    "print (d + f) \n",
    "print (c//b) \n",
    "print (a/b)\n",
    "\n",
    "#print(a * b)  # 4 * 2 = 8\n",
    "#print(a ** b)  # 4 ^ 2 = 16\n",
    "#print(a % 3)  # 4 % 3 = 1\n",
    "#print(d + f)  # 3.25 + 5.5 = 8.75\n",
    "#print(c // b)  # 5 // 2 = 2 (整數除法，取商)\n",
    "#print(a / b)  # 4 / 2 = 2.0 (浮點數除法)\n"
   ]
  },
  {
   "cell_type": "code",
   "execution_count": 8,
   "metadata": {},
   "outputs": [],
   "source": [
    "問題：請問執行後面的說明哪一個是對的？（選擇題）\n",
    "g,h=9,3\n",
    "print(g/h)\n",
    "(1) 3 (2) 0 (3) 3.0\n",
    "\n",
    "#3.0"
   ]
  },
  {
   "cell_type": "code",
   "execution_count": 7,
   "metadata": {},
   "outputs": [],
   "source": [
    "\n",
    "#輸入被除數(整數)及除數(整數，不可以是零)\n",
    "#計劃會顯示兩數相除的商及餘數。\n",
    "#請輸入被除數(整數):45\n",
    "#請輸入除數(整數,不可以為0):4\n",
    "#商 11 餘數: 1\n",
    "\n",
    "\n",
    "# 從用戶獲取被除數和除數\n",
    "dividend = int(input(\"請輸入被除數(整數): \"))\n",
    "divisor = int(input(\"請輸入除數(整數,不可以為0): \"))\n",
    "\n",
    "# 確保除數不為零\n",
    "if divisor == 0:\n",
    "    #print(\"除數不能為零，請重新輸入。\")\n",
    "else:\n",
    "    # 計算商和餘數\n",
    "    quotient = dividend // divisor\n",
    "    remainder = dividend % divisor\n",
    "\n",
    "    # 輸出結果\n",
    "    #print(\"商:\", quotient, \"餘數:\", remainder)\n",
    "\n"
   ]
  },
  {
   "cell_type": "code",
   "execution_count": 14,
   "metadata": {},
   "outputs": [
    {
     "name": "stdout",
     "output_type": "stream",
     "text": [
      "兩個數的和是113.14\n"
     ]
    }
   ],
   "source": [
    "\n",
    "#計算輸入2個不同的數字，程序會顯示2個數字相加的總和。\n",
    "#請輸入第一個數值:45.67\n",
    "#請輸入第二個數值:67.47\n",
    "#兩個數的和是xxx.xx\n",
    "\n",
    "\n",
    "# 獲取兩個數字\n",
    "num1 = float(input(\"請輸入第一個數值: 45.67\"))\n",
    "num2 = float(input(\"請輸入第二個數值: 67.47\"))\n",
    "\n",
    "# 計算兩個數字的總和\n",
    "total = num1 + num2\n",
    "\n",
    "# 輸出結果\n",
    "print(\"兩個數的和是%.2f\" % total)\n"
   ]
  },
  {
   "cell_type": "code",
   "execution_count": 5,
   "metadata": {},
   "outputs": [],
   "source": [
    "複合設計塗層\n",
    "當「=」左右兩邊是相同資料時可以使用專業方式：\n",
    "省略「=」右邊相同數據。\n",
    "將「=」右邊的計算符號移到「=」左邊。\n",
    "例如以下操作方式可更改\n",
    "x=x+2，可專業為x+=2\n",
    "y=y-3，可專業為y-=3\n"
   ]
  },
  {
   "cell_type": "code",
   "execution_count": 29,
   "metadata": {},
   "outputs": [
    {
     "name": "stdout",
     "output_type": "stream",
     "text": [
      "剩餘款為:0\n"
     ]
    }
   ],
   "source": [
    "#money.py\n",
    "money = 50000 \n",
    "cell = int(input(\"請輸入手機金額:50000\"))\n",
    "money -= cell\n",
    "print(\"剩餘款為:\" + str(money)) \n",
    "\n",
    "\n"
   ]
  },
  {
   "cell_type": "code",
   "execution_count": 28,
   "metadata": {},
   "outputs": [
    {
     "name": "stdout",
     "output_type": "stream",
     "text": [
      "此數的平方是: 4.0\n",
      "此數的立方是: 8.0\n"
     ]
    }
   ],
   "source": [
    "\n",
    "#輸入任意一個數字，方案會顯示該數字的平方值及立方值\n",
    "#請輸入任意數:3\n",
    "#此數的平方是:9.0\n",
    "#此數的立方是:27.0\n",
    "\n",
    "\n",
    "#python\n",
    "# 從用戶獲取一個數字\n",
    "num = float(input(\"請輸入任意數: 2 \"))\n",
    "\n",
    "# 計算該數字的平方和立方\n",
    "square = num ** 2\n",
    "cube = num ** 3\n",
    "\n",
    "# 輸出結果\n",
    "print(\"此數的平方是:\", square)\n",
    "print(\"此數的立方是:\", cube)\n",
    "\n"
   ]
  },
  {
   "cell_type": "code",
   "execution_count": 36,
   "metadata": {},
   "outputs": [
    {
     "name": "stdout",
     "output_type": "stream",
     "text": [
      "三個數的總和為: 220.4\n"
     ]
    }
   ],
   "source": [
    "#請以程序（複合進攻指定子）設計，讓使用者輸入三個不同的數，程序會顯示3個數相加的總和（float）\n",
    "#請輸入第一個數:87.9\n",
    "#請輸入第二個數:45\n",
    "#請輸入等三個數:87.5\n",
    "#三個數的總和為:220.4\n",
    "\n",
    "\n",
    "# 從用戶獲取三個不同的數字\n",
    "num1 = float(input(\"請輸入第一個數: 87.9 \"))\n",
    "num2 = float(input(\"請輸入第二個數: 45 \"))\n",
    "num3 = float(input(\"請輸入第三個數: 87.5 \"))\n",
    "total = num1 + num2 + num3\n",
    "print(f\"三個數的總和為: {total}\")"
   ]
  },
  {
   "cell_type": "code",
   "execution_count": 35,
   "metadata": {},
   "outputs": [
    {
     "name": "stdout",
     "output_type": "stream",
     "text": [
      "梯形的面積: 15.0平方公分\n"
     ]
    }
   ],
   "source": [
    "#輸入梯形的上底、下底及高，程序會計算梯形的面積(上底加下底乘以高除以2)\n",
    "#輸入梯形的上底(公分):5\n",
    "#請輸入梯形的下底(公分):10\n",
    "#請輸入梯形的高(公分):2\n",
    "#梯形的面積:15平方公分\n",
    "\n",
    "\n",
    "# 從用戶獲取梯形的上底、下底和高\n",
    "upper_base = float(input(\"請輸入梯形的上底(公分): 5 \"))\n",
    "lower_base = float(input(\"請輸入梯形的下底(公分): 10 \"))\n",
    "height = float(input(\"請輸入梯形的高(公分): 2 \"))\n",
    "\n",
    "# 計算梯形的面積\n",
    "area = (upper_base + lower_base) * height / 2\n",
    "\n",
    "# 輸出結果\n",
    "print(\"梯形的面積: {}平方公分\".format(area))\n"
   ]
  },
  {
   "cell_type": "code",
   "execution_count": 41,
   "metadata": {},
   "outputs": [
    {
     "name": "stdout",
     "output_type": "stream",
     "text": [
      "圓柱體的體積:1570.7963267948967立方公分\n"
     ]
    }
   ],
   "source": [
    "#輸入圓柱體的半徑及高，程序會計算圓柱體的體積\n",
    "#圓柱體體積的公式為「圓周率乘以半徑平方再乘以高」。\n",
    "#請輸入圓柱體的半徑(公分):10\n",
    "#請輸入圓柱體的高(公分):5\n",
    "#圓柱體的體積:xxxx立方公分\n",
    "\n",
    "radius = float(input(\"請輸入圓柱體的半徑(公分): 10\"))\n",
    "height = float(input(\"請輸入圓柱體的高(公分): 5\"))\n",
    "\n",
    "# 計算圓柱體的體積\n",
    "import math\n",
    "volume = math.pi * radius**2 * height\n",
    "\n",
    "# 顯示結果\n",
    "print(f\"圓柱體的體積:{volume}立方公分\")\n",
    "\n",
    "\n",
    "\n"
   ]
  },
  {
   "cell_type": "code",
   "execution_count": 42,
   "metadata": {},
   "outputs": [
    {
     "name": "stdout",
     "output_type": "stream",
     "text": [
      "直角三角形的角度為: 30.00degree\n"
     ]
    }
   ],
   "source": [
    "#輸入直角三角形的對邊\n",
    "#輸入直角三角形的斜邊\n",
    "#計算角度\n",
    "#公式：\n",
    "#sin(x) = 對邊 / 斜邊\n",
    "#x是弧度(弧度)\n",
    "#請輸入對邊:2.5\n",
    "#請輸入斜邊:5\n",
    "#直角三角形的角度為:30degree\n",
    "\n",
    "\n",
    "\n",
    "#對邊和斜邊的長度\n",
    "opposite = float(input(\"請輸入對邊: 2.5 \"))\n",
    "hypotenuse = float(input(\"請輸入斜邊: 5 \"))\n",
    "\n",
    "# 使用反正弦函數計算角度（以弧度為單位）\n",
    "angle_radians = math.asin(opposite / hypotenuse)\n",
    "\n",
    "# 將弧度轉換為度\n",
    "angle_degrees = math.degrees(angle_radians)\n",
    "\n",
    "# 輸出結果\n",
    "print(\"直角三角形的角度為: {:.2f}degree\".format(angle_degrees))\n",
    "\n",
    "\n",
    "\n",
    "\n",
    "\n",
    "\n"
   ]
  }
 ],
 "metadata": {
  "kernelspec": {
   "display_name": ".venv",
   "language": "python",
   "name": "python3"
  },
  "language_info": {
   "codemirror_mode": {
    "name": "ipython",
    "version": 3
   },
   "file_extension": ".py",
   "mimetype": "text/x-python",
   "name": "python",
   "nbconvert_exporter": "python",
   "pygments_lexer": "ipython3",
   "version": "3.10.8"
  },
  "orig_nbformat": 4
 },
 "nbformat": 4,
 "nbformat_minor": 2
}
