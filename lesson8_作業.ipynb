{
 "cells": [
  {
   "cell_type": "markdown",
   "metadata": {},
   "source": [
    "## 求所有因數\n",
    "\n",
    "```\n",
    "num = int(input(\"請輸入整數，求所有因數:\"))\n",
    "print(num,\"的因數:\")\n",
    "```"
   ]
  },
  {
   "cell_type": "markdown",
   "metadata": {},
   "source": [
    "## 求公因數\n",
    "\n",
    "```\n",
    "print(\"請輸入2數,求2數公因數:\")\n",
    "n = int(input('請輸入第1個數:'))\n",
    "m = int(input('請輸入第2個數:'))\n",
    "```"
   ]
  },
  {
   "cell_type": "markdown",
   "metadata": {},
   "source": [
    "## 2~100,每一個的質數\n",
    "\n",
    "```\n",
    "end = int(input(\"請輸入end值:\"))\n",
    "print(f\"1到{end}的質數是:\")\n",
    "```"
   ]
  }
 ],
 "metadata": {
  "kernelspec": {
   "display_name": "venv",
   "language": "python",
   "name": "python3"
  },
  "language_info": {
   "name": "python",
   "version": "3.10.8"
  },
  "orig_nbformat": 4
 },
 "nbformat": 4,
 "nbformat_minor": 2
}
